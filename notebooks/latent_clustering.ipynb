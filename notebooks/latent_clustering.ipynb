{
 "cells": [
  {
   "cell_type": "code",
   "execution_count": 1,
   "id": "65e6ad84",
   "metadata": {},
   "outputs": [],
   "source": [
    "import torch\n",
    "from tqdm import tqdm\n",
    "import torch.nn.functional as F\n",
    "import random\n",
    "import matplotlib.pyplot as plt\n",
    "import torchvision.transforms.functional as TF\n",
    "import imageio\n",
    "from torchvision.utils import save_image\n",
    "import tqdm\n",
    "%load_ext autoreload\n",
    "%autoreload 2\n",
    "import sys\n",
    "sys.path.append(\"../\")\n",
    "from data.FloorPlanLoader import *\n",
    "from model.VQAE import VQAE\n",
    "from utils import *\n",
    "from train import *\n",
    "import csv\\\n",
    "\n",
    "#Reproducability Checks:\n",
    "random.seed(0) #Python\n",
    "torch.manual_seed(0) #Torch\n",
    "np.random.seed(0) #NumPy"
   ]
  },
  {
   "cell_type": "code",
   "execution_count": 3,
   "id": "28352b5f",
   "metadata": {},
   "outputs": [],
   "source": [
    "#Hyperparameter\n",
    "device = 'cpu'\n",
    "batch_size = 128\n",
    "n_hiddens = 32\n",
    "n_residual_hiddens = 32\n",
    "n_residual_layers = 1\n",
    "embedding_dim = 64\n",
    "n_embeddings = 218\n",
    "beta = .25\n",
    "lr = 3e-3\n",
    "noise=False\n",
    "noise_weight=0.05\n",
    "img_channel=3\n",
    "vqvae = VQAE(n_hiddens, n_residual_hiddens, n_residual_layers,\n",
    "                n_embeddings, embedding_dim, \n",
    "                beta, img_channel).to(device)\n",
    "vqvae.load_state_dict(torch.load(\"../best_checkpoint/45-vqae-0.06130623703367973.pt\"))\n",
    "for param in vqvae.parameters():\n",
    "    param.to('cpu')"
   ]
  },
  {
   "cell_type": "code",
   "execution_count": 4,
   "id": "71c9dd41-cfe6-43fe-9389-fe41c76c30b2",
   "metadata": {},
   "outputs": [],
   "source": [
    "#Load Dataset\n",
    "floor = FloorPlanDataset(multi_scale=True, root='../data/data_root/data00/',\\\n",
    "                         data_config='../data/data_config/', preprocess=True)\n",
    "data_loader = torch.utils.data.DataLoader(floor, batch_size=218, shuffle=False)"
   ]
  },
  {
   "cell_type": "code",
   "execution_count": 5,
   "id": "f3301c9d",
   "metadata": {},
   "outputs": [
    {
     "name": "stderr",
     "output_type": "stream",
     "text": [
      "100%|████████████████████████████████████████████████████████████████████████████████| 106/106 [03:01<00:00,  1.72s/it]\n"
     ]
    }
   ],
   "source": [
    "vqvae.eval()\n",
    "latents = None\n",
    "with torch.no_grad():\n",
    "    for data in tqdm(data_loader):\n",
    "        data = data['image_tensor'].to(device)\n",
    "        embedding_loss, quantized, perplexity, _ = vqvae.vector_quantization(data)\n",
    "        if latents is not None:\n",
    "            latents = torch.cat([latents, quantized], dim=0)\n",
    "        else: \n",
    "            latents = quantized"
   ]
  },
  {
   "cell_type": "markdown",
   "id": "5b477f67",
   "metadata": {},
   "source": [
    "# Embedding Space Visualization"
   ]
  },
  {
   "cell_type": "code",
   "execution_count": 6,
   "id": "d1e2e972",
   "metadata": {},
   "outputs": [],
   "source": [
    "import numpy\n",
    "from sklearn.manifold import TSNE\n",
    "import matplotlib.pyplot as plt\n",
    "from mpl_toolkits import mplot3d\n",
    "# device = torch.device('cuda' if torch.cuda.is_available() else 'cpu')\n",
    "device = 'cpu'"
   ]
  },
  {
   "cell_type": "markdown",
   "id": "709d71fc",
   "metadata": {},
   "source": [
    "# Visualize the latent"
   ]
  },
  {
   "cell_type": "code",
   "execution_count": null,
   "id": "ce9c0183-c9c9-4e91-ab67-16bc8960bcbe",
   "metadata": {},
   "outputs": [],
   "source": [
    "tsne = TSNE(n_components=2)\n",
    "# apply t-SNE to data\n",
    "data_2d = tsne.fit_transform(torch.flatten(latents, start_dim=1).cpu())"
   ]
  },
  {
   "cell_type": "code",
   "execution_count": 11,
   "id": "acfc3c7e",
   "metadata": {},
   "outputs": [
    {
     "data": {
      "image/png": "[encoded data removed]",
      "text/plain": [
       "<Figure size 432x288 with 1 Axes>"
      ]
     },
     "metadata": {
      "needs_background": "light"
     },
     "output_type": "display_data"
    }
   ],
   "source": [
    "# Create a figure and a 3D axes object\n",
    "fig = plt.figure()\n",
    "ax = fig.add_subplot(111)\n",
    "\n",
    "# Create the initial scatter plot\n",
    "ax.scatter(data_2d[:, 0], data_2d[:, 1], s=0.5)\n",
    "\n",
    "# Show the plot\n",
    "plt.show()"
   ]
  },
  {
   "cell_type": "markdown",
   "id": "f39f55a2",
   "metadata": {},
   "source": [
    "### Clustering"
   ]
  },
  {
   "cell_type": "code",
   "execution_count": 12,
   "id": "02f9e8a4-c5a0-4c60-9c5e-db692cf04fe0",
   "metadata": {},
   "outputs": [],
   "source": [
    "#Import required module\n",
    "from sklearn.cluster import KMeans\n",
    "from sklearn.metrics import pairwise_distances_argmin_min\n",
    "import pandas as pd\n",
    "import seaborn as sns"
   ]
  },
  {
   "cell_type": "code",
   "execution_count": 13,
   "id": "fd3a5dd9-723e-4478-aee8-ec0c21d36218",
   "metadata": {},
   "outputs": [
    {
     "data": {
      "text/plain": [
       "array([-45.930283,  -4.600924], dtype=float32)"
      ]
     },
     "execution_count": 13,
     "metadata": {},
     "output_type": "execute_result"
    }
   ],
   "source": [
    "data_2d[0]"
   ]
  },
  {
   "cell_type": "code",
   "execution_count": 14,
   "id": "e19e9572",
   "metadata": {},
   "outputs": [
    {
     "name": "stdout",
     "output_type": "stream",
     "text": [
      "(16, 12544) torch.Size([2138, 12544])\n",
      "[ 248 1721  608  816  177 1310  761 1758 1153  409  814  915  834  185\n",
      " 1597  896]\n"
     ]
    },
    {
     "name": "stderr",
     "output_type": "stream",
     "text": [
      "<string>:6: FutureWarning: Promotion of numbers and bools to strings is deprecated. In the future, code such as `np.concatenate((['string'], [0]))` will raise an error, while `np.asarray(['string', 0])` will return an array with `dtype=object`.  To avoid the warning while retaining a string result use `dtype='U'` (or 'S').  To get an array of Python objects use `dtype=object`. (Warning added in NumPy 1.21)\n"
     ]
    },
    {
     "data": {
      "image/png": "[encoded data removed]",
      "text/plain": [
       "<Figure size 720x576 with 1 Axes>"
      ]
     },
     "metadata": {
      "needs_background": "light"
     },
     "output_type": "display_data"
    }
   ],
   "source": [
    "def cluster(latents, data_2d, n_clusters):\n",
    "    #Initialize the class object\n",
    "    kmeans = KMeans(n_clusters=n_clusters)\n",
    "    \n",
    "    data = torch.flatten(latents, start_dim=1).cpu()\n",
    "    #predict the labels of clusters.\n",
    "    label = kmeans.fit_predict(data)\n",
    "    \n",
    "    # get cluster centers\n",
    "    cluster_centers = kmeans.cluster_centers_\n",
    "    closest, _ = pairwise_distances_argmin_min(cluster_centers, data)\n",
    "    print(cluster_centers.shape, data.shape)\n",
    "    \n",
    "    # Save closest points and cluster centers to CSV\n",
    "    df_center = pd.DataFrame({'Cluster Center': cluster_centers.tolist(), 'Closest Point Index': closest})\n",
    "    df_center.to_csv(f'../results/clustercenter/{n_clusters}cluster_centers.csv', index=False)\n",
    "\n",
    "    #Getting unique labels\n",
    "    plt.figure(figsize=(10, 8))\n",
    "    u_labels = np.unique(label)\n",
    "    num_labels = len(u_labels)\n",
    "    color_palette = sns.color_palette('husl', num_labels)\n",
    "\n",
    "    #plotting the results:\n",
    "    # plt.legend()\n",
    "    \n",
    "    center_list = closest\n",
    "    print(center_list)\n",
    "    \n",
    "    for i, each in enumerate(center_list):\n",
    "        plt.scatter(data_2d[each][0],data_2d[each][1], s=20, c=[color_palette[i]])\n",
    "        plt.annotate(each, (data_2d[each][0],data_2d[each][1]), ha=\"center\", va=\"center\", xytext=(0,10), textcoords='offset points')\n",
    "    for i in u_labels:\n",
    "        plt.scatter(data_2d[label == i , 0] , data_2d[label == i , 1] , label = i, s=0.5, c=[color_palette[i]],alpha=0.5)\n",
    "        \n",
    "    plt.axis('off')\n",
    "    plt.savefig('{n_clusters}_kmeans.png')\n",
    "    df = np.stack((label, floor.all_data_dirs)).transpose()\n",
    "    df = pd.DataFrame(df,columns=['label','data'])\n",
    "\n",
    "    for i in u_labels:\n",
    "        df.loc[df['label']==str(i)].to_csv(f'../results/{n_clusters}cluster{i}_{closest[i]}.csv',index=False)\n",
    "        \n",
    "    return kmeans, label\n",
    "        \n",
    "n_clusters=16\n",
    "kmeans, label = cluster(latents, data_2d, n_clusters)"
   ]
  },
  {
   "cell_type": "markdown",
   "id": "35c52f87-7aee-4993-a4ac-fc4f7f8570d6",
   "metadata": {},
   "source": [
    "## Visualize the cluster center"
   ]
  },
  {
   "cell_type": "code",
   "execution_count": 15,
   "id": "5dd4ac5e-c064-4f1c-953b-98f24f30798e",
   "metadata": {},
   "outputs": [
    {
     "data": {
      "text/plain": [
       "[248,\n",
       " 1721,\n",
       " 608,\n",
       " 816,\n",
       " 177,\n",
       " 1310,\n",
       " 761,\n",
       " 1758,\n",
       " 1153,\n",
       " 409,\n",
       " 814,\n",
       " 915,\n",
       " 834,\n",
       " 185,\n",
       " 1597,\n",
       " 896]"
      ]
     },
     "execution_count": 15,
     "metadata": {},
     "output_type": "execute_result"
    }
   ],
   "source": [
    "cluster_count = n_clusters\n",
    "file_path = f\"../results/clustercenter/{cluster_count}cluster_centers.csv\"\n",
    "indexes = pd.read_csv(file_path)['Closest Point Index'].tolist()\n",
    "indexes"
   ]
  },
  {
   "cell_type": "code",
   "execution_count": 16,
   "id": "ca8959cb-c15b-4e5a-81bd-7d34be8203b9",
   "metadata": {},
   "outputs": [],
   "source": [
    "def scale_crop(img): #B,C,H,W\n",
    "    rescale = transforms.Compose([transforms.Resize(112),\n",
    "                                  transforms.CenterCrop(56)])\n",
    "    return rescale(img)"
   ]
  },
  {
   "cell_type": "code",
   "execution_count": 17,
   "id": "b1565e02-1aec-47f6-aaf0-1bbaa5e34dc4",
   "metadata": {},
   "outputs": [
    {
     "data": {
      "image/png": "[encoded data removed]",
      "text/plain": [
       "<Figure size 576x216 with 16 Axes>"
      ]
     },
     "metadata": {
      "needs_background": "light"
     },
     "output_type": "display_data"
    }
   ],
   "source": [
    "# Create a figure and axes with five subplots\n",
    "fig, axes = plt.subplots(1, cluster_count, figsize=(8,3))\n",
    "image_size = 112\n",
    "crop_size = 56\n",
    "# Iterate over the five subplots\n",
    "for i, index in enumerate(indexes):\n",
    "    image_path = floor.all_data_dirs[index]\n",
    "    # Read the image using matplotlib's imread\n",
    "    image = torch.load(image_path)\n",
    "    scaled = scale_crop(image)\n",
    "    # Display the image in the corresponding subplot\n",
    "    image_array = scaled.squeeze().numpy()\n",
    "    axes[i].imshow(image_array, cmap='gray')\n",
    "    axes[i].set_title(f\"{index}\")\n",
    "    axes[i].axis('off')\n",
    "\n",
    "# Adjust the spacing between subplots\n",
    "plt.tight_layout()\n",
    "\n",
    "# Show the plot\n",
    "plt.savefig(\"../results/recon_img/{cluster_count}cluster_sample.png\")"
   ]
  },
  {
   "cell_type": "code",
   "execution_count": 21,
   "id": "a304d8cd",
   "metadata": {},
   "outputs": [
    {
     "data": {
      "text/plain": [
       "'../data/floorplan_crop/350.pt'"
      ]
     },
     "execution_count": 21,
     "metadata": {},
     "output_type": "execute_result"
    }
   ],
   "source": [
    "floor.all_data_dirs[248]"
   ]
  },
  {
   "cell_type": "markdown",
   "id": "abcb637d",
   "metadata": {
    "tags": []
   },
   "source": [
    "# Visualize and Save Reconstruction Image"
   ]
  },
  {
   "cell_type": "code",
   "execution_count": 19,
   "id": "735a47a1",
   "metadata": {},
   "outputs": [
    {
     "name": "stderr",
     "output_type": "stream",
     "text": [
      "Clipping input data to the valid range for imshow with RGB data ([0..1] for floats or [0..255] for integers).\n"
     ]
    },
    {
     "data": {
      "image/png": "[encoded data removed]",
      "text/plain": [
       "<Figure size 432x288 with 1 Axes>"
      ]
     },
     "metadata": {
      "needs_background": "light"
     },
     "output_type": "display_data"
    }
   ],
   "source": [
    "latent_centers = torch.from_numpy(kmeans.cluster_centers_.reshape(n_clusters, 64, 14, 14).astype('float32')).to(device)\n",
    "vqae.eval()\n",
    "valid_recon = vqae.decoder(latent_centers)\n",
    "def show(img, title):\n",
    "    npimg = img.numpy()\n",
    "    fig = plt.imshow(np.transpose(npimg, (1,2,0)), interpolation='nearest')\n",
    "    fig.axes.get_xaxis().set_visible(False)\n",
    "    fig.axes.get_yaxis().set_visible(False)\n",
    "    fig.axes.set_title(title)\n",
    "plt.figure()  # Create a new plot\n",
    "show(torchvision.utils.make_grid(valid_recon.cpu().data) + 0.5, \"VQ-VAE Reconstructed\")\n",
    "plt.savefig(f\"{n_clusters}_VQrecon.png\", bbox_inches='tight')"
   ]
  },
  {
   "cell_type": "code",
   "execution_count": 20,
   "id": "1d613f20",
   "metadata": {},
   "outputs": [
    {
     "name": "stdout",
     "output_type": "stream",
     "text": [
      "save to results/recon_img/*.jpg\n"
     ]
    }
   ],
   "source": [
    "def rescale_img(img): #B,C,H,W\n",
    "    rescale = transforms.Compose([transforms.Resize(112),\n",
    "                                  transforms.Pad(56, fill=1.0)])\n",
    "    return rescale(img)\n",
    "rescaled_recon = rescale_img(valid_recon+0.5)\n",
    "\n",
    "for i in range(rescaled_recon.shape[0]):\n",
    "    save_image(rescaled_recon[i], f'../results/recon_img/{n_clusters}cluster-img{i}.jpg')\n",
    "    \n",
    "print('save to results/recon_img/*.jpg')"
   ]
  },
  {
   "cell_type": "markdown",
   "id": "c8cdc612-c323-4665-aee3-b27a48c8960f",
   "metadata": {},
   "source": [
    "## For rhino mapping-back "
   ]
  },
  {
   "cell_type": "code",
   "execution_count": 22,
   "id": "c2e0ccee-ef56-4e5e-b4c2-1294b1a0817c",
   "metadata": {},
   "outputs": [],
   "source": [
    "import glob\n",
    "import cv2\n",
    "import os\n",
    "import numpy as np\n",
    "import torchvision.transforms.functional as TF\n",
    "import imageio\n",
    "import matplotlib.pyplot as plt"
   ]
  },
  {
   "cell_type": "code",
   "execution_count": 23,
   "id": "9c3f601b-527d-4529-acec-164929cda902",
   "metadata": {},
   "outputs": [
    {
     "name": "stdout",
     "output_type": "stream",
     "text": [
      "5cluster-img0.jpg\n",
      "5cluster-img0_rectangle.jpg\n",
      "5cluster-img1.jpg\n",
      "5cluster-img1_rectangle.jpg\n",
      "5cluster-img2.jpg\n",
      "5cluster-img2_rectangle.jpg\n",
      "5cluster-img3.jpg\n",
      "5cluster-img3_rectangle.jpg\n",
      "5cluster-img4.jpg\n",
      "5cluster-img4_rectangle.jpg\n"
     ]
    }
   ],
   "source": [
    "folder_path = \"../results/recon_img/\"  \n",
    "img_files = []\n",
    "for filename in os.listdir(folder_path):\n",
    "    if \"5cluster\" in filename:\n",
    "        print(filename)\n",
    "        img_files.append(filename)"
   ]
  },
  {
   "cell_type": "code",
   "execution_count": 24,
   "id": "91989926",
   "metadata": {},
   "outputs": [
    {
     "name": "stdout",
     "output_type": "stream",
     "text": [
      "5cluster-img0.jpg\n",
      "224 224 3\n",
      "../results/recon_img/5cluster-img0_rectangle.jpg\n",
      "5cluster-img0_rectangle.jpg\n",
      "224 224 3\n",
      "../results/recon_img/5cluster-img0_rectangle_rectangle.jpg\n",
      "5cluster-img1.jpg\n",
      "224 224 3\n",
      "../results/recon_img/5cluster-img1_rectangle.jpg\n",
      "5cluster-img1_rectangle.jpg\n",
      "224 224 3\n",
      "../results/recon_img/5cluster-img1_rectangle_rectangle.jpg\n",
      "5cluster-img2.jpg\n",
      "224 224 3\n",
      "../results/recon_img/5cluster-img2_rectangle.jpg\n",
      "5cluster-img2_rectangle.jpg\n",
      "224 224 3\n",
      "../results/recon_img/5cluster-img2_rectangle_rectangle.jpg\n",
      "5cluster-img3.jpg\n",
      "224 224 3\n",
      "../results/recon_img/5cluster-img3_rectangle.jpg\n",
      "5cluster-img3_rectangle.jpg\n",
      "224 224 3\n",
      "../results/recon_img/5cluster-img3_rectangle_rectangle.jpg\n",
      "5cluster-img4.jpg\n",
      "224 224 3\n",
      "../results/recon_img/5cluster-img4_rectangle.jpg\n",
      "5cluster-img4_rectangle.jpg\n",
      "224 224 3\n",
      "../results/recon_img/5cluster-img4_rectangle_rectangle.jpg\n"
     ]
    }
   ],
   "source": [
    "def calc_height(image_path):\n",
    "    print(image_path)\n",
    "    fullpath = f\"../results/recon_img/\"+str(image_path)\n",
    "    image = cv2.imread(fullpath)\n",
    "    height, width, channels = image.shape\n",
    "    print(height, width, channels)\n",
    "    \n",
    "    # Calculate the starting and ending indices for the central region\n",
    "    start = (height - central_region_size) // 2\n",
    "    end = start + central_region_size\n",
    "    \n",
    "    # Get the average pixel value in the central region for each channel\n",
    "    central_region = image[start:end, start:end, :]\n",
    "    average_pixel_value = np.mean(central_region, axis=(0,1))\n",
    "    \n",
    "    # Draw a red rectangle around the central region\n",
    "    img_with_rectangle = np.copy(image)\n",
    "    cv2.rectangle(img_with_rectangle, (start, start), (end, end), (0, 0, 255), 2)  # Draw red rectangle\n",
    "    \n",
    "    # Save the image with the red rectangle\n",
    "    image_with_rectangle_path = fullpath.replace(\".jpg\", \"_rectangle.jpg\")  # Update the path as per your requirement\n",
    "    imageio.imwrite(image_with_rectangle_path, img_with_rectangle)\n",
    "    print(image_with_rectangle_path)\n",
    "    return average_pixel_value\n",
    "\n",
    "central_region_size = 10\n",
    "height_info = []\n",
    "for image_path in img_files:\n",
    "    average_pixel_value = calc_height(image_path)\n",
    "    height_info.append(average_pixel_value[0])"
   ]
  },
  {
   "cell_type": "code",
   "execution_count": 25,
   "id": "53620474-4254-4c5c-ab59-1925a0f2cb4f",
   "metadata": {},
   "outputs": [
    {
     "data": {
      "text/plain": [
       "[170.12, 206.37, 176.69, 209.12, 132.11, 187.8, 177.97, 206.41, 213.68, 217.87]"
      ]
     },
     "execution_count": 25,
     "metadata": {},
     "output_type": "execute_result"
    }
   ],
   "source": [
    "height_info"
   ]
  },
  {
   "cell_type": "code",
   "execution_count": 26,
   "id": "69b2f48b-1746-4288-ac6c-087d09fb9170",
   "metadata": {},
   "outputs": [],
   "source": [
    "# Loop through each image\n",
    "image_paths = glob.glob('recon_img/*.png')\n",
    "lower_thres = 0.3\n",
    "higher_thres = 0.7\n",
    "for image_path in image_paths:\n",
    "    image = cv2.imread(image_path)\n",
    "    gray = cv2.cvtColor(image, cv2.COLOR_BGR2GRAY)\n",
    "    gray = cv2.convertScaleAbs(gray)\n",
    "    edges = cv2.Canny(gray, lower_thres, higher_thres)  # Adjust the threshold values as needed\n",
    "\n",
    "    # Save the edge image\n",
    "    filename = os.path.splitext(os.path.basename(image_path))[0]  # Extract the filename without extension\n",
    "    edge_image_path = f'edge_img/{filename}_edge.jpg'\n",
    "    cv2.imwrite(edge_image_path, edges)"
   ]
  },
  {
   "cell_type": "code",
   "execution_count": null,
   "id": "edb08189-b70c-482f-94d5-8938134bc901",
   "metadata": {},
   "outputs": [],
   "source": []
  }
 ],
 "metadata": {
  "kernelspec": {
   "display_name": "Python 3 (ipykernel)",
   "language": "python",
   "name": "python3"
  },
  "language_info": {
   "codemirror_mode": {
    "name": "ipython",
    "version": 3
   },
   "file_extension": ".py",
   "mimetype": "text/x-python",
   "name": "python",
   "nbconvert_exporter": "python",
   "pygments_lexer": "ipython3",
   "version": "3.9.12"
  }
 },
 "nbformat": 4,
 "nbformat_minor": 5
}
