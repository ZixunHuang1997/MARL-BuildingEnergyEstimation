{
 "cells": [
  {
   "cell_type": "code",
   "execution_count": 1,
   "id": "5032600a-900d-402d-a27f-e1039ada3c8c",
   "metadata": {},
   "outputs": [],
   "source": [
    "import pyreadr\n",
    "\n",
    "result = pyreadr.read_r('../data/prototype.area.rda') # also works for Rds, rda\n"
   ]
  },
  {
   "cell_type": "code",
   "execution_count": 5,
   "id": "cf98f991-fb68-45cd-b2cd-1800f2d96e88",
   "metadata": {},
   "outputs": [
    {
     "name": "stdout",
     "output_type": "stream",
     "text": [
      "odict_keys(['prototype.area'])\n"
     ]
    }
   ],
   "source": [
    "\n",
    "# done! let's see what we got\n",
    "# result is a dictionary where keys are the name of objects and the values python\n",
    "# objects\n",
    "print(result.keys()) # let's check what objects we got\n",
    "df1 = result[\"prototype.area\"] # extract the pandas data frame for object df1\n",
    "df1.to_csv(\"protype_area.csv\", index=None)"
   ]
  },
  {
   "cell_type": "code",
   "execution_count": null,
   "id": "89dec3d9-375b-4606-9372-917d6a475278",
   "metadata": {},
   "outputs": [],
   "source": []
  }
 ],
 "metadata": {
  "kernelspec": {
   "display_name": "Python 3 (ipykernel)",
   "language": "python",
   "name": "python3"
  },
  "language_info": {
   "codemirror_mode": {
    "name": "ipython",
    "version": 3
   },
   "file_extension": ".py",
   "mimetype": "text/x-python",
   "name": "python",
   "nbconvert_exporter": "python",
   "pygments_lexer": "ipython3",
   "version": "3.9.12"
  }
 },
 "nbformat": 4,
 "nbformat_minor": 5
}
