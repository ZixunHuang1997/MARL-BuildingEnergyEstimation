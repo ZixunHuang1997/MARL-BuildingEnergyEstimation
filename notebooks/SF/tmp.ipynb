{
 "cells": [
  {
   "cell_type": "code",
   "execution_count": 2,
   "id": "f9af4451-56c9-4232-b8c9-e141a0c26d0a",
   "metadata": {},
   "outputs": [],
   "source": [
    "import pandas as pd\n",
    "import geopandas as gpd"
   ]
  },
  {
   "cell_type": "code",
   "execution_count": 6,
   "id": "9041409b-5188-4bc4-a2f0-77d266fa4aeb",
   "metadata": {},
   "outputs": [
    {
     "data": {
      "text/html": [
       "<div>\n",
       "<style scoped>\n",
       "    .dataframe tbody tr th:only-of-type {\n",
       "        vertical-align: middle;\n",
       "    }\n",
       "\n",
       "    .dataframe tbody tr th {\n",
       "        vertical-align: top;\n",
       "    }\n",
       "\n",
       "    .dataframe thead th {\n",
       "        text-align: right;\n",
       "    }\n",
       "</style>\n",
       "<table border=\"1\" class=\"dataframe\">\n",
       "  <thead>\n",
       "    <tr style=\"text-align: right;\">\n",
       "      <th></th>\n",
       "      <th>sf16_bldgid</th>\n",
       "      <th>hgt_median_m</th>\n",
       "      <th>yrbuilt</th>\n",
       "      <th>landuse</th>\n",
       "      <th>geometry</th>\n",
       "    </tr>\n",
       "  </thead>\n",
       "  <tbody>\n",
       "    <tr>\n",
       "      <th>0</th>\n",
       "      <td>201006.0032287</td>\n",
       "      <td>7.81</td>\n",
       "      <td>1919</td>\n",
       "      <td>RESIDENT</td>\n",
       "      <td>MULTIPOLYGON (((-122.48957 37.78476, -122.4897...</td>\n",
       "    </tr>\n",
       "    <tr>\n",
       "      <th>1</th>\n",
       "      <td>201006.0032309</td>\n",
       "      <td>7.29</td>\n",
       "      <td>1922</td>\n",
       "      <td>RESIDENT</td>\n",
       "      <td>MULTIPOLYGON (((-122.50322 37.77798, -122.5031...</td>\n",
       "    </tr>\n",
       "  </tbody>\n",
       "</table>\n",
       "</div>"
      ],
      "text/plain": [
       "      sf16_bldgid  hgt_median_m yrbuilt   landuse  \\\n",
       "0  201006.0032287          7.81    1919  RESIDENT   \n",
       "1  201006.0032309          7.29    1922  RESIDENT   \n",
       "\n",
       "                                            geometry  \n",
       "0  MULTIPOLYGON (((-122.48957 37.78476, -122.4897...  \n",
       "1  MULTIPOLYGON (((-122.50322 37.77798, -122.5031...  "
      ]
     },
     "execution_count": 6,
     "metadata": {},
     "output_type": "execute_result"
    }
   ],
   "source": [
    "df = gpd.read_file('../data/data_root/zone_0_3.geojson')\n",
    "df.head(2)"
   ]
  },
  {
   "cell_type": "code",
   "execution_count": 7,
   "id": "91967af0-63d5-4661-aa94-d293fb441cb0",
   "metadata": {},
   "outputs": [
    {
     "data": {
      "text/plain": [
       "Index(['sf16_bldgid', 'hgt_median_m', 'yrbuilt', 'landuse', 'geometry'], dtype='object')"
      ]
     },
     "execution_count": 7,
     "metadata": {},
     "output_type": "execute_result"
    }
   ],
   "source": [
    "df.columns"
   ]
  },
  {
   "cell_type": "code",
   "execution_count": null,
   "id": "538ba755-085f-4d08-8b70-9ac88023bc5b",
   "metadata": {},
   "outputs": [],
   "source": []
  }
 ],
 "metadata": {
  "kernelspec": {
   "display_name": "Python 3 (ipykernel)",
   "language": "python",
   "name": "python3"
  },
  "language_info": {
   "codemirror_mode": {
    "name": "ipython",
    "version": 3
   },
   "file_extension": ".py",
   "mimetype": "text/x-python",
   "name": "python",
   "nbconvert_exporter": "python",
   "pygments_lexer": "ipython3",
   "version": "3.9.12"
  }
 },
 "nbformat": 4,
 "nbformat_minor": 5
}
