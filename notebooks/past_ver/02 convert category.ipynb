{
 "cells": [
  {
   "cell_type": "code",
   "execution_count": 1,
   "id": "796d69f1-8268-45d8-aec0-cdd9178dbbe0",
   "metadata": {},
   "outputs": [],
   "source": [
    "import geopandas as gpd\n",
    "import matplotlib.pyplot as plt\n",
    "import os\n",
    "from tqdm import tqdm\n",
    "import pandas as pd\n",
    "import numpy as np\n",
    "import csv"
   ]
  },
  {
   "cell_type": "code",
   "execution_count": 4,
   "id": "6d7cf71d-61b6-4abf-8d23-cf147950a421",
   "metadata": {},
   "outputs": [],
   "source": [
    "input_directory = \"Residential_finished\"\n",
    "files = [f for f in os.listdir(input_directory) if f.endswith('.json')]"
   ]
  },
  {
   "cell_type": "code",
   "execution_count": 5,
   "id": "d73bd566-c5d5-4376-930d-06bc63a8946f",
   "metadata": {},
   "outputs": [
    {
     "data": {
      "text/plain": [
       "'geojson_0.json'"
      ]
     },
     "execution_count": 5,
     "metadata": {},
     "output_type": "execute_result"
    }
   ],
   "source": [
    "filename = files[0]\n",
    "filename"
   ]
  },
  {
   "cell_type": "code",
   "execution_count": 6,
   "id": "463d2d71-8558-4e04-8e0e-4062b949b2fb",
   "metadata": {},
   "outputs": [],
   "source": [
    "file_path = os.path.join(input_directory, filename)\n",
    "data = gpd.read_file(file_path)"
   ]
  },
  {
   "cell_type": "markdown",
   "id": "af5175c9-e478-4235-88d2-ee1f21499b30",
   "metadata": {
    "tags": []
   },
   "source": [
    "# convert to category"
   ]
  },
  {
   "cell_type": "code",
   "execution_count": 7,
   "id": "e9e6d9d7-378d-4290-8ba3-130e49316640",
   "metadata": {},
   "outputs": [
    {
     "data": {
      "text/html": [
       "<div>\n",
       "<style scoped>\n",
       "    .dataframe tbody tr th:only-of-type {\n",
       "        vertical-align: middle;\n",
       "    }\n",
       "\n",
       "    .dataframe tbody tr th {\n",
       "        vertical-align: top;\n",
       "    }\n",
       "\n",
       "    .dataframe thead th {\n",
       "        text-align: right;\n",
       "    }\n",
       "</style>\n",
       "<table border=\"1\" class=\"dataframe\">\n",
       "  <thead>\n",
       "    <tr style=\"text-align: right;\">\n",
       "      <th></th>\n",
       "      <th>OBJECTID</th>\n",
       "      <th>CODE</th>\n",
       "      <th>BLD_ID</th>\n",
       "      <th>YearBuilt1</th>\n",
       "      <th>HEIGHT</th>\n",
       "      <th>ELEV</th>\n",
       "      <th>footprint</th>\n",
       "      <th>UseType</th>\n",
       "      <th>UseDescription</th>\n",
       "      <th>Shape_Length_1</th>\n",
       "      <th>Shape_Area_1</th>\n",
       "      <th>geometry</th>\n",
       "    </tr>\n",
       "  </thead>\n",
       "  <tbody>\n",
       "    <tr>\n",
       "      <th>0</th>\n",
       "      <td>37</td>\n",
       "      <td>Building</td>\n",
       "      <td>503291745320</td>\n",
       "      <td>1977</td>\n",
       "      <td>22.26</td>\n",
       "      <td>38.51</td>\n",
       "      <td>1622.0</td>\n",
       "      <td>Residential</td>\n",
       "      <td>Three Units (Any Combination)</td>\n",
       "      <td>359.092502</td>\n",
       "      <td>4.425734e+03</td>\n",
       "      <td>MULTIPOLYGON (((-118.19224 33.78813, -118.1922...</td>\n",
       "    </tr>\n",
       "    <tr>\n",
       "      <th>1</th>\n",
       "      <td>40</td>\n",
       "      <td>Building</td>\n",
       "      <td>509892745808</td>\n",
       "      <td>1923</td>\n",
       "      <td>9.92</td>\n",
       "      <td>32.60</td>\n",
       "      <td>356.0</td>\n",
       "      <td>Residential</td>\n",
       "      <td>Five or more apartments</td>\n",
       "      <td>401.899783</td>\n",
       "      <td>8.903658e+03</td>\n",
       "      <td>MULTIPOLYGON (((-118.17043 33.78950, -118.1703...</td>\n",
       "    </tr>\n",
       "    <tr>\n",
       "      <th>2</th>\n",
       "      <td>43</td>\n",
       "      <td>Building</td>\n",
       "      <td>503428745279</td>\n",
       "      <td>1927</td>\n",
       "      <td>18.32</td>\n",
       "      <td>35.89</td>\n",
       "      <td>909.0</td>\n",
       "      <td>Residential</td>\n",
       "      <td>Five or more apartments</td>\n",
       "      <td>396.180197</td>\n",
       "      <td>7.405476e+03</td>\n",
       "      <td>MULTIPOLYGON (((-118.19170 33.78794, -118.1917...</td>\n",
       "    </tr>\n",
       "    <tr>\n",
       "      <th>3</th>\n",
       "      <td>46</td>\n",
       "      <td>Building</td>\n",
       "      <td>502311745717</td>\n",
       "      <td>1977</td>\n",
       "      <td>21.89</td>\n",
       "      <td>37.31</td>\n",
       "      <td>2446.0</td>\n",
       "      <td>Residential</td>\n",
       "      <td>Four Units (Any Combination)</td>\n",
       "      <td>400.130086</td>\n",
       "      <td>7.503758e+03</td>\n",
       "      <td>MULTIPOLYGON (((-118.19549 33.78922, -118.1952...</td>\n",
       "    </tr>\n",
       "    <tr>\n",
       "      <th>4</th>\n",
       "      <td>52</td>\n",
       "      <td>Building</td>\n",
       "      <td>498043745228</td>\n",
       "      <td>1938</td>\n",
       "      <td>11.64</td>\n",
       "      <td>23.23</td>\n",
       "      <td>644.0</td>\n",
       "      <td>Residential</td>\n",
       "      <td>Single</td>\n",
       "      <td>331.425290</td>\n",
       "      <td>5.046112e+03</td>\n",
       "      <td>MULTIPOLYGON (((-118.20936 33.78779, -118.2094...</td>\n",
       "    </tr>\n",
       "    <tr>\n",
       "      <th>...</th>\n",
       "      <td>...</td>\n",
       "      <td>...</td>\n",
       "      <td>...</td>\n",
       "      <td>...</td>\n",
       "      <td>...</td>\n",
       "      <td>...</td>\n",
       "      <td>...</td>\n",
       "      <td>...</td>\n",
       "      <td>...</td>\n",
       "      <td>...</td>\n",
       "      <td>...</td>\n",
       "      <td>...</td>\n",
       "    </tr>\n",
       "    <tr>\n",
       "      <th>23041</th>\n",
       "      <td>25641</td>\n",
       "      <td>Building</td>\n",
       "      <td>461445721376</td>\n",
       "      <td>1973</td>\n",
       "      <td>8.98</td>\n",
       "      <td>196.69</td>\n",
       "      <td>119.0</td>\n",
       "      <td>Residential</td>\n",
       "      <td>Mobile Home Parks</td>\n",
       "      <td>6470.165886</td>\n",
       "      <td>2.153294e+06</td>\n",
       "      <td>MULTIPOLYGON (((-118.32959 33.72203, -118.3295...</td>\n",
       "    </tr>\n",
       "    <tr>\n",
       "      <th>23042</th>\n",
       "      <td>25642</td>\n",
       "      <td>Building</td>\n",
       "      <td>461246722265</td>\n",
       "      <td>1973</td>\n",
       "      <td>15.50</td>\n",
       "      <td>286.05</td>\n",
       "      <td>2349.0</td>\n",
       "      <td>Residential</td>\n",
       "      <td>Mobile Home Parks</td>\n",
       "      <td>6470.165886</td>\n",
       "      <td>2.153294e+06</td>\n",
       "      <td>MULTIPOLYGON (((-118.33030 33.72436, -118.3303...</td>\n",
       "    </tr>\n",
       "    <tr>\n",
       "      <th>23043</th>\n",
       "      <td>25643</td>\n",
       "      <td>Building</td>\n",
       "      <td>461534722533</td>\n",
       "      <td>1973</td>\n",
       "      <td>12.66</td>\n",
       "      <td>339.07</td>\n",
       "      <td>3941.0</td>\n",
       "      <td>Residential</td>\n",
       "      <td>Mobile Home Parks</td>\n",
       "      <td>6470.165886</td>\n",
       "      <td>2.153294e+06</td>\n",
       "      <td>MULTIPOLYGON (((-118.32922 33.72521, -118.3292...</td>\n",
       "    </tr>\n",
       "    <tr>\n",
       "      <th>23044</th>\n",
       "      <td>25644</td>\n",
       "      <td>Building</td>\n",
       "      <td>461667722638</td>\n",
       "      <td>1973</td>\n",
       "      <td>13.94</td>\n",
       "      <td>333.95</td>\n",
       "      <td>2445.0</td>\n",
       "      <td>Residential</td>\n",
       "      <td>Mobile Home Parks</td>\n",
       "      <td>6470.165886</td>\n",
       "      <td>2.153294e+06</td>\n",
       "      <td>MULTIPOLYGON (((-118.32893 33.72540, -118.3289...</td>\n",
       "    </tr>\n",
       "    <tr>\n",
       "      <th>23045</th>\n",
       "      <td>25645</td>\n",
       "      <td>Building</td>\n",
       "      <td>461947722733</td>\n",
       "      <td>1973</td>\n",
       "      <td>13.50</td>\n",
       "      <td>329.50</td>\n",
       "      <td>2368.0</td>\n",
       "      <td>Residential</td>\n",
       "      <td>Mobile Home Parks</td>\n",
       "      <td>6470.165886</td>\n",
       "      <td>2.153294e+06</td>\n",
       "      <td>MULTIPOLYGON (((-118.32802 33.72584, -118.3278...</td>\n",
       "    </tr>\n",
       "  </tbody>\n",
       "</table>\n",
       "<p>23046 rows × 12 columns</p>\n",
       "</div>"
      ],
      "text/plain": [
       "       OBJECTID      CODE        BLD_ID YearBuilt1  HEIGHT    ELEV  footprint  \\\n",
       "0            37  Building  503291745320       1977   22.26   38.51     1622.0   \n",
       "1            40  Building  509892745808       1923    9.92   32.60      356.0   \n",
       "2            43  Building  503428745279       1927   18.32   35.89      909.0   \n",
       "3            46  Building  502311745717       1977   21.89   37.31     2446.0   \n",
       "4            52  Building  498043745228       1938   11.64   23.23      644.0   \n",
       "...         ...       ...           ...        ...     ...     ...        ...   \n",
       "23041     25641  Building  461445721376       1973    8.98  196.69      119.0   \n",
       "23042     25642  Building  461246722265       1973   15.50  286.05     2349.0   \n",
       "23043     25643  Building  461534722533       1973   12.66  339.07     3941.0   \n",
       "23044     25644  Building  461667722638       1973   13.94  333.95     2445.0   \n",
       "23045     25645  Building  461947722733       1973   13.50  329.50     2368.0   \n",
       "\n",
       "           UseType                 UseDescription  Shape_Length_1  \\\n",
       "0      Residential  Three Units (Any Combination)      359.092502   \n",
       "1      Residential        Five or more apartments      401.899783   \n",
       "2      Residential        Five or more apartments      396.180197   \n",
       "3      Residential   Four Units (Any Combination)      400.130086   \n",
       "4      Residential                         Single      331.425290   \n",
       "...            ...                            ...             ...   \n",
       "23041  Residential              Mobile Home Parks     6470.165886   \n",
       "23042  Residential              Mobile Home Parks     6470.165886   \n",
       "23043  Residential              Mobile Home Parks     6470.165886   \n",
       "23044  Residential              Mobile Home Parks     6470.165886   \n",
       "23045  Residential              Mobile Home Parks     6470.165886   \n",
       "\n",
       "       Shape_Area_1                                           geometry  \n",
       "0      4.425734e+03  MULTIPOLYGON (((-118.19224 33.78813, -118.1922...  \n",
       "1      8.903658e+03  MULTIPOLYGON (((-118.17043 33.78950, -118.1703...  \n",
       "2      7.405476e+03  MULTIPOLYGON (((-118.19170 33.78794, -118.1917...  \n",
       "3      7.503758e+03  MULTIPOLYGON (((-118.19549 33.78922, -118.1952...  \n",
       "4      5.046112e+03  MULTIPOLYGON (((-118.20936 33.78779, -118.2094...  \n",
       "...             ...                                                ...  \n",
       "23041  2.153294e+06  MULTIPOLYGON (((-118.32959 33.72203, -118.3295...  \n",
       "23042  2.153294e+06  MULTIPOLYGON (((-118.33030 33.72436, -118.3303...  \n",
       "23043  2.153294e+06  MULTIPOLYGON (((-118.32922 33.72521, -118.3292...  \n",
       "23044  2.153294e+06  MULTIPOLYGON (((-118.32893 33.72540, -118.3289...  \n",
       "23045  2.153294e+06  MULTIPOLYGON (((-118.32802 33.72584, -118.3278...  \n",
       "\n",
       "[23046 rows x 12 columns]"
      ]
     },
     "execution_count": 7,
     "metadata": {},
     "output_type": "execute_result"
    }
   ],
   "source": [
    "data"
   ]
  },
  {
   "cell_type": "code",
   "execution_count": 24,
   "id": "d902e0f8-be00-4399-9d94-b2119e187754",
   "metadata": {},
   "outputs": [
    {
     "name": "stdout",
     "output_type": "stream",
     "text": [
      "CSV file 'unique_category.csv' has been saved.\n"
     ]
    }
   ],
   "source": [
    "# Save the unique values as CSV\n",
    "output_file = 'unique_category.csv'\n",
    "with open(output_file, 'w', newline='') as file:\n",
    "    writer = csv.writer(file)\n",
    "    writer.writerow(['Unique Values'])\n",
    "    writer.writerows(zip(final_unique_values))\n",
    "\n",
    "print(f\"CSV file '{output_file}' has been saved.\")"
   ]
  },
  {
   "cell_type": "code",
   "execution_count": 8,
   "id": "59e78272-d840-42a5-bb43-f306fe1dc627",
   "metadata": {},
   "outputs": [],
   "source": [
    "# Define the dictionary for value replacement\n",
    "use_description_dict = {\n",
    "    'Mobile Homes': 0,\n",
    "    'Three Units (Any Combination)': 1,\n",
    "    'Two Units': 2,\n",
    "    'Single': 3,\n",
    "    'Five or more apartments': 4,\n",
    "    'Four Units (Any Combination)': 5,\n",
    "    'Mobile Home Parks': 6,\n",
    "    'Rooming Houses': 7\n",
    "}"
   ]
  },
  {
   "cell_type": "code",
   "execution_count": 10,
   "id": "489525ce-e482-4687-9f67-6be7ec490a98",
   "metadata": {},
   "outputs": [
    {
     "data": {
      "text/plain": [
       "'geojson_0.json'"
      ]
     },
     "execution_count": 10,
     "metadata": {},
     "output_type": "execute_result"
    }
   ],
   "source": [
    "filename"
   ]
  },
  {
   "cell_type": "code",
   "execution_count": 11,
   "id": "80bd262d-16da-4999-8ab7-553ac2c50534",
   "metadata": {},
   "outputs": [
    {
     "name": "stdout",
     "output_type": "stream",
     "text": [
      "Residential_Clear\\geojson_0.json\n"
     ]
    }
   ],
   "source": [
    "output_directory = 'Residential_Clear'\n",
    "# for filename in tqdm(files, desc='Processing files'):\n",
    "\n",
    "file_path = os.path.join(input_directory, filename)\n",
    "df = gpd.read_file(file_path)\n",
    "\n",
    "# Keep desired columns using .loc\n",
    "new_df = df.loc[:, ['OBJECTID', 'YearBuilt1', 'HEIGHT' ]]\n",
    "\n",
    "# Replace values in the 'UseDescription' column using .isetitem()\n",
    "new_df['UseDescription']= df['UseDescription'].replace(use_description_dict)\n",
    "\n",
    "output_file_name = os.path.splitext(filename)[0] + '.json'\n",
    "output_file_path = os.path.join(output_directory, filename)\n",
    "print(output_file_path)\n",
    "new_df.to_json(output_file_path, orient='records')"
   ]
  },
  {
   "cell_type": "code",
   "execution_count": 34,
   "id": "d61e3194-946a-4d6d-920f-6ec92fc922e2",
   "metadata": {},
   "outputs": [
    {
     "name": "stderr",
     "output_type": "stream",
     "text": [
      "Processing files:   1%|▌                                                               | 1/120 [00:09<18:58,  9.57s/it]"
     ]
    },
    {
     "name": "stdout",
     "output_type": "stream",
     "text": [
      "Residential_Clear\\geojson_0.json\n"
     ]
    },
    {
     "name": "stderr",
     "output_type": "stream",
     "text": [
      "Processing files:   2%|█                                                               | 2/120 [00:18<17:38,  8.97s/it]"
     ]
    },
    {
     "name": "stdout",
     "output_type": "stream",
     "text": [
      "Residential_Clear\\geojson_1.json\n"
     ]
    },
    {
     "name": "stderr",
     "output_type": "stream",
     "text": [
      "Processing files:   2%|█▌                                                              | 3/120 [00:27<17:57,  9.21s/it]"
     ]
    },
    {
     "name": "stdout",
     "output_type": "stream",
     "text": [
      "Residential_Clear\\geojson_10.json\n"
     ]
    },
    {
     "name": "stderr",
     "output_type": "stream",
     "text": [
      "Processing files:   3%|██▏                                                             | 4/120 [00:36<17:50,  9.22s/it]"
     ]
    },
    {
     "name": "stdout",
     "output_type": "stream",
     "text": [
      "Residential_Clear\\geojson_100.json\n"
     ]
    },
    {
     "name": "stderr",
     "output_type": "stream",
     "text": [
      "Processing files:   4%|██▋                                                             | 5/120 [00:46<17:53,  9.34s/it]"
     ]
    },
    {
     "name": "stdout",
     "output_type": "stream",
     "text": [
      "Residential_Clear\\geojson_101.json\n"
     ]
    },
    {
     "name": "stderr",
     "output_type": "stream",
     "text": [
      "Processing files:   5%|███▏                                                            | 6/120 [00:55<17:49,  9.38s/it]"
     ]
    },
    {
     "name": "stdout",
     "output_type": "stream",
     "text": [
      "Residential_Clear\\geojson_102.json\n"
     ]
    },
    {
     "name": "stderr",
     "output_type": "stream",
     "text": [
      "Processing files:   6%|███▋                                                            | 7/120 [01:05<17:54,  9.50s/it]"
     ]
    },
    {
     "name": "stdout",
     "output_type": "stream",
     "text": [
      "Residential_Clear\\geojson_103.json\n"
     ]
    },
    {
     "name": "stderr",
     "output_type": "stream",
     "text": [
      "Processing files:   7%|████▎                                                           | 8/120 [01:15<17:55,  9.60s/it]"
     ]
    },
    {
     "name": "stdout",
     "output_type": "stream",
     "text": [
      "Residential_Clear\\geojson_104.json\n"
     ]
    },
    {
     "name": "stderr",
     "output_type": "stream",
     "text": [
      "Processing files:   8%|████▊                                                           | 9/120 [01:25<17:49,  9.64s/it]"
     ]
    },
    {
     "name": "stdout",
     "output_type": "stream",
     "text": [
      "Residential_Clear\\geojson_105.json\n"
     ]
    },
    {
     "name": "stderr",
     "output_type": "stream",
     "text": [
      "Processing files:   8%|█████▎                                                         | 10/120 [01:34<17:37,  9.61s/it]"
     ]
    },
    {
     "name": "stdout",
     "output_type": "stream",
     "text": [
      "Residential_Clear\\geojson_106.json\n"
     ]
    },
    {
     "name": "stderr",
     "output_type": "stream",
     "text": [
      "Processing files:   9%|█████▊                                                         | 11/120 [01:44<17:34,  9.68s/it]"
     ]
    },
    {
     "name": "stdout",
     "output_type": "stream",
     "text": [
      "Residential_Clear\\geojson_107.json\n"
     ]
    },
    {
     "name": "stderr",
     "output_type": "stream",
     "text": [
      "Processing files:  10%|██████▎                                                        | 12/120 [01:53<17:00,  9.45s/it]"
     ]
    },
    {
     "name": "stdout",
     "output_type": "stream",
     "text": [
      "Residential_Clear\\geojson_108.json\n"
     ]
    },
    {
     "name": "stderr",
     "output_type": "stream",
     "text": [
      "Processing files:  11%|██████▊                                                        | 13/120 [02:02<16:52,  9.46s/it]"
     ]
    },
    {
     "name": "stdout",
     "output_type": "stream",
     "text": [
      "Residential_Clear\\geojson_109.json\n"
     ]
    },
    {
     "name": "stderr",
     "output_type": "stream",
     "text": [
      "Processing files:  12%|███████▎                                                       | 14/120 [02:12<16:44,  9.48s/it]"
     ]
    },
    {
     "name": "stdout",
     "output_type": "stream",
     "text": [
      "Residential_Clear\\geojson_11.json\n"
     ]
    },
    {
     "name": "stderr",
     "output_type": "stream",
     "text": [
      "Processing files:  12%|███████▉                                                       | 15/120 [02:21<16:26,  9.40s/it]"
     ]
    },
    {
     "name": "stdout",
     "output_type": "stream",
     "text": [
      "Residential_Clear\\geojson_110.json\n"
     ]
    },
    {
     "name": "stderr",
     "output_type": "stream",
     "text": [
      "Processing files:  13%|████████▍                                                      | 16/120 [02:31<16:28,  9.50s/it]"
     ]
    },
    {
     "name": "stdout",
     "output_type": "stream",
     "text": [
      "Residential_Clear\\geojson_111.json\n"
     ]
    },
    {
     "name": "stderr",
     "output_type": "stream",
     "text": [
      "Processing files:  14%|████████▉                                                      | 17/120 [02:40<16:03,  9.35s/it]"
     ]
    },
    {
     "name": "stdout",
     "output_type": "stream",
     "text": [
      "Residential_Clear\\geojson_112.json\n"
     ]
    },
    {
     "name": "stderr",
     "output_type": "stream",
     "text": [
      "Processing files:  15%|█████████▍                                                     | 18/120 [02:49<15:46,  9.28s/it]"
     ]
    },
    {
     "name": "stdout",
     "output_type": "stream",
     "text": [
      "Residential_Clear\\geojson_113.json\n"
     ]
    },
    {
     "name": "stderr",
     "output_type": "stream",
     "text": [
      "Processing files:  16%|█████████▉                                                     | 19/120 [02:59<15:56,  9.47s/it]"
     ]
    },
    {
     "name": "stdout",
     "output_type": "stream",
     "text": [
      "Residential_Clear\\geojson_114.json\n"
     ]
    },
    {
     "name": "stderr",
     "output_type": "stream",
     "text": [
      "Processing files:  17%|██████████▌                                                    | 20/120 [03:08<15:49,  9.49s/it]"
     ]
    },
    {
     "name": "stdout",
     "output_type": "stream",
     "text": [
      "Residential_Clear\\geojson_115.json\n"
     ]
    },
    {
     "name": "stderr",
     "output_type": "stream",
     "text": [
      "Processing files:  18%|███████████                                                    | 21/120 [03:17<15:21,  9.31s/it]"
     ]
    },
    {
     "name": "stdout",
     "output_type": "stream",
     "text": [
      "Residential_Clear\\geojson_116.json\n"
     ]
    },
    {
     "name": "stderr",
     "output_type": "stream",
     "text": [
      "Processing files:  18%|███████████▌                                                   | 22/120 [03:27<15:23,  9.42s/it]"
     ]
    },
    {
     "name": "stdout",
     "output_type": "stream",
     "text": [
      "Residential_Clear\\geojson_117.json\n"
     ]
    },
    {
     "name": "stderr",
     "output_type": "stream",
     "text": [
      "Processing files:  19%|████████████                                                   | 23/120 [03:36<15:06,  9.35s/it]"
     ]
    },
    {
     "name": "stdout",
     "output_type": "stream",
     "text": [
      "Residential_Clear\\geojson_118.json\n"
     ]
    },
    {
     "name": "stderr",
     "output_type": "stream",
     "text": [
      "Processing files:  20%|████████████▌                                                  | 24/120 [03:42<13:06,  8.19s/it]"
     ]
    },
    {
     "name": "stdout",
     "output_type": "stream",
     "text": [
      "Residential_Clear\\geojson_119.json\n"
     ]
    },
    {
     "name": "stderr",
     "output_type": "stream",
     "text": [
      "Processing files:  21%|█████████████▏                                                 | 25/120 [03:51<13:41,  8.65s/it]"
     ]
    },
    {
     "name": "stdout",
     "output_type": "stream",
     "text": [
      "Residential_Clear\\geojson_12.json\n"
     ]
    },
    {
     "name": "stderr",
     "output_type": "stream",
     "text": [
      "Processing files:  22%|█████████████▋                                                 | 26/120 [04:01<14:08,  9.03s/it]"
     ]
    },
    {
     "name": "stdout",
     "output_type": "stream",
     "text": [
      "Residential_Clear\\geojson_13.json\n"
     ]
    },
    {
     "name": "stderr",
     "output_type": "stream",
     "text": [
      "Processing files:  22%|██████████████▏                                                | 27/120 [04:07<12:26,  8.02s/it]"
     ]
    },
    {
     "name": "stdout",
     "output_type": "stream",
     "text": [
      "Residential_Clear\\geojson_14.json\n"
     ]
    },
    {
     "name": "stderr",
     "output_type": "stream",
     "text": [
      "Processing files:  23%|██████████████▋                                                | 28/120 [04:13<11:17,  7.36s/it]"
     ]
    },
    {
     "name": "stdout",
     "output_type": "stream",
     "text": [
      "Residential_Clear\\geojson_15.json\n"
     ]
    },
    {
     "name": "stderr",
     "output_type": "stream",
     "text": [
      "Processing files:  24%|███████████████▏                                               | 29/120 [04:18<10:20,  6.82s/it]"
     ]
    },
    {
     "name": "stdout",
     "output_type": "stream",
     "text": [
      "Residential_Clear\\geojson_16.json\n"
     ]
    },
    {
     "name": "stderr",
     "output_type": "stream",
     "text": [
      "Processing files:  25%|███████████████▊                                               | 30/120 [04:24<09:40,  6.45s/it]"
     ]
    },
    {
     "name": "stdout",
     "output_type": "stream",
     "text": [
      "Residential_Clear\\geojson_17.json\n"
     ]
    },
    {
     "name": "stderr",
     "output_type": "stream",
     "text": [
      "Processing files:  26%|████████████████▎                                              | 31/120 [04:30<09:08,  6.17s/it]"
     ]
    },
    {
     "name": "stdout",
     "output_type": "stream",
     "text": [
      "Residential_Clear\\geojson_18.json\n"
     ]
    },
    {
     "name": "stderr",
     "output_type": "stream",
     "text": [
      "Processing files:  27%|████████████████▊                                              | 32/120 [04:35<08:46,  5.98s/it]"
     ]
    },
    {
     "name": "stdout",
     "output_type": "stream",
     "text": [
      "Residential_Clear\\geojson_19.json\n"
     ]
    },
    {
     "name": "stderr",
     "output_type": "stream",
     "text": [
      "Processing files:  28%|█████████████████▎                                             | 33/120 [04:40<08:21,  5.76s/it]"
     ]
    },
    {
     "name": "stdout",
     "output_type": "stream",
     "text": [
      "Residential_Clear\\geojson_2.json\n"
     ]
    },
    {
     "name": "stderr",
     "output_type": "stream",
     "text": [
      "Processing files:  28%|█████████████████▊                                             | 34/120 [04:46<08:09,  5.69s/it]"
     ]
    },
    {
     "name": "stdout",
     "output_type": "stream",
     "text": [
      "Residential_Clear\\geojson_20.json\n"
     ]
    },
    {
     "name": "stderr",
     "output_type": "stream",
     "text": [
      "Processing files:  29%|██████████████████▍                                            | 35/120 [04:51<07:58,  5.63s/it]"
     ]
    },
    {
     "name": "stdout",
     "output_type": "stream",
     "text": [
      "Residential_Clear\\geojson_21.json\n"
     ]
    },
    {
     "name": "stderr",
     "output_type": "stream",
     "text": [
      "Processing files:  30%|██████████████████▉                                            | 36/120 [04:57<07:47,  5.56s/it]"
     ]
    },
    {
     "name": "stdout",
     "output_type": "stream",
     "text": [
      "Residential_Clear\\geojson_22.json\n"
     ]
    },
    {
     "name": "stderr",
     "output_type": "stream",
     "text": [
      "Processing files:  31%|███████████████████▍                                           | 37/120 [05:02<07:40,  5.55s/it]"
     ]
    },
    {
     "name": "stdout",
     "output_type": "stream",
     "text": [
      "Residential_Clear\\geojson_23.json\n"
     ]
    },
    {
     "name": "stderr",
     "output_type": "stream",
     "text": [
      "Processing files:  32%|███████████████████▉                                           | 38/120 [05:08<07:36,  5.57s/it]"
     ]
    },
    {
     "name": "stdout",
     "output_type": "stream",
     "text": [
      "Residential_Clear\\geojson_24.json\n"
     ]
    },
    {
     "name": "stderr",
     "output_type": "stream",
     "text": [
      "Processing files:  32%|████████████████████▍                                          | 39/120 [05:14<07:37,  5.64s/it]"
     ]
    },
    {
     "name": "stdout",
     "output_type": "stream",
     "text": [
      "Residential_Clear\\geojson_25.json\n"
     ]
    },
    {
     "name": "stderr",
     "output_type": "stream",
     "text": [
      "Processing files:  33%|█████████████████████                                          | 40/120 [05:20<07:48,  5.85s/it]"
     ]
    },
    {
     "name": "stdout",
     "output_type": "stream",
     "text": [
      "Residential_Clear\\geojson_26.json\n"
     ]
    },
    {
     "name": "stderr",
     "output_type": "stream",
     "text": [
      "Processing files:  34%|█████████████████████▌                                         | 41/120 [05:26<07:38,  5.80s/it]"
     ]
    },
    {
     "name": "stdout",
     "output_type": "stream",
     "text": [
      "Residential_Clear\\geojson_27.json\n"
     ]
    },
    {
     "name": "stderr",
     "output_type": "stream",
     "text": [
      "Processing files:  35%|██████████████████████                                         | 42/120 [05:31<07:29,  5.77s/it]"
     ]
    },
    {
     "name": "stdout",
     "output_type": "stream",
     "text": [
      "Residential_Clear\\geojson_28.json\n"
     ]
    },
    {
     "name": "stderr",
     "output_type": "stream",
     "text": [
      "Processing files:  36%|██████████████████████▌                                        | 43/120 [05:37<07:29,  5.84s/it]"
     ]
    },
    {
     "name": "stdout",
     "output_type": "stream",
     "text": [
      "Residential_Clear\\geojson_29.json\n"
     ]
    },
    {
     "name": "stderr",
     "output_type": "stream",
     "text": [
      "Processing files:  37%|███████████████████████                                        | 44/120 [05:43<07:16,  5.74s/it]"
     ]
    },
    {
     "name": "stdout",
     "output_type": "stream",
     "text": [
      "Residential_Clear\\geojson_3.json\n"
     ]
    },
    {
     "name": "stderr",
     "output_type": "stream",
     "text": [
      "Processing files:  38%|███████████████████████▋                                       | 45/120 [05:49<07:18,  5.84s/it]"
     ]
    },
    {
     "name": "stdout",
     "output_type": "stream",
     "text": [
      "Residential_Clear\\geojson_30.json\n"
     ]
    },
    {
     "name": "stderr",
     "output_type": "stream",
     "text": [
      "Processing files:  38%|████████████████████████▏                                      | 46/120 [05:55<07:12,  5.84s/it]"
     ]
    },
    {
     "name": "stdout",
     "output_type": "stream",
     "text": [
      "Residential_Clear\\geojson_31.json\n"
     ]
    },
    {
     "name": "stderr",
     "output_type": "stream",
     "text": [
      "Processing files:  39%|████████████████████████▋                                      | 47/120 [06:00<07:01,  5.78s/it]"
     ]
    },
    {
     "name": "stdout",
     "output_type": "stream",
     "text": [
      "Residential_Clear\\geojson_32.json\n"
     ]
    },
    {
     "name": "stderr",
     "output_type": "stream",
     "text": [
      "Processing files:  40%|█████████████████████████▏                                     | 48/120 [06:06<06:48,  5.67s/it]"
     ]
    },
    {
     "name": "stdout",
     "output_type": "stream",
     "text": [
      "Residential_Clear\\geojson_33.json\n"
     ]
    },
    {
     "name": "stderr",
     "output_type": "stream",
     "text": [
      "Processing files:  41%|█████████████████████████▋                                     | 49/120 [06:11<06:39,  5.62s/it]"
     ]
    },
    {
     "name": "stdout",
     "output_type": "stream",
     "text": [
      "Residential_Clear\\geojson_34.json\n"
     ]
    },
    {
     "name": "stderr",
     "output_type": "stream",
     "text": [
      "Processing files:  42%|██████████████████████████▎                                    | 50/120 [06:17<06:30,  5.57s/it]"
     ]
    },
    {
     "name": "stdout",
     "output_type": "stream",
     "text": [
      "Residential_Clear\\geojson_35.json\n"
     ]
    },
    {
     "name": "stderr",
     "output_type": "stream",
     "text": [
      "Processing files:  42%|██████████████████████████▊                                    | 51/120 [06:22<06:20,  5.52s/it]"
     ]
    },
    {
     "name": "stdout",
     "output_type": "stream",
     "text": [
      "Residential_Clear\\geojson_36.json\n"
     ]
    },
    {
     "name": "stderr",
     "output_type": "stream",
     "text": [
      "Processing files:  43%|███████████████████████████▎                                   | 52/120 [06:28<06:13,  5.49s/it]"
     ]
    },
    {
     "name": "stdout",
     "output_type": "stream",
     "text": [
      "Residential_Clear\\geojson_37.json\n"
     ]
    },
    {
     "name": "stderr",
     "output_type": "stream",
     "text": [
      "Processing files:  44%|███████████████████████████▊                                   | 53/120 [06:33<06:06,  5.48s/it]"
     ]
    },
    {
     "name": "stdout",
     "output_type": "stream",
     "text": [
      "Residential_Clear\\geojson_38.json\n"
     ]
    },
    {
     "name": "stderr",
     "output_type": "stream",
     "text": [
      "Processing files:  45%|████████████████████████████▎                                  | 54/120 [06:38<05:59,  5.45s/it]"
     ]
    },
    {
     "name": "stdout",
     "output_type": "stream",
     "text": [
      "Residential_Clear\\geojson_39.json\n"
     ]
    },
    {
     "name": "stderr",
     "output_type": "stream",
     "text": [
      "Processing files:  46%|████████████████████████████▉                                  | 55/120 [06:44<05:50,  5.40s/it]"
     ]
    },
    {
     "name": "stdout",
     "output_type": "stream",
     "text": [
      "Residential_Clear\\geojson_4.json\n"
     ]
    },
    {
     "name": "stderr",
     "output_type": "stream",
     "text": [
      "Processing files:  47%|█████████████████████████████▍                                 | 56/120 [06:49<05:47,  5.43s/it]"
     ]
    },
    {
     "name": "stdout",
     "output_type": "stream",
     "text": [
      "Residential_Clear\\geojson_40.json\n"
     ]
    },
    {
     "name": "stderr",
     "output_type": "stream",
     "text": [
      "Processing files:  48%|█████████████████████████████▉                                 | 57/120 [06:54<05:38,  5.37s/it]"
     ]
    },
    {
     "name": "stdout",
     "output_type": "stream",
     "text": [
      "Residential_Clear\\geojson_41.json\n"
     ]
    },
    {
     "name": "stderr",
     "output_type": "stream",
     "text": [
      "Processing files:  48%|██████████████████████████████▍                                | 58/120 [07:00<05:37,  5.44s/it]"
     ]
    },
    {
     "name": "stdout",
     "output_type": "stream",
     "text": [
      "Residential_Clear\\geojson_42.json\n"
     ]
    },
    {
     "name": "stderr",
     "output_type": "stream",
     "text": [
      "Processing files:  49%|██████████████████████████████▉                                | 59/120 [07:06<05:33,  5.46s/it]"
     ]
    },
    {
     "name": "stdout",
     "output_type": "stream",
     "text": [
      "Residential_Clear\\geojson_43.json\n"
     ]
    },
    {
     "name": "stderr",
     "output_type": "stream",
     "text": [
      "Processing files:  50%|███████████████████████████████▌                               | 60/120 [07:11<05:28,  5.47s/it]"
     ]
    },
    {
     "name": "stdout",
     "output_type": "stream",
     "text": [
      "Residential_Clear\\geojson_44.json\n"
     ]
    },
    {
     "name": "stderr",
     "output_type": "stream",
     "text": [
      "Processing files:  51%|████████████████████████████████                               | 61/120 [07:17<05:22,  5.46s/it]"
     ]
    },
    {
     "name": "stdout",
     "output_type": "stream",
     "text": [
      "Residential_Clear\\geojson_45.json\n"
     ]
    },
    {
     "name": "stderr",
     "output_type": "stream",
     "text": [
      "Processing files:  52%|████████████████████████████████▌                              | 62/120 [07:22<05:18,  5.49s/it]"
     ]
    },
    {
     "name": "stdout",
     "output_type": "stream",
     "text": [
      "Residential_Clear\\geojson_46.json\n"
     ]
    },
    {
     "name": "stderr",
     "output_type": "stream",
     "text": [
      "Processing files:  52%|█████████████████████████████████                              | 63/120 [07:28<05:14,  5.52s/it]"
     ]
    },
    {
     "name": "stdout",
     "output_type": "stream",
     "text": [
      "Residential_Clear\\geojson_47.json\n"
     ]
    },
    {
     "name": "stderr",
     "output_type": "stream",
     "text": [
      "Processing files:  53%|█████████████████████████████████▌                             | 64/120 [07:33<05:09,  5.53s/it]"
     ]
    },
    {
     "name": "stdout",
     "output_type": "stream",
     "text": [
      "Residential_Clear\\geojson_48.json\n"
     ]
    },
    {
     "name": "stderr",
     "output_type": "stream",
     "text": [
      "Processing files:  54%|██████████████████████████████████▏                            | 65/120 [07:39<05:06,  5.58s/it]"
     ]
    },
    {
     "name": "stdout",
     "output_type": "stream",
     "text": [
      "Residential_Clear\\geojson_49.json\n"
     ]
    },
    {
     "name": "stderr",
     "output_type": "stream",
     "text": [
      "Processing files:  55%|██████████████████████████████████▋                            | 66/120 [07:44<04:59,  5.55s/it]"
     ]
    },
    {
     "name": "stdout",
     "output_type": "stream",
     "text": [
      "Residential_Clear\\geojson_5.json\n"
     ]
    },
    {
     "name": "stderr",
     "output_type": "stream",
     "text": [
      "Processing files:  56%|███████████████████████████████████▏                           | 67/120 [07:50<04:53,  5.53s/it]"
     ]
    },
    {
     "name": "stdout",
     "output_type": "stream",
     "text": [
      "Residential_Clear\\geojson_50.json\n"
     ]
    },
    {
     "name": "stderr",
     "output_type": "stream",
     "text": [
      "Processing files:  57%|███████████████████████████████████▋                           | 68/120 [07:55<04:47,  5.52s/it]"
     ]
    },
    {
     "name": "stdout",
     "output_type": "stream",
     "text": [
      "Residential_Clear\\geojson_51.json\n"
     ]
    },
    {
     "name": "stderr",
     "output_type": "stream",
     "text": [
      "Processing files:  57%|████████████████████████████████████▏                          | 69/120 [08:01<04:43,  5.57s/it]"
     ]
    },
    {
     "name": "stdout",
     "output_type": "stream",
     "text": [
      "Residential_Clear\\geojson_52.json\n"
     ]
    },
    {
     "name": "stderr",
     "output_type": "stream",
     "text": [
      "Processing files:  58%|████████████████████████████████████▊                          | 70/120 [08:06<04:34,  5.48s/it]"
     ]
    },
    {
     "name": "stdout",
     "output_type": "stream",
     "text": [
      "Residential_Clear\\geojson_53.json\n"
     ]
    },
    {
     "name": "stderr",
     "output_type": "stream",
     "text": [
      "Processing files:  59%|█████████████████████████████████████▎                         | 71/120 [08:12<04:26,  5.45s/it]"
     ]
    },
    {
     "name": "stdout",
     "output_type": "stream",
     "text": [
      "Residential_Clear\\geojson_54.json\n"
     ]
    },
    {
     "name": "stderr",
     "output_type": "stream",
     "text": [
      "Processing files:  60%|█████████████████████████████████████▊                         | 72/120 [08:18<04:25,  5.54s/it]"
     ]
    },
    {
     "name": "stdout",
     "output_type": "stream",
     "text": [
      "Residential_Clear\\geojson_55.json\n"
     ]
    },
    {
     "name": "stderr",
     "output_type": "stream",
     "text": [
      "Processing files:  61%|██████████████████████████████████████▎                        | 73/120 [08:23<04:19,  5.52s/it]"
     ]
    },
    {
     "name": "stdout",
     "output_type": "stream",
     "text": [
      "Residential_Clear\\geojson_56.json\n"
     ]
    },
    {
     "name": "stderr",
     "output_type": "stream",
     "text": [
      "Processing files:  62%|██████████████████████████████████████▊                        | 74/120 [08:29<04:16,  5.57s/it]"
     ]
    },
    {
     "name": "stdout",
     "output_type": "stream",
     "text": [
      "Residential_Clear\\geojson_57.json\n"
     ]
    },
    {
     "name": "stderr",
     "output_type": "stream",
     "text": [
      "Processing files:  62%|███████████████████████████████████████▍                       | 75/120 [08:34<04:09,  5.53s/it]"
     ]
    },
    {
     "name": "stdout",
     "output_type": "stream",
     "text": [
      "Residential_Clear\\geojson_58.json\n"
     ]
    },
    {
     "name": "stderr",
     "output_type": "stream",
     "text": [
      "Processing files:  63%|███████████████████████████████████████▉                       | 76/120 [08:40<04:04,  5.57s/it]"
     ]
    },
    {
     "name": "stdout",
     "output_type": "stream",
     "text": [
      "Residential_Clear\\geojson_59.json\n"
     ]
    },
    {
     "name": "stderr",
     "output_type": "stream",
     "text": [
      "Processing files:  64%|████████████████████████████████████████▍                      | 77/120 [08:45<03:58,  5.55s/it]"
     ]
    },
    {
     "name": "stdout",
     "output_type": "stream",
     "text": [
      "Residential_Clear\\geojson_6.json\n"
     ]
    },
    {
     "name": "stderr",
     "output_type": "stream",
     "text": [
      "Processing files:  65%|████████████████████████████████████████▉                      | 78/120 [08:51<03:55,  5.60s/it]"
     ]
    },
    {
     "name": "stdout",
     "output_type": "stream",
     "text": [
      "Residential_Clear\\geojson_60.json\n"
     ]
    },
    {
     "name": "stderr",
     "output_type": "stream",
     "text": [
      "Processing files:  66%|█████████████████████████████████████████▍                     | 79/120 [08:57<03:57,  5.79s/it]"
     ]
    },
    {
     "name": "stdout",
     "output_type": "stream",
     "text": [
      "Residential_Clear\\geojson_61.json\n"
     ]
    },
    {
     "name": "stderr",
     "output_type": "stream",
     "text": [
      "Processing files:  67%|██████████████████████████████████████████                     | 80/120 [09:04<03:57,  5.94s/it]"
     ]
    },
    {
     "name": "stdout",
     "output_type": "stream",
     "text": [
      "Residential_Clear\\geojson_62.json\n"
     ]
    },
    {
     "name": "stderr",
     "output_type": "stream",
     "text": [
      "Processing files:  68%|██████████████████████████████████████████▌                    | 81/120 [09:10<03:52,  5.96s/it]"
     ]
    },
    {
     "name": "stdout",
     "output_type": "stream",
     "text": [
      "Residential_Clear\\geojson_63.json\n"
     ]
    },
    {
     "name": "stderr",
     "output_type": "stream",
     "text": [
      "Processing files:  68%|███████████████████████████████████████████                    | 82/120 [09:16<03:47,  5.98s/it]"
     ]
    },
    {
     "name": "stdout",
     "output_type": "stream",
     "text": [
      "Residential_Clear\\geojson_64.json\n"
     ]
    },
    {
     "name": "stderr",
     "output_type": "stream",
     "text": [
      "Processing files:  69%|███████████████████████████████████████████▌                   | 83/120 [09:21<03:38,  5.91s/it]"
     ]
    },
    {
     "name": "stdout",
     "output_type": "stream",
     "text": [
      "Residential_Clear\\geojson_65.json\n"
     ]
    },
    {
     "name": "stderr",
     "output_type": "stream",
     "text": [
      "Processing files:  70%|████████████████████████████████████████████                   | 84/120 [09:27<03:29,  5.82s/it]"
     ]
    },
    {
     "name": "stdout",
     "output_type": "stream",
     "text": [
      "Residential_Clear\\geojson_66.json\n"
     ]
    },
    {
     "name": "stderr",
     "output_type": "stream",
     "text": [
      "Processing files:  71%|████████████████████████████████████████████▋                  | 85/120 [09:34<03:31,  6.05s/it]"
     ]
    },
    {
     "name": "stdout",
     "output_type": "stream",
     "text": [
      "Residential_Clear\\geojson_67.json\n"
     ]
    },
    {
     "name": "stderr",
     "output_type": "stream",
     "text": [
      "Processing files:  72%|█████████████████████████████████████████████▏                 | 86/120 [09:39<03:23,  5.98s/it]"
     ]
    },
    {
     "name": "stdout",
     "output_type": "stream",
     "text": [
      "Residential_Clear\\geojson_68.json\n"
     ]
    },
    {
     "name": "stderr",
     "output_type": "stream",
     "text": [
      "Processing files:  72%|█████████████████████████████████████████████▋                 | 87/120 [09:45<03:17,  5.98s/it]"
     ]
    },
    {
     "name": "stdout",
     "output_type": "stream",
     "text": [
      "Residential_Clear\\geojson_69.json\n"
     ]
    },
    {
     "name": "stderr",
     "output_type": "stream",
     "text": [
      "Processing files:  73%|██████████████████████████████████████████████▏                | 88/120 [09:51<03:12,  6.01s/it]"
     ]
    },
    {
     "name": "stdout",
     "output_type": "stream",
     "text": [
      "Residential_Clear\\geojson_7.json\n"
     ]
    },
    {
     "name": "stderr",
     "output_type": "stream",
     "text": [
      "Processing files:  74%|██████████████████████████████████████████████▋                | 89/120 [09:57<03:03,  5.92s/it]"
     ]
    },
    {
     "name": "stdout",
     "output_type": "stream",
     "text": [
      "Residential_Clear\\geojson_70.json\n"
     ]
    },
    {
     "name": "stderr",
     "output_type": "stream",
     "text": [
      "Processing files:  75%|███████████████████████████████████████████████▎               | 90/120 [10:03<02:57,  5.90s/it]"
     ]
    },
    {
     "name": "stdout",
     "output_type": "stream",
     "text": [
      "Residential_Clear\\geojson_71.json\n"
     ]
    },
    {
     "name": "stderr",
     "output_type": "stream",
     "text": [
      "Processing files:  76%|███████████████████████████████████████████████▊               | 91/120 [10:09<02:50,  5.87s/it]"
     ]
    },
    {
     "name": "stdout",
     "output_type": "stream",
     "text": [
      "Residential_Clear\\geojson_72.json\n"
     ]
    },
    {
     "name": "stderr",
     "output_type": "stream",
     "text": [
      "Processing files:  77%|████████████████████████████████████████████████▎              | 92/120 [10:15<02:44,  5.86s/it]"
     ]
    },
    {
     "name": "stdout",
     "output_type": "stream",
     "text": [
      "Residential_Clear\\geojson_73.json\n"
     ]
    },
    {
     "name": "stderr",
     "output_type": "stream",
     "text": [
      "Processing files:  78%|████████████████████████████████████████████████▊              | 93/120 [10:20<02:38,  5.88s/it]"
     ]
    },
    {
     "name": "stdout",
     "output_type": "stream",
     "text": [
      "Residential_Clear\\geojson_74.json\n"
     ]
    },
    {
     "name": "stderr",
     "output_type": "stream",
     "text": [
      "Processing files:  78%|█████████████████████████████████████████████████▎             | 94/120 [10:26<02:32,  5.87s/it]"
     ]
    },
    {
     "name": "stdout",
     "output_type": "stream",
     "text": [
      "Residential_Clear\\geojson_75.json\n"
     ]
    },
    {
     "name": "stderr",
     "output_type": "stream",
     "text": [
      "Processing files:  79%|█████████████████████████████████████████████████▉             | 95/120 [10:32<02:25,  5.82s/it]"
     ]
    },
    {
     "name": "stdout",
     "output_type": "stream",
     "text": [
      "Residential_Clear\\geojson_76.json\n"
     ]
    },
    {
     "name": "stderr",
     "output_type": "stream",
     "text": [
      "Processing files:  80%|██████████████████████████████████████████████████▍            | 96/120 [10:38<02:20,  5.84s/it]"
     ]
    },
    {
     "name": "stdout",
     "output_type": "stream",
     "text": [
      "Residential_Clear\\geojson_77.json\n"
     ]
    },
    {
     "name": "stderr",
     "output_type": "stream",
     "text": [
      "Processing files:  81%|██████████████████████████████████████████████████▉            | 97/120 [10:44<02:14,  5.85s/it]"
     ]
    },
    {
     "name": "stdout",
     "output_type": "stream",
     "text": [
      "Residential_Clear\\geojson_78.json\n"
     ]
    },
    {
     "name": "stderr",
     "output_type": "stream",
     "text": [
      "Processing files:  82%|███████████████████████████████████████████████████▍           | 98/120 [10:50<02:10,  5.91s/it]"
     ]
    },
    {
     "name": "stdout",
     "output_type": "stream",
     "text": [
      "Residential_Clear\\geojson_79.json\n"
     ]
    },
    {
     "name": "stderr",
     "output_type": "stream",
     "text": [
      "Processing files:  82%|███████████████████████████████████████████████████▉           | 99/120 [10:56<02:05,  5.96s/it]"
     ]
    },
    {
     "name": "stdout",
     "output_type": "stream",
     "text": [
      "Residential_Clear\\geojson_8.json\n"
     ]
    },
    {
     "name": "stderr",
     "output_type": "stream",
     "text": [
      "Processing files:  83%|███████████████████████████████████████████████████▋          | 100/120 [11:02<01:58,  5.95s/it]"
     ]
    },
    {
     "name": "stdout",
     "output_type": "stream",
     "text": [
      "Residential_Clear\\geojson_80.json\n"
     ]
    },
    {
     "name": "stderr",
     "output_type": "stream",
     "text": [
      "Processing files:  84%|████████████████████████████████████████████████████▏         | 101/120 [11:08<01:53,  5.95s/it]"
     ]
    },
    {
     "name": "stdout",
     "output_type": "stream",
     "text": [
      "Residential_Clear\\geojson_81.json\n"
     ]
    },
    {
     "name": "stderr",
     "output_type": "stream",
     "text": [
      "Processing files:  85%|████████████████████████████████████████████████████▋         | 102/120 [11:14<01:46,  5.92s/it]"
     ]
    },
    {
     "name": "stdout",
     "output_type": "stream",
     "text": [
      "Residential_Clear\\geojson_82.json\n"
     ]
    },
    {
     "name": "stderr",
     "output_type": "stream",
     "text": [
      "Processing files:  86%|█████████████████████████████████████████████████████▏        | 103/120 [11:20<01:41,  5.94s/it]"
     ]
    },
    {
     "name": "stdout",
     "output_type": "stream",
     "text": [
      "Residential_Clear\\geojson_83.json\n"
     ]
    },
    {
     "name": "stderr",
     "output_type": "stream",
     "text": [
      "Processing files:  87%|█████████████████████████████████████████████████████▋        | 104/120 [11:25<01:34,  5.89s/it]"
     ]
    },
    {
     "name": "stdout",
     "output_type": "stream",
     "text": [
      "Residential_Clear\\geojson_84.json\n"
     ]
    },
    {
     "name": "stderr",
     "output_type": "stream",
     "text": [
      "Processing files:  88%|██████████████████████████████████████████████████████▎       | 105/120 [11:31<01:27,  5.85s/it]"
     ]
    },
    {
     "name": "stdout",
     "output_type": "stream",
     "text": [
      "Residential_Clear\\geojson_85.json\n"
     ]
    },
    {
     "name": "stderr",
     "output_type": "stream",
     "text": [
      "Processing files:  88%|██████████████████████████████████████████████████████▊       | 106/120 [11:37<01:21,  5.85s/it]"
     ]
    },
    {
     "name": "stdout",
     "output_type": "stream",
     "text": [
      "Residential_Clear\\geojson_86.json\n"
     ]
    },
    {
     "name": "stderr",
     "output_type": "stream",
     "text": [
      "Processing files:  89%|███████████████████████████████████████████████████████▎      | 107/120 [11:43<01:16,  5.90s/it]"
     ]
    },
    {
     "name": "stdout",
     "output_type": "stream",
     "text": [
      "Residential_Clear\\geojson_87.json\n"
     ]
    },
    {
     "name": "stderr",
     "output_type": "stream",
     "text": [
      "Processing files:  90%|███████████████████████████████████████████████████████▊      | 108/120 [11:49<01:11,  5.94s/it]"
     ]
    },
    {
     "name": "stdout",
     "output_type": "stream",
     "text": [
      "Residential_Clear\\geojson_88.json\n"
     ]
    },
    {
     "name": "stderr",
     "output_type": "stream",
     "text": [
      "Processing files:  91%|████████████████████████████████████████████████████████▎     | 109/120 [11:55<01:05,  5.91s/it]"
     ]
    },
    {
     "name": "stdout",
     "output_type": "stream",
     "text": [
      "Residential_Clear\\geojson_89.json\n"
     ]
    },
    {
     "name": "stderr",
     "output_type": "stream",
     "text": [
      "Processing files:  92%|████████████████████████████████████████████████████████▊     | 110/120 [12:01<00:59,  5.91s/it]"
     ]
    },
    {
     "name": "stdout",
     "output_type": "stream",
     "text": [
      "Residential_Clear\\geojson_9.json\n"
     ]
    },
    {
     "name": "stderr",
     "output_type": "stream",
     "text": [
      "Processing files:  92%|█████████████████████████████████████████████████████████▎    | 111/120 [12:07<00:53,  5.95s/it]"
     ]
    },
    {
     "name": "stdout",
     "output_type": "stream",
     "text": [
      "Residential_Clear\\geojson_90.json\n"
     ]
    },
    {
     "name": "stderr",
     "output_type": "stream",
     "text": [
      "Processing files:  93%|█████████████████████████████████████████████████████████▊    | 112/120 [12:13<00:47,  5.96s/it]"
     ]
    },
    {
     "name": "stdout",
     "output_type": "stream",
     "text": [
      "Residential_Clear\\geojson_91.json\n"
     ]
    },
    {
     "name": "stderr",
     "output_type": "stream",
     "text": [
      "Processing files:  94%|██████████████████████████████████████████████████████████▍   | 113/120 [12:19<00:41,  5.96s/it]"
     ]
    },
    {
     "name": "stdout",
     "output_type": "stream",
     "text": [
      "Residential_Clear\\geojson_92.json\n"
     ]
    },
    {
     "name": "stderr",
     "output_type": "stream",
     "text": [
      "Processing files:  95%|██████████████████████████████████████████████████████████▉   | 114/120 [12:25<00:35,  5.98s/it]"
     ]
    },
    {
     "name": "stdout",
     "output_type": "stream",
     "text": [
      "Residential_Clear\\geojson_93.json\n"
     ]
    },
    {
     "name": "stderr",
     "output_type": "stream",
     "text": [
      "Processing files:  96%|███████████████████████████████████████████████████████████▍  | 115/120 [12:31<00:29,  5.95s/it]"
     ]
    },
    {
     "name": "stdout",
     "output_type": "stream",
     "text": [
      "Residential_Clear\\geojson_94.json\n"
     ]
    },
    {
     "name": "stderr",
     "output_type": "stream",
     "text": [
      "Processing files:  97%|███████████████████████████████████████████████████████████▉  | 116/120 [12:37<00:23,  6.00s/it]"
     ]
    },
    {
     "name": "stdout",
     "output_type": "stream",
     "text": [
      "Residential_Clear\\geojson_95.json\n"
     ]
    },
    {
     "name": "stderr",
     "output_type": "stream",
     "text": [
      "Processing files:  98%|████████████████████████████████████████████████████████████▍ | 117/120 [12:43<00:17,  5.96s/it]"
     ]
    },
    {
     "name": "stdout",
     "output_type": "stream",
     "text": [
      "Residential_Clear\\geojson_96.json\n"
     ]
    },
    {
     "name": "stderr",
     "output_type": "stream",
     "text": [
      "Processing files:  98%|████████████████████████████████████████████████████████████▉ | 118/120 [12:49<00:11,  5.97s/it]"
     ]
    },
    {
     "name": "stdout",
     "output_type": "stream",
     "text": [
      "Residential_Clear\\geojson_97.json\n"
     ]
    },
    {
     "name": "stderr",
     "output_type": "stream",
     "text": [
      "Processing files:  99%|█████████████████████████████████████████████████████████████▍| 119/120 [12:53<00:05,  5.60s/it]"
     ]
    },
    {
     "name": "stdout",
     "output_type": "stream",
     "text": [
      "Residential_Clear\\geojson_98.json\n"
     ]
    },
    {
     "name": "stderr",
     "output_type": "stream",
     "text": [
      "Processing files: 100%|██████████████████████████████████████████████████████████████| 120/120 [13:00<00:00,  6.50s/it]"
     ]
    },
    {
     "name": "stdout",
     "output_type": "stream",
     "text": [
      "Residential_Clear\\geojson_99.json\n"
     ]
    },
    {
     "name": "stderr",
     "output_type": "stream",
     "text": [
      "\n"
     ]
    }
   ],
   "source": [
    "output_directory = 'Residential_Clear'\n",
    "for filename in tqdm(files, desc='Processing files'):\n",
    "    file_path = os.path.join(input_directory, filename)\n",
    "    df = gpd.read_file(file_path)\n",
    "\n",
    "    # Keep desired columns using .loc\n",
    "    new_df = df.loc[:, ['OBJECTID', 'YearBuilt1', 'HEIGHT' ]]\n",
    "\n",
    "    # Replace values in the 'UseDescription' column using .isetitem()\n",
    "    new_df['UseDescription']= df['UseDescription'].replace(use_description_dict)\n",
    "\n",
    "    output_file_name = os.path.splitext(filename)[0] + '.json'\n",
    "    output_file_path = os.path.join(output_directory, filename)\n",
    "    print(output_file_path)\n",
    "    new_df.to_json(output_file_path, orient='records')"
   ]
  },
  {
   "cell_type": "markdown",
   "id": "8cfb6f87-2ee8-4bad-b25a-c0a3443b939a",
   "metadata": {},
   "source": [
    "# utilities"
   ]
  },
  {
   "cell_type": "code",
   "execution_count": 6,
   "id": "9d4f3cbf-1c3c-4ae4-a0e4-2107880463bd",
   "metadata": {},
   "outputs": [
    {
     "data": {
      "text/html": [
       "<div>\n",
       "<style scoped>\n",
       "    .dataframe tbody tr th:only-of-type {\n",
       "        vertical-align: middle;\n",
       "    }\n",
       "\n",
       "    .dataframe tbody tr th {\n",
       "        vertical-align: top;\n",
       "    }\n",
       "\n",
       "    .dataframe thead th {\n",
       "        text-align: right;\n",
       "    }\n",
       "</style>\n",
       "<table border=\"1\" class=\"dataframe\">\n",
       "  <thead>\n",
       "    <tr style=\"text-align: right;\">\n",
       "      <th></th>\n",
       "      <th>OBJECTID</th>\n",
       "      <th>CODE</th>\n",
       "      <th>BLD_ID</th>\n",
       "      <th>YearBuilt1</th>\n",
       "      <th>HEIGHT</th>\n",
       "      <th>ELEV</th>\n",
       "      <th>footprint</th>\n",
       "      <th>UseType</th>\n",
       "      <th>UseDescription</th>\n",
       "      <th>Shape_Length_1</th>\n",
       "      <th>Shape_Area_1</th>\n",
       "      <th>geometry</th>\n",
       "    </tr>\n",
       "  </thead>\n",
       "  <tbody>\n",
       "    <tr>\n",
       "      <th>0</th>\n",
       "      <td>25646</td>\n",
       "      <td>Building</td>\n",
       "      <td>461719723067</td>\n",
       "      <td>1973</td>\n",
       "      <td>6.91</td>\n",
       "      <td>346.53</td>\n",
       "      <td>67.0</td>\n",
       "      <td>Residential</td>\n",
       "      <td>Mobile Home Parks</td>\n",
       "      <td>6470.165886</td>\n",
       "      <td>2.153294e+06</td>\n",
       "      <td>MULTIPOLYGON (((-118.32870 33.72667, -118.3286...</td>\n",
       "    </tr>\n",
       "    <tr>\n",
       "      <th>1</th>\n",
       "      <td>25647</td>\n",
       "      <td>Building</td>\n",
       "      <td>462070722920</td>\n",
       "      <td>1973</td>\n",
       "      <td>6.24</td>\n",
       "      <td>329.87</td>\n",
       "      <td>463.0</td>\n",
       "      <td>Residential</td>\n",
       "      <td>Mobile Home Parks</td>\n",
       "      <td>6470.165886</td>\n",
       "      <td>2.153294e+06</td>\n",
       "      <td>MULTIPOLYGON (((-118.32757 33.72623, -118.3275...</td>\n",
       "    </tr>\n",
       "    <tr>\n",
       "      <th>2</th>\n",
       "      <td>25648</td>\n",
       "      <td>Building</td>\n",
       "      <td>462360721826</td>\n",
       "      <td>1961</td>\n",
       "      <td>13.94</td>\n",
       "      <td>202.15</td>\n",
       "      <td>2722.0</td>\n",
       "      <td>Residential</td>\n",
       "      <td>Single</td>\n",
       "      <td>449.190187</td>\n",
       "      <td>9.170109e+03</td>\n",
       "      <td>MULTIPOLYGON (((-118.32652 33.72331, -118.3265...</td>\n",
       "    </tr>\n",
       "    <tr>\n",
       "      <th>3</th>\n",
       "      <td>25649</td>\n",
       "      <td>Building</td>\n",
       "      <td>462189721254</td>\n",
       "      <td>1959</td>\n",
       "      <td>12.82</td>\n",
       "      <td>180.59</td>\n",
       "      <td>2628.0</td>\n",
       "      <td>Residential</td>\n",
       "      <td>Single</td>\n",
       "      <td>360.021310</td>\n",
       "      <td>7.201086e+03</td>\n",
       "      <td>MULTIPOLYGON (((-118.32705 33.72178, -118.3271...</td>\n",
       "    </tr>\n",
       "    <tr>\n",
       "      <th>4</th>\n",
       "      <td>25650</td>\n",
       "      <td>Building</td>\n",
       "      <td>462298721174</td>\n",
       "      <td>1958</td>\n",
       "      <td>14.26</td>\n",
       "      <td>182.84</td>\n",
       "      <td>2405.0</td>\n",
       "      <td>Residential</td>\n",
       "      <td>Single</td>\n",
       "      <td>360.023586</td>\n",
       "      <td>7.201049e+03</td>\n",
       "      <td>MULTIPOLYGON (((-118.32673 33.72159, -118.3267...</td>\n",
       "    </tr>\n",
       "    <tr>\n",
       "      <th>...</th>\n",
       "      <td>...</td>\n",
       "      <td>...</td>\n",
       "      <td>...</td>\n",
       "      <td>...</td>\n",
       "      <td>...</td>\n",
       "      <td>...</td>\n",
       "      <td>...</td>\n",
       "      <td>...</td>\n",
       "      <td>...</td>\n",
       "      <td>...</td>\n",
       "      <td>...</td>\n",
       "      <td>...</td>\n",
       "    </tr>\n",
       "    <tr>\n",
       "      <th>22561</th>\n",
       "      <td>52075</td>\n",
       "      <td>Building</td>\n",
       "      <td>531233743244</td>\n",
       "      <td>1954</td>\n",
       "      <td>12.91</td>\n",
       "      <td>26.28</td>\n",
       "      <td>2059.0</td>\n",
       "      <td>Residential</td>\n",
       "      <td>Single</td>\n",
       "      <td>303.161381</td>\n",
       "      <td>5.552546e+03</td>\n",
       "      <td>MULTIPOLYGON (((-118.10008 33.78255, -118.1001...</td>\n",
       "    </tr>\n",
       "    <tr>\n",
       "      <th>22562</th>\n",
       "      <td>52076</td>\n",
       "      <td>Building</td>\n",
       "      <td>518340739924</td>\n",
       "      <td>1936</td>\n",
       "      <td>14.33</td>\n",
       "      <td>73.22</td>\n",
       "      <td>1249.0</td>\n",
       "      <td>Residential</td>\n",
       "      <td>Two Units</td>\n",
       "      <td>349.410872</td>\n",
       "      <td>6.242705e+03</td>\n",
       "      <td>MULTIPOLYGON (((-118.14249 33.77337, -118.1424...</td>\n",
       "    </tr>\n",
       "    <tr>\n",
       "      <th>22563</th>\n",
       "      <td>52077</td>\n",
       "      <td>Building</td>\n",
       "      <td>516068742888</td>\n",
       "      <td>1910</td>\n",
       "      <td>19.73</td>\n",
       "      <td>60.68</td>\n",
       "      <td>2199.0</td>\n",
       "      <td>Residential</td>\n",
       "      <td>Two Units</td>\n",
       "      <td>340.200470</td>\n",
       "      <td>5.630064e+03</td>\n",
       "      <td>MULTIPOLYGON (((-118.14990 33.78151, -118.1499...</td>\n",
       "    </tr>\n",
       "    <tr>\n",
       "      <th>22564</th>\n",
       "      <td>52078</td>\n",
       "      <td>Building</td>\n",
       "      <td>516198742513</td>\n",
       "      <td>1950</td>\n",
       "      <td>10.78</td>\n",
       "      <td>52.32</td>\n",
       "      <td>986.0</td>\n",
       "      <td>Residential</td>\n",
       "      <td>Five or more apartments</td>\n",
       "      <td>327.680414</td>\n",
       "      <td>6.228654e+03</td>\n",
       "      <td>MULTIPOLYGON (((-118.14970 33.78048, -118.1495...</td>\n",
       "    </tr>\n",
       "    <tr>\n",
       "      <th>22565</th>\n",
       "      <td>52080</td>\n",
       "      <td>Building</td>\n",
       "      <td>522894736701</td>\n",
       "      <td>1961</td>\n",
       "      <td>28.88</td>\n",
       "      <td>36.49</td>\n",
       "      <td>2305.0</td>\n",
       "      <td>Residential</td>\n",
       "      <td>Single</td>\n",
       "      <td>257.356867</td>\n",
       "      <td>3.923849e+03</td>\n",
       "      <td>MULTIPOLYGON (((-118.12749 33.76447, -118.1276...</td>\n",
       "    </tr>\n",
       "  </tbody>\n",
       "</table>\n",
       "<p>22566 rows × 12 columns</p>\n",
       "</div>"
      ],
      "text/plain": [
       "       OBJECTID      CODE        BLD_ID YearBuilt1  HEIGHT    ELEV  footprint  \\\n",
       "0         25646  Building  461719723067       1973    6.91  346.53       67.0   \n",
       "1         25647  Building  462070722920       1973    6.24  329.87      463.0   \n",
       "2         25648  Building  462360721826       1961   13.94  202.15     2722.0   \n",
       "3         25649  Building  462189721254       1959   12.82  180.59     2628.0   \n",
       "4         25650  Building  462298721174       1958   14.26  182.84     2405.0   \n",
       "...         ...       ...           ...        ...     ...     ...        ...   \n",
       "22561     52075  Building  531233743244       1954   12.91   26.28     2059.0   \n",
       "22562     52076  Building  518340739924       1936   14.33   73.22     1249.0   \n",
       "22563     52077  Building  516068742888       1910   19.73   60.68     2199.0   \n",
       "22564     52078  Building  516198742513       1950   10.78   52.32      986.0   \n",
       "22565     52080  Building  522894736701       1961   28.88   36.49     2305.0   \n",
       "\n",
       "           UseType           UseDescription  Shape_Length_1  Shape_Area_1  \\\n",
       "0      Residential        Mobile Home Parks     6470.165886  2.153294e+06   \n",
       "1      Residential        Mobile Home Parks     6470.165886  2.153294e+06   \n",
       "2      Residential                   Single      449.190187  9.170109e+03   \n",
       "3      Residential                   Single      360.021310  7.201086e+03   \n",
       "4      Residential                   Single      360.023586  7.201049e+03   \n",
       "...            ...                      ...             ...           ...   \n",
       "22561  Residential                   Single      303.161381  5.552546e+03   \n",
       "22562  Residential                Two Units      349.410872  6.242705e+03   \n",
       "22563  Residential                Two Units      340.200470  5.630064e+03   \n",
       "22564  Residential  Five or more apartments      327.680414  6.228654e+03   \n",
       "22565  Residential                   Single      257.356867  3.923849e+03   \n",
       "\n",
       "                                                geometry  \n",
       "0      MULTIPOLYGON (((-118.32870 33.72667, -118.3286...  \n",
       "1      MULTIPOLYGON (((-118.32757 33.72623, -118.3275...  \n",
       "2      MULTIPOLYGON (((-118.32652 33.72331, -118.3265...  \n",
       "3      MULTIPOLYGON (((-118.32705 33.72178, -118.3271...  \n",
       "4      MULTIPOLYGON (((-118.32673 33.72159, -118.3267...  \n",
       "...                                                  ...  \n",
       "22561  MULTIPOLYGON (((-118.10008 33.78255, -118.1001...  \n",
       "22562  MULTIPOLYGON (((-118.14249 33.77337, -118.1424...  \n",
       "22563  MULTIPOLYGON (((-118.14990 33.78151, -118.1499...  \n",
       "22564  MULTIPOLYGON (((-118.14970 33.78048, -118.1495...  \n",
       "22565  MULTIPOLYGON (((-118.12749 33.76447, -118.1276...  \n",
       "\n",
       "[22566 rows x 12 columns]"
      ]
     },
     "execution_count": 6,
     "metadata": {},
     "output_type": "execute_result"
    }
   ],
   "source": [
    "input_file = \"Residential/geojson_1.json\"\n",
    "data = gpd.read_file(input_file)\n",
    "data"
   ]
  },
  {
   "cell_type": "code",
   "execution_count": 7,
   "id": "68cd52c1-5e50-42b1-860a-dfedef7ce65a",
   "metadata": {},
   "outputs": [],
   "source": [
    "# Assuming your dataframe is called 'df'\n",
    "column_name = \"OBJECTID\"\n",
    "\n",
    "# Create a new dataframe with just the 'OBJECTID' column\n",
    "new_df = data[[column_name]]\n",
    "\n",
    "# Save the dataframe to a CSV file\n",
    "new_df.to_csv(\"geojson_1_OBJECTID.csv\", index=False)"
   ]
  },
  {
   "cell_type": "code",
   "execution_count": 8,
   "id": "5b2088df-5407-4036-87e3-813ba90e445c",
   "metadata": {},
   "outputs": [
    {
     "data": {
      "text/html": [
       "<div>\n",
       "<style scoped>\n",
       "    .dataframe tbody tr th:only-of-type {\n",
       "        vertical-align: middle;\n",
       "    }\n",
       "\n",
       "    .dataframe tbody tr th {\n",
       "        vertical-align: top;\n",
       "    }\n",
       "\n",
       "    .dataframe thead th {\n",
       "        text-align: right;\n",
       "    }\n",
       "</style>\n",
       "<table border=\"1\" class=\"dataframe\">\n",
       "  <thead>\n",
       "    <tr style=\"text-align: right;\">\n",
       "      <th></th>\n",
       "      <th>OBJECTID</th>\n",
       "    </tr>\n",
       "  </thead>\n",
       "  <tbody>\n",
       "    <tr>\n",
       "      <th>0</th>\n",
       "      <td>25646</td>\n",
       "    </tr>\n",
       "    <tr>\n",
       "      <th>1</th>\n",
       "      <td>25647</td>\n",
       "    </tr>\n",
       "    <tr>\n",
       "      <th>2</th>\n",
       "      <td>25648</td>\n",
       "    </tr>\n",
       "    <tr>\n",
       "      <th>3</th>\n",
       "      <td>25649</td>\n",
       "    </tr>\n",
       "    <tr>\n",
       "      <th>4</th>\n",
       "      <td>25650</td>\n",
       "    </tr>\n",
       "    <tr>\n",
       "      <th>...</th>\n",
       "      <td>...</td>\n",
       "    </tr>\n",
       "    <tr>\n",
       "      <th>22561</th>\n",
       "      <td>52075</td>\n",
       "    </tr>\n",
       "    <tr>\n",
       "      <th>22562</th>\n",
       "      <td>52076</td>\n",
       "    </tr>\n",
       "    <tr>\n",
       "      <th>22563</th>\n",
       "      <td>52077</td>\n",
       "    </tr>\n",
       "    <tr>\n",
       "      <th>22564</th>\n",
       "      <td>52078</td>\n",
       "    </tr>\n",
       "    <tr>\n",
       "      <th>22565</th>\n",
       "      <td>52080</td>\n",
       "    </tr>\n",
       "  </tbody>\n",
       "</table>\n",
       "<p>22566 rows × 1 columns</p>\n",
       "</div>"
      ],
      "text/plain": [
       "       OBJECTID\n",
       "0         25646\n",
       "1         25647\n",
       "2         25648\n",
       "3         25649\n",
       "4         25650\n",
       "...         ...\n",
       "22561     52075\n",
       "22562     52076\n",
       "22563     52077\n",
       "22564     52078\n",
       "22565     52080\n",
       "\n",
       "[22566 rows x 1 columns]"
      ]
     },
     "execution_count": 8,
     "metadata": {},
     "output_type": "execute_result"
    }
   ],
   "source": [
    "new_df"
   ]
  },
  {
   "cell_type": "code",
   "execution_count": null,
   "id": "f2bc8832-bd02-4843-8b0d-3eaa90178248",
   "metadata": {},
   "outputs": [],
   "source": [
    "\n",
    "# Assuming your CSV file has a column named 'OBJECTID' and the images are in the format 'f{objectid}.png'\n",
    "csv_file = 'data.csv'\n",
    "image_folder = 'img'\n",
    "output_folder = 'img\\geojson_0'\n",
    "\n",
    "# Create the output folder if it doesn't exist\n",
    "if not os.path.exists(output_folder):\n",
    "    os.makedirs(output_folder)\n",
    "\n",
    "# Read the CSV file into a dataframe\n",
    "df = pd.read_csv(csv_file)\n",
    "\n",
    "# Iterate over each row in the dataframe\n",
    "for index, row in df.iterrows():\n",
    "    object_id = row['OBJECTID']\n",
    "    image_file = f'f{object_id}.png'\n",
    "    source_path = os.path.join(image_folder, image_file)\n",
    "    destination_path = os.path.join(output_folder, image_file)\n",
    "    \n",
    "    # Check if the image file exists and move it to the output folder\n",
    "    if os.path.exists(source_path):\n",
    "        shutil.move(source_path, destination_path)\n",
    "        print(f\"Moved {image_file} to {output_folder}\")\n",
    "    else:\n",
    "        print(f\"Image file {image_file} not found for OBJECTID: {object_id}\")"
   ]
  }
 ],
 "metadata": {
  "kernelspec": {
   "display_name": "Python 3 (ipykernel)",
   "language": "python",
   "name": "python3"
  },
  "language_info": {
   "codemirror_mode": {
    "name": "ipython",
    "version": 3
   },
   "file_extension": ".py",
   "mimetype": "text/x-python",
   "name": "python",
   "nbconvert_exporter": "python",
   "pygments_lexer": "ipython3",
   "version": "3.10.10"
  }
 },
 "nbformat": 4,
 "nbformat_minor": 5
}
