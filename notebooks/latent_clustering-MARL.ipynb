{
 "cells": [
  {
   "cell_type": "code",
   "execution_count": 6,
   "id": "65e6ad84",
   "metadata": {},
   "outputs": [],
   "source": [
    "import sys\n",
    "sys.path.append('../')\n",
    "from model.VQAE import VQAE\n",
    "from model.MARL import MARL\n",
    "from utils import device, add_noise\n",
    "from tqdm import tqdm\n",
    "import torch\n",
    "from data.FloorPlanLoader import *\n",
    "import torch.nn.functional as F\n",
    "import random\n",
    "import json\n",
    "import torchvision\n",
    "import matplotlib.pyplot as plt\n",
    "\n",
    "\n",
    "USE_MULTISCALE = True\n",
    "USE_MULTITASK = True\n",
    "\n",
    "#Reproducability Checks:\n",
    "random.seed(0) #Python\n",
    "torch.manual_seed(0) #Torch\n",
    "np.random.seed(0) #NumPy\n",
    "\n",
    "\n",
    "import torchvision\n",
    "import torchvision.transforms.functional as TF\n",
    "import imageio\n",
    "from torchvision.utils import save_image\n",
    "# %load_ext autoreload\n",
    "# %autoreload 2\n",
    "import csv"
   ]
  },
  {
   "cell_type": "code",
   "execution_count": 7,
   "id": "28352b5f",
   "metadata": {},
   "outputs": [],
   "source": [
    "#Hyperparameter\n",
    "device = torch.device('cpu')\n",
    "batch_size = 128\n",
    "n_hiddens = 32\n",
    "n_residual_hiddens = 32\n",
    "n_residual_layers = 1\n",
    "embedding_dim = 64\n",
    "n_embeddings = 218\n",
    "beta = .25\n",
    "lr = 3e-3\n",
    "epochs = 100\n",
    "noise=False\n",
    "noise_weight=0.05\n",
    "img_channel=3 if USE_MULTISCALE else 1"
   ]
  },
  {
   "cell_type": "code",
   "execution_count": 8,
   "id": "71c9dd41-cfe6-43fe-9389-fe41c76c30b2",
   "metadata": {},
   "outputs": [],
   "source": [
    "#Load Dataset\n",
    "floor = FloorPlanDataset(multi_scale=True, root='../data/data_root/data00/',\\\n",
    "                         data_config='../data/data_config/', preprocess=True)\n",
    "data_loader = torch.utils.data.DataLoader(floor, batch_size=batch_size, shuffle=False)"
   ]
  },
  {
   "cell_type": "code",
   "execution_count": 15,
   "id": "f305ed81-a2ee-4d26-a2e5-e08ac5a3999c",
   "metadata": {},
   "outputs": [],
   "source": [
    "vqae = VQAE(n_hiddens, n_residual_hiddens, n_residual_layers,\n",
    "            n_embeddings, embedding_dim, \n",
    "            beta, img_channel).to(device)\n",
    "marl = MARL(vqae, True, floor.age_label_num, floor.category_num).to(device)\n",
    "marl.load_state_dict(torch.load(\"../best_checkpoint/65-marl-0.774954274368058.pt\"))\n",
    "\n",
    "for param in vqae.parameters():\n",
    "    param.to('cpu')\n",
    "for param in marl.parameters():\n",
    "    param.to('cpu')"
   ]
  },
  {
   "cell_type": "code",
   "execution_count": 25,
   "id": "f3301c9d",
   "metadata": {},
   "outputs": [
    {
     "name": "stderr",
     "output_type": "stream",
     "text": [
      "100%|████████████████████████████████████████████████████████████████████████████████| 180/180 [08:15<00:00,  2.75s/it]\n"
     ]
    }
   ],
   "source": [
    "marl.eval()\n",
    "latents = None\n",
    "with torch.no_grad():\n",
    "    for data in tqdm(data_loader):\n",
    "        data = data['image_tensor'].to(device)\n",
    "        valid_recon = marl(valid_originals)\n",
    "        quantized = valid_recon['vqae'][1]\n",
    "        if latents is not None:\n",
    "            latents = torch.cat([latents, quantized], dim=0)\n",
    "        else: \n",
    "            latents = quantized"
   ]
  },
  {
   "cell_type": "code",
   "execution_count": 26,
   "id": "640d83d8-9b3e-4134-b5da-d612712b291b",
   "metadata": {},
   "outputs": [],
   "source": [
    "latent_file_path = 'outputs/marl_latent.pt'"
   ]
  },
  {
   "cell_type": "code",
   "execution_count": 5,
   "id": "adf218cd-61d6-4539-8206-e0b15a35a773",
   "metadata": {},
   "outputs": [],
   "source": [
    "latents = torch.load(latent_file_path)"
   ]
  },
  {
   "cell_type": "code",
   "execution_count": 27,
   "id": "3d3ea492-1e97-4dfd-a021-baf347ed87d3",
   "metadata": {},
   "outputs": [],
   "source": [
    "torch.save(latents, latent_file_path)"
   ]
  },
  {
   "cell_type": "markdown",
   "id": "5b477f67",
   "metadata": {},
   "source": [
    "# Embedding Space Visualization"
   ]
  },
  {
   "cell_type": "code",
   "execution_count": 28,
   "id": "d1e2e972",
   "metadata": {},
   "outputs": [],
   "source": [
    "import numpy\n",
    "from sklearn.manifold import TSNE\n",
    "import matplotlib.pyplot as plt\n",
    "from mpl_toolkits import mplot3d\n",
    "# device = torch.device('cuda' if torch.cuda.is_available() else 'cpu')\n",
    "device = 'cpu'"
   ]
  },
  {
   "cell_type": "code",
   "execution_count": null,
   "id": "f71661e3-3fbf-4450-a8bd-0d37ad5116e8",
   "metadata": {},
   "outputs": [],
   "source": []
  },
  {
   "cell_type": "markdown",
   "id": "709d71fc",
   "metadata": {},
   "source": [
    "# Visualize the latent"
   ]
  },
  {
   "cell_type": "code",
   "execution_count": 37,
   "id": "b931c64a-2905-4267-b931-49c30b5f5343",
   "metadata": {},
   "outputs": [
    {
     "name": "stderr",
     "output_type": "stream",
     "text": [
      "C:\\Users\\vapeu\\miniconda3\\lib\\site-packages\\umap\\distances.py:1063: NumbaDeprecationWarning: \u001b[1mThe 'nopython' keyword argument was not supplied to the 'numba.jit' decorator. The implicit default value for this argument is currently False, but it will be changed to True in Numba 0.59.0. See https://numba.readthedocs.io/en/stable/reference/deprecation.html#deprecation-of-object-mode-fall-back-behaviour-when-using-jit for details.\u001b[0m\n",
      "  @numba.jit()\n",
      "C:\\Users\\vapeu\\miniconda3\\lib\\site-packages\\umap\\distances.py:1071: NumbaDeprecationWarning: \u001b[1mThe 'nopython' keyword argument was not supplied to the 'numba.jit' decorator. The implicit default value for this argument is currently False, but it will be changed to True in Numba 0.59.0. See https://numba.readthedocs.io/en/stable/reference/deprecation.html#deprecation-of-object-mode-fall-back-behaviour-when-using-jit for details.\u001b[0m\n",
      "  @numba.jit()\n",
      "C:\\Users\\vapeu\\miniconda3\\lib\\site-packages\\umap\\distances.py:1086: NumbaDeprecationWarning: \u001b[1mThe 'nopython' keyword argument was not supplied to the 'numba.jit' decorator. The implicit default value for this argument is currently False, but it will be changed to True in Numba 0.59.0. See https://numba.readthedocs.io/en/stable/reference/deprecation.html#deprecation-of-object-mode-fall-back-behaviour-when-using-jit for details.\u001b[0m\n",
      "  @numba.jit()\n",
      "C:\\Users\\vapeu\\miniconda3\\lib\\site-packages\\umap\\umap_.py:660: NumbaDeprecationWarning: \u001b[1mThe 'nopython' keyword argument was not supplied to the 'numba.jit' decorator. The implicit default value for this argument is currently False, but it will be changed to True in Numba 0.59.0. See https://numba.readthedocs.io/en/stable/reference/deprecation.html#deprecation-of-object-mode-fall-back-behaviour-when-using-jit for details.\u001b[0m\n",
      "  @numba.jit()\n",
      "C:\\Users\\vapeu\\miniconda3\\lib\\site-packages\\sklearn\\manifold\\_spectral_embedding.py:274: UserWarning: Graph is not fully connected, spectral embedding may not work as expected.\n",
      "  warnings.warn(\n"
     ]
    },
    {
     "data": {
      "image/png": "[encoded data removed]",
      "text/plain": [
       "<Figure size 640x480 with 1 Axes>"
      ]
     },
     "metadata": {},
     "output_type": "display_data"
    }
   ],
   "source": [
    "from umap import UMAP\n",
    "\n",
    "umap = UMAP(n_components=2)\n",
    "data_2d_umap = umap.fit_transform(torch.flatten(latents, start_dim=1).cpu())\n",
    "# Create a figure and a 3D axes object\n",
    "fig = plt.figure()\n",
    "ax = fig.add_subplot(111)\n",
    "\n",
    "# Create the initial scatter plot\n",
    "ax.scatter(data_2d_umap[:, 0], data_2d_umap[:, 1], s=0.5)\n",
    "\n",
    "# Show the plot\n",
    "plt.show()"
   ]
  },
  {
   "cell_type": "code",
   "execution_count": 29,
   "id": "01c6bcb2-50d3-4ae5-8513-fbc6c512b59f",
   "metadata": {},
   "outputs": [],
   "source": [
    "from sklearn.cluster import KMeans\n",
    "import matplotlib.pyplot as plt"
   ]
  },
  {
   "cell_type": "code",
   "execution_count": 9,
   "id": "c736e7dc-42bd-42b1-b468-be6ce390595a",
   "metadata": {},
   "outputs": [
    {
     "name": "stderr",
     "output_type": "stream",
     "text": [
      "  0%|                                                                                                                | 0/19 [00:10<?, ?it/s]\n"
     ]
    },
    {
     "ename": "KeyboardInterrupt",
     "evalue": "",
     "output_type": "error",
     "traceback": [
      "\u001b[1;31m---------------------------------------------------------------------------\u001b[0m",
      "\u001b[1;31mKeyboardInterrupt\u001b[0m                         Traceback (most recent call last)",
      "Cell \u001b[1;32mIn[9], line 13\u001b[0m\n\u001b[0;32m      8\u001b[0m     \u001b[38;5;28;01mreturn\u001b[39;00m wcss\n\u001b[0;32m     12\u001b[0m \u001b[38;5;66;03m# calculate WCSS for different numbers of clusters\u001b[39;00m\n\u001b[1;32m---> 13\u001b[0m wcss_umap \u001b[38;5;241m=\u001b[39m \u001b[43mcalculate_wcss_umap\u001b[49m\u001b[43m(\u001b[49m\u001b[43mlatents\u001b[49m\u001b[43m)\u001b[49m\n",
      "Cell \u001b[1;32mIn[9], line 6\u001b[0m, in \u001b[0;36mcalculate_wcss_umap\u001b[1;34m(data_2d_umap)\u001b[0m\n\u001b[0;32m      4\u001b[0m     kmeans \u001b[38;5;241m=\u001b[39m KMeans(n_clusters\u001b[38;5;241m=\u001b[39mn)\n\u001b[0;32m      5\u001b[0m     data \u001b[38;5;241m=\u001b[39m torch\u001b[38;5;241m.\u001b[39mflatten(data_2d_umap, start_dim\u001b[38;5;241m=\u001b[39m\u001b[38;5;241m1\u001b[39m)\u001b[38;5;241m.\u001b[39mcpu()\n\u001b[1;32m----> 6\u001b[0m     \u001b[43mkmeans\u001b[49m\u001b[38;5;241;43m.\u001b[39;49m\u001b[43mfit\u001b[49m\u001b[43m(\u001b[49m\u001b[43mdata\u001b[49m\u001b[43m)\u001b[49m\n\u001b[0;32m      7\u001b[0m     wcss\u001b[38;5;241m.\u001b[39mappend(kmeans\u001b[38;5;241m.\u001b[39minertia_)  \u001b[38;5;66;03m# inertia_ is the WCSS for the model\u001b[39;00m\n\u001b[0;32m      8\u001b[0m \u001b[38;5;28;01mreturn\u001b[39;00m wcss\n",
      "File \u001b[1;32m~\\miniconda3\\lib\\site-packages\\sklearn\\base.py:1151\u001b[0m, in \u001b[0;36m_fit_context.<locals>.decorator.<locals>.wrapper\u001b[1;34m(estimator, *args, **kwargs)\u001b[0m\n\u001b[0;32m   1144\u001b[0m     estimator\u001b[38;5;241m.\u001b[39m_validate_params()\n\u001b[0;32m   1146\u001b[0m \u001b[38;5;28;01mwith\u001b[39;00m config_context(\n\u001b[0;32m   1147\u001b[0m     skip_parameter_validation\u001b[38;5;241m=\u001b[39m(\n\u001b[0;32m   1148\u001b[0m         prefer_skip_nested_validation \u001b[38;5;129;01mor\u001b[39;00m global_skip_validation\n\u001b[0;32m   1149\u001b[0m     )\n\u001b[0;32m   1150\u001b[0m ):\n\u001b[1;32m-> 1151\u001b[0m     \u001b[38;5;28;01mreturn\u001b[39;00m fit_method(estimator, \u001b[38;5;241m*\u001b[39margs, \u001b[38;5;241m*\u001b[39m\u001b[38;5;241m*\u001b[39mkwargs)\n",
      "File \u001b[1;32m~\\miniconda3\\lib\\site-packages\\sklearn\\cluster\\_kmeans.py:1480\u001b[0m, in \u001b[0;36mKMeans.fit\u001b[1;34m(self, X, y, sample_weight)\u001b[0m\n\u001b[0;32m   1445\u001b[0m \u001b[38;5;250m\u001b[39m\u001b[38;5;124;03m\"\"\"Compute k-means clustering.\u001b[39;00m\n\u001b[0;32m   1446\u001b[0m \n\u001b[0;32m   1447\u001b[0m \u001b[38;5;124;03mParameters\u001b[39;00m\n\u001b[1;32m   (...)\u001b[0m\n\u001b[0;32m   1469\u001b[0m \u001b[38;5;124;03m    Fitted estimator.\u001b[39;00m\n\u001b[0;32m   1470\u001b[0m \u001b[38;5;124;03m\"\"\"\u001b[39;00m\n\u001b[0;32m   1471\u001b[0m X \u001b[38;5;241m=\u001b[39m \u001b[38;5;28mself\u001b[39m\u001b[38;5;241m.\u001b[39m_validate_data(\n\u001b[0;32m   1472\u001b[0m     X,\n\u001b[0;32m   1473\u001b[0m     accept_sparse\u001b[38;5;241m=\u001b[39m\u001b[38;5;124m\"\u001b[39m\u001b[38;5;124mcsr\u001b[39m\u001b[38;5;124m\"\u001b[39m,\n\u001b[1;32m   (...)\u001b[0m\n\u001b[0;32m   1477\u001b[0m     accept_large_sparse\u001b[38;5;241m=\u001b[39m\u001b[38;5;28;01mFalse\u001b[39;00m,\n\u001b[0;32m   1478\u001b[0m )\n\u001b[1;32m-> 1480\u001b[0m \u001b[38;5;28;43mself\u001b[39;49m\u001b[38;5;241;43m.\u001b[39;49m\u001b[43m_check_params_vs_input\u001b[49m\u001b[43m(\u001b[49m\u001b[43mX\u001b[49m\u001b[43m)\u001b[49m\n\u001b[0;32m   1482\u001b[0m random_state \u001b[38;5;241m=\u001b[39m check_random_state(\u001b[38;5;28mself\u001b[39m\u001b[38;5;241m.\u001b[39mrandom_state)\n\u001b[0;32m   1483\u001b[0m sample_weight \u001b[38;5;241m=\u001b[39m _check_sample_weight(sample_weight, X, dtype\u001b[38;5;241m=\u001b[39mX\u001b[38;5;241m.\u001b[39mdtype)\n",
      "File \u001b[1;32m~\\miniconda3\\lib\\site-packages\\sklearn\\cluster\\_kmeans.py:1412\u001b[0m, in \u001b[0;36mKMeans._check_params_vs_input\u001b[1;34m(self, X)\u001b[0m\n\u001b[0;32m   1411\u001b[0m \u001b[38;5;28;01mdef\u001b[39;00m \u001b[38;5;21m_check_params_vs_input\u001b[39m(\u001b[38;5;28mself\u001b[39m, X):\n\u001b[1;32m-> 1412\u001b[0m     \u001b[38;5;28;43msuper\u001b[39;49m\u001b[43m(\u001b[49m\u001b[43m)\u001b[49m\u001b[38;5;241;43m.\u001b[39;49m\u001b[43m_check_params_vs_input\u001b[49m\u001b[43m(\u001b[49m\u001b[43mX\u001b[49m\u001b[43m,\u001b[49m\u001b[43m \u001b[49m\u001b[43mdefault_n_init\u001b[49m\u001b[38;5;241;43m=\u001b[39;49m\u001b[38;5;241;43m10\u001b[39;49m\u001b[43m)\u001b[49m\n\u001b[0;32m   1414\u001b[0m     \u001b[38;5;28mself\u001b[39m\u001b[38;5;241m.\u001b[39m_algorithm \u001b[38;5;241m=\u001b[39m \u001b[38;5;28mself\u001b[39m\u001b[38;5;241m.\u001b[39malgorithm\n\u001b[0;32m   1415\u001b[0m     \u001b[38;5;28;01mif\u001b[39;00m \u001b[38;5;28mself\u001b[39m\u001b[38;5;241m.\u001b[39m_algorithm \u001b[38;5;129;01min\u001b[39;00m (\u001b[38;5;124m\"\u001b[39m\u001b[38;5;124mauto\u001b[39m\u001b[38;5;124m\"\u001b[39m, \u001b[38;5;124m\"\u001b[39m\u001b[38;5;124mfull\u001b[39m\u001b[38;5;124m\"\u001b[39m):\n",
      "File \u001b[1;32m~\\miniconda3\\lib\\site-packages\\sklearn\\cluster\\_kmeans.py:871\u001b[0m, in \u001b[0;36m_BaseKMeans._check_params_vs_input\u001b[1;34m(self, X, default_n_init)\u001b[0m\n\u001b[0;32m    866\u001b[0m     \u001b[38;5;28;01mraise\u001b[39;00m \u001b[38;5;167;01mValueError\u001b[39;00m(\n\u001b[0;32m    867\u001b[0m         \u001b[38;5;124mf\u001b[39m\u001b[38;5;124m\"\u001b[39m\u001b[38;5;124mn_samples=\u001b[39m\u001b[38;5;132;01m{\u001b[39;00mX\u001b[38;5;241m.\u001b[39mshape[\u001b[38;5;241m0\u001b[39m]\u001b[38;5;132;01m}\u001b[39;00m\u001b[38;5;124m should be >= n_clusters=\u001b[39m\u001b[38;5;132;01m{\u001b[39;00m\u001b[38;5;28mself\u001b[39m\u001b[38;5;241m.\u001b[39mn_clusters\u001b[38;5;132;01m}\u001b[39;00m\u001b[38;5;124m.\u001b[39m\u001b[38;5;124m\"\u001b[39m\n\u001b[0;32m    868\u001b[0m     )\n\u001b[0;32m    870\u001b[0m \u001b[38;5;66;03m# tol\u001b[39;00m\n\u001b[1;32m--> 871\u001b[0m \u001b[38;5;28mself\u001b[39m\u001b[38;5;241m.\u001b[39m_tol \u001b[38;5;241m=\u001b[39m \u001b[43m_tolerance\u001b[49m\u001b[43m(\u001b[49m\u001b[43mX\u001b[49m\u001b[43m,\u001b[49m\u001b[43m \u001b[49m\u001b[38;5;28;43mself\u001b[39;49m\u001b[38;5;241;43m.\u001b[39;49m\u001b[43mtol\u001b[49m\u001b[43m)\u001b[49m\n\u001b[0;32m    873\u001b[0m \u001b[38;5;66;03m# n-init\u001b[39;00m\n\u001b[0;32m    874\u001b[0m \u001b[38;5;66;03m# TODO(1.4): Remove\u001b[39;00m\n\u001b[0;32m    875\u001b[0m \u001b[38;5;28mself\u001b[39m\u001b[38;5;241m.\u001b[39m_n_init \u001b[38;5;241m=\u001b[39m \u001b[38;5;28mself\u001b[39m\u001b[38;5;241m.\u001b[39mn_init\n",
      "File \u001b[1;32m~\\miniconda3\\lib\\site-packages\\sklearn\\cluster\\_kmeans.py:290\u001b[0m, in \u001b[0;36m_tolerance\u001b[1;34m(X, tol)\u001b[0m\n\u001b[0;32m    288\u001b[0m     variances \u001b[38;5;241m=\u001b[39m mean_variance_axis(X, axis\u001b[38;5;241m=\u001b[39m\u001b[38;5;241m0\u001b[39m)[\u001b[38;5;241m1\u001b[39m]\n\u001b[0;32m    289\u001b[0m \u001b[38;5;28;01melse\u001b[39;00m:\n\u001b[1;32m--> 290\u001b[0m     variances \u001b[38;5;241m=\u001b[39m \u001b[43mnp\u001b[49m\u001b[38;5;241;43m.\u001b[39;49m\u001b[43mvar\u001b[49m\u001b[43m(\u001b[49m\u001b[43mX\u001b[49m\u001b[43m,\u001b[49m\u001b[43m \u001b[49m\u001b[43maxis\u001b[49m\u001b[38;5;241;43m=\u001b[39;49m\u001b[38;5;241;43m0\u001b[39;49m\u001b[43m)\u001b[49m\n\u001b[0;32m    291\u001b[0m \u001b[38;5;28;01mreturn\u001b[39;00m np\u001b[38;5;241m.\u001b[39mmean(variances) \u001b[38;5;241m*\u001b[39m tol\n",
      "File \u001b[1;32m<__array_function__ internals>:200\u001b[0m, in \u001b[0;36mvar\u001b[1;34m(*args, **kwargs)\u001b[0m\n",
      "File \u001b[1;32m~\\miniconda3\\lib\\site-packages\\numpy\\core\\fromnumeric.py:3747\u001b[0m, in \u001b[0;36mvar\u001b[1;34m(a, axis, dtype, out, ddof, keepdims, where)\u001b[0m\n\u001b[0;32m   3744\u001b[0m     \u001b[38;5;28;01melse\u001b[39;00m:\n\u001b[0;32m   3745\u001b[0m         \u001b[38;5;28;01mreturn\u001b[39;00m var(axis\u001b[38;5;241m=\u001b[39maxis, dtype\u001b[38;5;241m=\u001b[39mdtype, out\u001b[38;5;241m=\u001b[39mout, ddof\u001b[38;5;241m=\u001b[39mddof, \u001b[38;5;241m*\u001b[39m\u001b[38;5;241m*\u001b[39mkwargs)\n\u001b[1;32m-> 3747\u001b[0m \u001b[38;5;28;01mreturn\u001b[39;00m _methods\u001b[38;5;241m.\u001b[39m_var(a, axis\u001b[38;5;241m=\u001b[39maxis, dtype\u001b[38;5;241m=\u001b[39mdtype, out\u001b[38;5;241m=\u001b[39mout, ddof\u001b[38;5;241m=\u001b[39mddof,\n\u001b[0;32m   3748\u001b[0m                      \u001b[38;5;241m*\u001b[39m\u001b[38;5;241m*\u001b[39mkwargs)\n",
      "File \u001b[1;32m~\\miniconda3\\lib\\site-packages\\numpy\\core\\_methods.py:239\u001b[0m, in \u001b[0;36m_var\u001b[1;34m(a, axis, dtype, out, ddof, keepdims, where)\u001b[0m\n\u001b[0;32m    236\u001b[0m x \u001b[38;5;241m=\u001b[39m asanyarray(arr \u001b[38;5;241m-\u001b[39m arrmean)\n\u001b[0;32m    238\u001b[0m \u001b[38;5;28;01mif\u001b[39;00m \u001b[38;5;28missubclass\u001b[39m(arr\u001b[38;5;241m.\u001b[39mdtype\u001b[38;5;241m.\u001b[39mtype, (nt\u001b[38;5;241m.\u001b[39mfloating, nt\u001b[38;5;241m.\u001b[39minteger)):\n\u001b[1;32m--> 239\u001b[0m     x \u001b[38;5;241m=\u001b[39m \u001b[43mum\u001b[49m\u001b[38;5;241;43m.\u001b[39;49m\u001b[43mmultiply\u001b[49m\u001b[43m(\u001b[49m\u001b[43mx\u001b[49m\u001b[43m,\u001b[49m\u001b[43m \u001b[49m\u001b[43mx\u001b[49m\u001b[43m,\u001b[49m\u001b[43m \u001b[49m\u001b[43mout\u001b[49m\u001b[38;5;241;43m=\u001b[39;49m\u001b[43mx\u001b[49m\u001b[43m)\u001b[49m\n\u001b[0;32m    240\u001b[0m \u001b[38;5;66;03m# Fast-paths for built-in complex types\u001b[39;00m\n\u001b[0;32m    241\u001b[0m \u001b[38;5;28;01melif\u001b[39;00m x\u001b[38;5;241m.\u001b[39mdtype \u001b[38;5;129;01min\u001b[39;00m _complex_to_float:\n",
      "\u001b[1;31mKeyboardInterrupt\u001b[0m: "
     ]
    }
   ],
   "source": [
    "def calculate_wcss_umap(data_2d_umap):\n",
    "    wcss = []\n",
    "    for n in tqdm(range(2, 21)):  # change the range according to your needs\n",
    "        kmeans = KMeans(n_clusters=n)\n",
    "        data = torch.flatten(data_2d_umap, start_dim=1).cpu()\n",
    "        kmeans.fit(data)\n",
    "        wcss.append(kmeans.inertia_)  # inertia_ is the WCSS for the model\n",
    "    return wcss\n",
    "\n",
    "# calculate WCSS for different numbers of clusters\n",
    "wcss_umap = calculate_wcss_umap(latents)\n",
    "\n"
   ]
  },
  {
   "cell_type": "code",
   "execution_count": null,
   "id": "ce9c0183-c9c9-4e91-ab67-16bc8960bcbe",
   "metadata": {},
   "outputs": [],
   "source": [
    "tsne = TSNE(n_components=2)\n",
    "# apply t-SNE to data\n",
    "data_2d = tsne.fit_transform(torch.flatten(latents, start_dim=1).cpu())"
   ]
  },
  {
   "cell_type": "code",
   "execution_count": null,
   "id": "acfc3c7e",
   "metadata": {},
   "outputs": [],
   "source": [
    "# Create a figure and a 3D axes object\n",
    "fig = plt.figure()\n",
    "ax = fig.add_subplot(111)\n",
    "\n",
    "# Create the initial scatter plot\n",
    "ax.scatter(data_2d[:, 0], data_2d[:, 1], s=0.5)\n",
    "\n",
    "# Show the plot\n",
    "plt.show()"
   ]
  },
  {
   "cell_type": "markdown",
   "id": "f39f55a2",
   "metadata": {},
   "source": [
    "### deciding the number of clusters"
   ]
  },
  {
   "cell_type": "code",
   "execution_count": 29,
   "id": "a511ede6-d14b-43b1-a77b-6b6e74855d46",
   "metadata": {},
   "outputs": [],
   "source": [
    "from sklearn.cluster import KMeans\n",
    "import matplotlib.pyplot as plt"
   ]
  },
  {
   "cell_type": "code",
   "execution_count": 30,
   "id": "45ca0be8-d6b0-4cb8-8f5a-97f4d93f170b",
   "metadata": {},
   "outputs": [
    {
     "name": "stderr",
     "output_type": "stream",
     "text": [
      "  0%|                                                                                           | 0/20 [00:00<?, ?it/s]C:\\Users\\xinwei\\miniconda3\\lib\\site-packages\\sklearn\\cluster\\_kmeans.py:1412: FutureWarning: The default value of `n_init` will change from 10 to 'auto' in 1.4. Set the value of `n_init` explicitly to suppress the warning\n",
      "  super()._check_params_vs_input(X, default_n_init=10)\n",
      "  5%|████▏                                                                              | 1/20 [00:23<07:29, 23.66s/it]C:\\Users\\xinwei\\miniconda3\\lib\\site-packages\\sklearn\\cluster\\_kmeans.py:1412: FutureWarning: The default value of `n_init` will change from 10 to 'auto' in 1.4. Set the value of `n_init` explicitly to suppress the warning\n",
      "  super()._check_params_vs_input(X, default_n_init=10)\n",
      " 10%|████████▎                                                                          | 2/20 [02:24<24:15, 80.87s/it]C:\\Users\\xinwei\\miniconda3\\lib\\site-packages\\sklearn\\cluster\\_kmeans.py:1412: FutureWarning: The default value of `n_init` will change from 10 to 'auto' in 1.4. Set the value of `n_init` explicitly to suppress the warning\n",
      "  super()._check_params_vs_input(X, default_n_init=10)\n",
      " 15%|████████████▎                                                                     | 3/20 [05:19<35:01, 123.59s/it]C:\\Users\\xinwei\\miniconda3\\lib\\site-packages\\sklearn\\cluster\\_kmeans.py:1412: FutureWarning: The default value of `n_init` will change from 10 to 'auto' in 1.4. Set the value of `n_init` explicitly to suppress the warning\n",
      "  super()._check_params_vs_input(X, default_n_init=10)\n",
      " 20%|████████████████▍                                                                 | 4/20 [08:32<40:21, 151.31s/it]C:\\Users\\xinwei\\miniconda3\\lib\\site-packages\\sklearn\\cluster\\_kmeans.py:1412: FutureWarning: The default value of `n_init` will change from 10 to 'auto' in 1.4. Set the value of `n_init` explicitly to suppress the warning\n",
      "  super()._check_params_vs_input(X, default_n_init=10)\n",
      " 25%|████████████████████▌                                                             | 5/20 [11:41<41:11, 164.77s/it]C:\\Users\\xinwei\\miniconda3\\lib\\site-packages\\sklearn\\cluster\\_kmeans.py:1412: FutureWarning: The default value of `n_init` will change from 10 to 'auto' in 1.4. Set the value of `n_init` explicitly to suppress the warning\n",
      "  super()._check_params_vs_input(X, default_n_init=10)\n",
      " 30%|████████████████████████▌                                                         | 6/20 [17:11<51:35, 221.08s/it]C:\\Users\\xinwei\\miniconda3\\lib\\site-packages\\sklearn\\cluster\\_kmeans.py:1412: FutureWarning: The default value of `n_init` will change from 10 to 'auto' in 1.4. Set the value of `n_init` explicitly to suppress the warning\n",
      "  super()._check_params_vs_input(X, default_n_init=10)\n",
      " 35%|████████████████████████████                                                    | 7/20 [23:54<1:00:45, 280.42s/it]C:\\Users\\xinwei\\miniconda3\\lib\\site-packages\\sklearn\\cluster\\_kmeans.py:1412: FutureWarning: The default value of `n_init` will change from 10 to 'auto' in 1.4. Set the value of `n_init` explicitly to suppress the warning\n",
      "  super()._check_params_vs_input(X, default_n_init=10)\n",
      " 40%|████████████████████████████████                                                | 8/20 [32:54<1:12:38, 363.22s/it]C:\\Users\\xinwei\\miniconda3\\lib\\site-packages\\sklearn\\cluster\\_kmeans.py:1412: FutureWarning: The default value of `n_init` will change from 10 to 'auto' in 1.4. Set the value of `n_init` explicitly to suppress the warning\n",
      "  super()._check_params_vs_input(X, default_n_init=10)\n",
      " 45%|████████████████████████████████████                                            | 9/20 [40:22<1:11:26, 389.72s/it]C:\\Users\\xinwei\\miniconda3\\lib\\site-packages\\sklearn\\cluster\\_kmeans.py:1412: FutureWarning: The default value of `n_init` will change from 10 to 'auto' in 1.4. Set the value of `n_init` explicitly to suppress the warning\n",
      "  super()._check_params_vs_input(X, default_n_init=10)\n",
      " 50%|███████████████████████████████████████▌                                       | 10/20 [50:14<1:15:20, 452.03s/it]C:\\Users\\xinwei\\miniconda3\\lib\\site-packages\\sklearn\\cluster\\_kmeans.py:1412: FutureWarning: The default value of `n_init` will change from 10 to 'auto' in 1.4. Set the value of `n_init` explicitly to suppress the warning\n",
      "  super()._check_params_vs_input(X, default_n_init=10)\n",
      " 55%|██████████████████████████████████████████▎                                  | 11/20 [1:00:01<1:14:01, 493.48s/it]C:\\Users\\xinwei\\miniconda3\\lib\\site-packages\\sklearn\\cluster\\_kmeans.py:1412: FutureWarning: The default value of `n_init` will change from 10 to 'auto' in 1.4. Set the value of `n_init` explicitly to suppress the warning\n",
      "  super()._check_params_vs_input(X, default_n_init=10)\n",
      " 60%|██████████████████████████████████████████████▏                              | 12/20 [1:09:36<1:09:05, 518.16s/it]C:\\Users\\xinwei\\miniconda3\\lib\\site-packages\\sklearn\\cluster\\_kmeans.py:1412: FutureWarning: The default value of `n_init` will change from 10 to 'auto' in 1.4. Set the value of `n_init` explicitly to suppress the warning\n",
      "  super()._check_params_vs_input(X, default_n_init=10)\n",
      " 65%|███████████████████████████████████████████████████▎                           | 13/20 [1:17:35<59:04, 506.32s/it]C:\\Users\\xinwei\\miniconda3\\lib\\site-packages\\sklearn\\cluster\\_kmeans.py:1412: FutureWarning: The default value of `n_init` will change from 10 to 'auto' in 1.4. Set the value of `n_init` explicitly to suppress the warning\n",
      "  super()._check_params_vs_input(X, default_n_init=10)\n",
      " 70%|███████████████████████████████████████████████████████▎                       | 14/20 [1:27:12<52:46, 527.69s/it]C:\\Users\\xinwei\\miniconda3\\lib\\site-packages\\sklearn\\cluster\\_kmeans.py:1412: FutureWarning: The default value of `n_init` will change from 10 to 'auto' in 1.4. Set the value of `n_init` explicitly to suppress the warning\n",
      "  super()._check_params_vs_input(X, default_n_init=10)\n",
      " 75%|███████████████████████████████████████████████████████████▎                   | 15/20 [1:38:36<47:54, 574.80s/it]C:\\Users\\xinwei\\miniconda3\\lib\\site-packages\\sklearn\\cluster\\_kmeans.py:1412: FutureWarning: The default value of `n_init` will change from 10 to 'auto' in 1.4. Set the value of `n_init` explicitly to suppress the warning\n",
      "  super()._check_params_vs_input(X, default_n_init=10)\n",
      " 80%|███████████████████████████████████████████████████████████████▏               | 16/20 [1:47:46<37:49, 567.30s/it]C:\\Users\\xinwei\\miniconda3\\lib\\site-packages\\sklearn\\cluster\\_kmeans.py:1412: FutureWarning: The default value of `n_init` will change from 10 to 'auto' in 1.4. Set the value of `n_init` explicitly to suppress the warning\n",
      "  super()._check_params_vs_input(X, default_n_init=10)\n",
      " 85%|███████████████████████████████████████████████████████████████████▏           | 17/20 [1:57:08<28:17, 565.81s/it]C:\\Users\\xinwei\\miniconda3\\lib\\site-packages\\sklearn\\cluster\\_kmeans.py:1412: FutureWarning: The default value of `n_init` will change from 10 to 'auto' in 1.4. Set the value of `n_init` explicitly to suppress the warning\n",
      "  super()._check_params_vs_input(X, default_n_init=10)\n",
      " 90%|███████████████████████████████████████████████████████████████████████        | 18/20 [2:07:14<19:15, 577.89s/it]C:\\Users\\xinwei\\miniconda3\\lib\\site-packages\\sklearn\\cluster\\_kmeans.py:1412: FutureWarning: The default value of `n_init` will change from 10 to 'auto' in 1.4. Set the value of `n_init` explicitly to suppress the warning\n",
      "  super()._check_params_vs_input(X, default_n_init=10)\n",
      " 95%|███████████████████████████████████████████████████████████████████████████    | 19/20 [2:17:43<09:53, 593.25s/it]C:\\Users\\xinwei\\miniconda3\\lib\\site-packages\\sklearn\\cluster\\_kmeans.py:1412: FutureWarning: The default value of `n_init` will change from 10 to 'auto' in 1.4. Set the value of `n_init` explicitly to suppress the warning\n",
      "  super()._check_params_vs_input(X, default_n_init=10)\n",
      "100%|███████████████████████████████████████████████████████████████████████████████| 20/20 [2:26:57<00:00, 440.86s/it]\n"
     ]
    },
    {
     "ename": "ValueError",
     "evalue": "x and y must have same first dimension, but have shapes (19,) and (20,)",
     "output_type": "error",
     "traceback": [
      "\u001b[1;31m---------------------------------------------------------------------------\u001b[0m",
      "\u001b[1;31mValueError\u001b[0m                                Traceback (most recent call last)",
      "Cell \u001b[1;32mIn[30], line 23\u001b[0m\n\u001b[0;32m     20\u001b[0m wcss \u001b[38;5;241m=\u001b[39m calculate_wcss(latents)\n\u001b[0;32m     22\u001b[0m \u001b[38;5;66;03m# plot the elbow graph\u001b[39;00m\n\u001b[1;32m---> 23\u001b[0m \u001b[43mplot_elbow\u001b[49m\u001b[43m(\u001b[49m\u001b[43mwcss\u001b[49m\u001b[43m)\u001b[49m\n",
      "Cell \u001b[1;32mIn[30], line 12\u001b[0m, in \u001b[0;36mplot_elbow\u001b[1;34m(wcss)\u001b[0m\n\u001b[0;32m     10\u001b[0m \u001b[38;5;28;01mdef\u001b[39;00m \u001b[38;5;21mplot_elbow\u001b[39m(wcss):\n\u001b[0;32m     11\u001b[0m     plt\u001b[38;5;241m.\u001b[39mfigure(figsize\u001b[38;5;241m=\u001b[39m(\u001b[38;5;241m10\u001b[39m,\u001b[38;5;241m5\u001b[39m))\n\u001b[1;32m---> 12\u001b[0m     \u001b[43mplt\u001b[49m\u001b[38;5;241;43m.\u001b[39;49m\u001b[43mplot\u001b[49m\u001b[43m(\u001b[49m\u001b[38;5;28;43mrange\u001b[39;49m\u001b[43m(\u001b[49m\u001b[38;5;241;43m2\u001b[39;49m\u001b[43m,\u001b[49m\u001b[43m \u001b[49m\u001b[38;5;241;43m21\u001b[39;49m\u001b[43m)\u001b[49m\u001b[43m,\u001b[49m\u001b[43m \u001b[49m\u001b[43mwcss\u001b[49m\u001b[43m,\u001b[49m\u001b[43m \u001b[49m\u001b[38;5;124;43m'\u001b[39;49m\u001b[38;5;124;43mbo-\u001b[39;49m\u001b[38;5;124;43m'\u001b[39;49m\u001b[43m)\u001b[49m  \u001b[38;5;66;03m# change the range according to your needs\u001b[39;00m\n\u001b[0;32m     13\u001b[0m     plt\u001b[38;5;241m.\u001b[39mtitle(\u001b[38;5;124m'\u001b[39m\u001b[38;5;124mThe Elbow Method\u001b[39m\u001b[38;5;124m'\u001b[39m)\n\u001b[0;32m     14\u001b[0m     plt\u001b[38;5;241m.\u001b[39mxlabel(\u001b[38;5;124m'\u001b[39m\u001b[38;5;124mNumber of clusters\u001b[39m\u001b[38;5;124m'\u001b[39m)\n",
      "File \u001b[1;32m~\\miniconda3\\lib\\site-packages\\matplotlib\\pyplot.py:2812\u001b[0m, in \u001b[0;36mplot\u001b[1;34m(scalex, scaley, data, *args, **kwargs)\u001b[0m\n\u001b[0;32m   2810\u001b[0m \u001b[38;5;129m@_copy_docstring_and_deprecators\u001b[39m(Axes\u001b[38;5;241m.\u001b[39mplot)\n\u001b[0;32m   2811\u001b[0m \u001b[38;5;28;01mdef\u001b[39;00m \u001b[38;5;21mplot\u001b[39m(\u001b[38;5;241m*\u001b[39margs, scalex\u001b[38;5;241m=\u001b[39m\u001b[38;5;28;01mTrue\u001b[39;00m, scaley\u001b[38;5;241m=\u001b[39m\u001b[38;5;28;01mTrue\u001b[39;00m, data\u001b[38;5;241m=\u001b[39m\u001b[38;5;28;01mNone\u001b[39;00m, \u001b[38;5;241m*\u001b[39m\u001b[38;5;241m*\u001b[39mkwargs):\n\u001b[1;32m-> 2812\u001b[0m     \u001b[38;5;28;01mreturn\u001b[39;00m gca()\u001b[38;5;241m.\u001b[39mplot(\n\u001b[0;32m   2813\u001b[0m         \u001b[38;5;241m*\u001b[39margs, scalex\u001b[38;5;241m=\u001b[39mscalex, scaley\u001b[38;5;241m=\u001b[39mscaley,\n\u001b[0;32m   2814\u001b[0m         \u001b[38;5;241m*\u001b[39m\u001b[38;5;241m*\u001b[39m({\u001b[38;5;124m\"\u001b[39m\u001b[38;5;124mdata\u001b[39m\u001b[38;5;124m\"\u001b[39m: data} \u001b[38;5;28;01mif\u001b[39;00m data \u001b[38;5;129;01mis\u001b[39;00m \u001b[38;5;129;01mnot\u001b[39;00m \u001b[38;5;28;01mNone\u001b[39;00m \u001b[38;5;28;01melse\u001b[39;00m {}), \u001b[38;5;241m*\u001b[39m\u001b[38;5;241m*\u001b[39mkwargs)\n",
      "File \u001b[1;32m~\\miniconda3\\lib\\site-packages\\matplotlib\\axes\\_axes.py:1688\u001b[0m, in \u001b[0;36mAxes.plot\u001b[1;34m(self, scalex, scaley, data, *args, **kwargs)\u001b[0m\n\u001b[0;32m   1445\u001b[0m \u001b[38;5;250m\u001b[39m\u001b[38;5;124;03m\"\"\"\u001b[39;00m\n\u001b[0;32m   1446\u001b[0m \u001b[38;5;124;03mPlot y versus x as lines and/or markers.\u001b[39;00m\n\u001b[0;32m   1447\u001b[0m \n\u001b[1;32m   (...)\u001b[0m\n\u001b[0;32m   1685\u001b[0m \u001b[38;5;124;03m(``'green'``) or hex strings (``'#008000'``).\u001b[39;00m\n\u001b[0;32m   1686\u001b[0m \u001b[38;5;124;03m\"\"\"\u001b[39;00m\n\u001b[0;32m   1687\u001b[0m kwargs \u001b[38;5;241m=\u001b[39m cbook\u001b[38;5;241m.\u001b[39mnormalize_kwargs(kwargs, mlines\u001b[38;5;241m.\u001b[39mLine2D)\n\u001b[1;32m-> 1688\u001b[0m lines \u001b[38;5;241m=\u001b[39m [\u001b[38;5;241m*\u001b[39m\u001b[38;5;28mself\u001b[39m\u001b[38;5;241m.\u001b[39m_get_lines(\u001b[38;5;241m*\u001b[39margs, data\u001b[38;5;241m=\u001b[39mdata, \u001b[38;5;241m*\u001b[39m\u001b[38;5;241m*\u001b[39mkwargs)]\n\u001b[0;32m   1689\u001b[0m \u001b[38;5;28;01mfor\u001b[39;00m line \u001b[38;5;129;01min\u001b[39;00m lines:\n\u001b[0;32m   1690\u001b[0m     \u001b[38;5;28mself\u001b[39m\u001b[38;5;241m.\u001b[39madd_line(line)\n",
      "File \u001b[1;32m~\\miniconda3\\lib\\site-packages\\matplotlib\\axes\\_base.py:311\u001b[0m, in \u001b[0;36m_process_plot_var_args.__call__\u001b[1;34m(self, data, *args, **kwargs)\u001b[0m\n\u001b[0;32m    309\u001b[0m     this \u001b[38;5;241m+\u001b[39m\u001b[38;5;241m=\u001b[39m args[\u001b[38;5;241m0\u001b[39m],\n\u001b[0;32m    310\u001b[0m     args \u001b[38;5;241m=\u001b[39m args[\u001b[38;5;241m1\u001b[39m:]\n\u001b[1;32m--> 311\u001b[0m \u001b[38;5;28;01myield from\u001b[39;00m \u001b[38;5;28;43mself\u001b[39;49m\u001b[38;5;241;43m.\u001b[39;49m\u001b[43m_plot_args\u001b[49m\u001b[43m(\u001b[49m\n\u001b[0;32m    312\u001b[0m \u001b[43m    \u001b[49m\u001b[43mthis\u001b[49m\u001b[43m,\u001b[49m\u001b[43m \u001b[49m\u001b[43mkwargs\u001b[49m\u001b[43m,\u001b[49m\u001b[43m \u001b[49m\u001b[43mambiguous_fmt_datakey\u001b[49m\u001b[38;5;241;43m=\u001b[39;49m\u001b[43mambiguous_fmt_datakey\u001b[49m\u001b[43m)\u001b[49m\n",
      "File \u001b[1;32m~\\miniconda3\\lib\\site-packages\\matplotlib\\axes\\_base.py:504\u001b[0m, in \u001b[0;36m_process_plot_var_args._plot_args\u001b[1;34m(self, tup, kwargs, return_kwargs, ambiguous_fmt_datakey)\u001b[0m\n\u001b[0;32m    501\u001b[0m     \u001b[38;5;28mself\u001b[39m\u001b[38;5;241m.\u001b[39maxes\u001b[38;5;241m.\u001b[39myaxis\u001b[38;5;241m.\u001b[39mupdate_units(y)\n\u001b[0;32m    503\u001b[0m \u001b[38;5;28;01mif\u001b[39;00m x\u001b[38;5;241m.\u001b[39mshape[\u001b[38;5;241m0\u001b[39m] \u001b[38;5;241m!=\u001b[39m y\u001b[38;5;241m.\u001b[39mshape[\u001b[38;5;241m0\u001b[39m]:\n\u001b[1;32m--> 504\u001b[0m     \u001b[38;5;28;01mraise\u001b[39;00m \u001b[38;5;167;01mValueError\u001b[39;00m(\u001b[38;5;124mf\u001b[39m\u001b[38;5;124m\"\u001b[39m\u001b[38;5;124mx and y must have same first dimension, but \u001b[39m\u001b[38;5;124m\"\u001b[39m\n\u001b[0;32m    505\u001b[0m                      \u001b[38;5;124mf\u001b[39m\u001b[38;5;124m\"\u001b[39m\u001b[38;5;124mhave shapes \u001b[39m\u001b[38;5;132;01m{\u001b[39;00mx\u001b[38;5;241m.\u001b[39mshape\u001b[38;5;132;01m}\u001b[39;00m\u001b[38;5;124m and \u001b[39m\u001b[38;5;132;01m{\u001b[39;00my\u001b[38;5;241m.\u001b[39mshape\u001b[38;5;132;01m}\u001b[39;00m\u001b[38;5;124m\"\u001b[39m)\n\u001b[0;32m    506\u001b[0m \u001b[38;5;28;01mif\u001b[39;00m x\u001b[38;5;241m.\u001b[39mndim \u001b[38;5;241m>\u001b[39m \u001b[38;5;241m2\u001b[39m \u001b[38;5;129;01mor\u001b[39;00m y\u001b[38;5;241m.\u001b[39mndim \u001b[38;5;241m>\u001b[39m \u001b[38;5;241m2\u001b[39m:\n\u001b[0;32m    507\u001b[0m     \u001b[38;5;28;01mraise\u001b[39;00m \u001b[38;5;167;01mValueError\u001b[39;00m(\u001b[38;5;124mf\u001b[39m\u001b[38;5;124m\"\u001b[39m\u001b[38;5;124mx and y can be no greater than 2D, but have \u001b[39m\u001b[38;5;124m\"\u001b[39m\n\u001b[0;32m    508\u001b[0m                      \u001b[38;5;124mf\u001b[39m\u001b[38;5;124m\"\u001b[39m\u001b[38;5;124mshapes \u001b[39m\u001b[38;5;132;01m{\u001b[39;00mx\u001b[38;5;241m.\u001b[39mshape\u001b[38;5;132;01m}\u001b[39;00m\u001b[38;5;124m and \u001b[39m\u001b[38;5;132;01m{\u001b[39;00my\u001b[38;5;241m.\u001b[39mshape\u001b[38;5;132;01m}\u001b[39;00m\u001b[38;5;124m\"\u001b[39m)\n",
      "\u001b[1;31mValueError\u001b[0m: x and y must have same first dimension, but have shapes (19,) and (20,)"
     ]
    },
    {
     "data": {
      "image/png": "[encoded data removed]",
      "text/plain": [
       "<Figure size 1000x500 with 1 Axes>"
      ]
     },
     "metadata": {},
     "output_type": "display_data"
    }
   ],
   "source": [
    "def calculate_wcss(latents):\n",
    "    wcss = []\n",
    "    for n in tqdm(range(2, 21)):  # change the range according to your needs\n",
    "        kmeans = KMeans(n_clusters=n)\n",
    "        data = torch.flatten(latents, start_dim=1).cpu()\n",
    "        kmeans.fit(data)\n",
    "        wcss.append(kmeans.inertia_)  # inertia_ is the WCSS for the model\n",
    "    return wcss\n",
    "\n",
    "\n",
    "\n",
    "# calculate WCSS for different numbers of clusters\n",
    "wcss = calculate_wcss(latents)\n",
    "\n"
   ]
  },
  {
   "cell_type": "code",
   "execution_count": 32,
   "id": "80dbb204-6731-429a-9298-ef832a9a4a75",
   "metadata": {},
   "outputs": [
    {
     "data": {
      "text/plain": [
       "[986140.499339175,\n",
       " 869505.0606631708,\n",
       " 819694.0209426743,\n",
       " 785642.1990883268,\n",
       " 760934.4728065955,\n",
       " 745724.7869051867,\n",
       " 734105.2118314499,\n",
       " 722259.5009777081,\n",
       " 711904.7535994987,\n",
       " 702508.9690809237,\n",
       " 694584.8212776463,\n",
       " 687067.6198292032,\n",
       " 680649.9389668355,\n",
       " 674773.3688534827,\n",
       " 669926.692170877,\n",
       " 665193.4642194572,\n",
       " 661639.4121179607,\n",
       " 658217.1916727715,\n",
       " 654436.3704479537,\n",
       " 651240.404522262]"
      ]
     },
     "execution_count": 32,
     "metadata": {},
     "output_type": "execute_result"
    }
   ],
   "source": [
    "wcss"
   ]
  },
  {
   "cell_type": "code",
   "execution_count": 34,
   "id": "7f453cc4-7ab8-414b-b354-b2d5c06f5ed9",
   "metadata": {},
   "outputs": [
    {
     "data": {
      "text/html": [
       "<div>\n",
       "<style scoped>\n",
       "    .dataframe tbody tr th:only-of-type {\n",
       "        vertical-align: middle;\n",
       "    }\n",
       "\n",
       "    .dataframe tbody tr th {\n",
       "        vertical-align: top;\n",
       "    }\n",
       "\n",
       "    .dataframe thead th {\n",
       "        text-align: right;\n",
       "    }\n",
       "</style>\n",
       "<table border=\"1\" class=\"dataframe\">\n",
       "  <thead>\n",
       "    <tr style=\"text-align: right;\">\n",
       "      <th></th>\n",
       "      <th>0</th>\n",
       "    </tr>\n",
       "  </thead>\n",
       "  <tbody>\n",
       "    <tr>\n",
       "      <th>0</th>\n",
       "      <td>986140.499339</td>\n",
       "    </tr>\n",
       "    <tr>\n",
       "      <th>1</th>\n",
       "      <td>869505.060663</td>\n",
       "    </tr>\n",
       "    <tr>\n",
       "      <th>2</th>\n",
       "      <td>819694.020943</td>\n",
       "    </tr>\n",
       "    <tr>\n",
       "      <th>3</th>\n",
       "      <td>785642.199088</td>\n",
       "    </tr>\n",
       "    <tr>\n",
       "      <th>4</th>\n",
       "      <td>760934.472807</td>\n",
       "    </tr>\n",
       "    <tr>\n",
       "      <th>5</th>\n",
       "      <td>745724.786905</td>\n",
       "    </tr>\n",
       "    <tr>\n",
       "      <th>6</th>\n",
       "      <td>734105.211831</td>\n",
       "    </tr>\n",
       "    <tr>\n",
       "      <th>7</th>\n",
       "      <td>722259.500978</td>\n",
       "    </tr>\n",
       "    <tr>\n",
       "      <th>8</th>\n",
       "      <td>711904.753599</td>\n",
       "    </tr>\n",
       "    <tr>\n",
       "      <th>9</th>\n",
       "      <td>702508.969081</td>\n",
       "    </tr>\n",
       "    <tr>\n",
       "      <th>10</th>\n",
       "      <td>694584.821278</td>\n",
       "    </tr>\n",
       "    <tr>\n",
       "      <th>11</th>\n",
       "      <td>687067.619829</td>\n",
       "    </tr>\n",
       "    <tr>\n",
       "      <th>12</th>\n",
       "      <td>680649.938967</td>\n",
       "    </tr>\n",
       "    <tr>\n",
       "      <th>13</th>\n",
       "      <td>674773.368853</td>\n",
       "    </tr>\n",
       "    <tr>\n",
       "      <th>14</th>\n",
       "      <td>669926.692171</td>\n",
       "    </tr>\n",
       "    <tr>\n",
       "      <th>15</th>\n",
       "      <td>665193.464219</td>\n",
       "    </tr>\n",
       "    <tr>\n",
       "      <th>16</th>\n",
       "      <td>661639.412118</td>\n",
       "    </tr>\n",
       "    <tr>\n",
       "      <th>17</th>\n",
       "      <td>658217.191673</td>\n",
       "    </tr>\n",
       "    <tr>\n",
       "      <th>18</th>\n",
       "      <td>654436.370448</td>\n",
       "    </tr>\n",
       "    <tr>\n",
       "      <th>19</th>\n",
       "      <td>651240.404522</td>\n",
       "    </tr>\n",
       "  </tbody>\n",
       "</table>\n",
       "</div>"
      ],
      "text/plain": [
       "                0\n",
       "0   986140.499339\n",
       "1   869505.060663\n",
       "2   819694.020943\n",
       "3   785642.199088\n",
       "4   760934.472807\n",
       "5   745724.786905\n",
       "6   734105.211831\n",
       "7   722259.500978\n",
       "8   711904.753599\n",
       "9   702508.969081\n",
       "10  694584.821278\n",
       "11  687067.619829\n",
       "12  680649.938967\n",
       "13  674773.368853\n",
       "14  669926.692171\n",
       "15  665193.464219\n",
       "16  661639.412118\n",
       "17  658217.191673\n",
       "18  654436.370448\n",
       "19  651240.404522"
      ]
     },
     "execution_count": 34,
     "metadata": {},
     "output_type": "execute_result"
    }
   ],
   "source": [
    "# Convert list to DataFrame\n",
    "wcss_df = pd.DataFrame(wcss)\n",
    "wcss_df.to_csv('wcss.csv',index=False)\n",
    "wcss_df"
   ]
  },
  {
   "cell_type": "code",
   "execution_count": 39,
   "id": "8dd0b1fb-49e6-49e0-9592-58e974811748",
   "metadata": {},
   "outputs": [],
   "source": [
    "def plot_elbow(wcss, filename=None):\n",
    "    plt.figure(figsize=(10, 5))\n",
    "    plt.plot(range(1, len(wcss) + 1), wcss, 'bo-')\n",
    "    plt.title('The Elbow Method')\n",
    "    plt.xlabel('Number of clusters')\n",
    "    plt.ylabel('WCSS')\n",
    "    plt.grid()\n",
    "    filename = 'elbow plot for k-means'\n",
    "    plt.savefig(filename)"
   ]
  },
  {
   "cell_type": "code",
   "execution_count": 40,
   "id": "9673da5a-be3e-41b1-a5c6-ab19fbb66305",
   "metadata": {},
   "outputs": [
    {
     "data": {
      "image/png": "[encoded data removed]",
      "text/plain": [
       "<Figure size 1000x500 with 1 Axes>"
      ]
     },
     "metadata": {},
     "output_type": "display_data"
    }
   ],
   "source": [
    "# plot the elbow graph\n",
    "plot_elbow(wcss)"
   ]
  },
  {
   "cell_type": "markdown",
   "id": "2c918aa4-d56f-4503-8263-092bef2cf848",
   "metadata": {},
   "source": [
    "the number of clusters are set to 5, 10, 15"
   ]
  },
  {
   "cell_type": "code",
   "execution_count": 46,
   "id": "c5a50007-9f68-4e2b-946c-0edd73f601af",
   "metadata": {},
   "outputs": [],
   "source": [
    "def calculate_slope(points):\n",
    "    slopes = []\n",
    "    for i in range(len(points) - 1):\n",
    "        slope = (points[i + 1] - points[i]) / (i + 2 - i)\n",
    "        slopes.append(slope)\n",
    "    return slopes\n",
    "\n",
    "def find_optimal_point(slopes, drop_threshold=0.1):\n",
    "    optimal_point = 1\n",
    "    for i in range(len(slopes)):\n",
    "        if slopes[i] / slopes[i - 1] <= drop_threshold:\n",
    "            optimal_point = i + 1\n",
    "            break\n",
    "    return optimal_point"
   ]
  },
  {
   "cell_type": "code",
   "execution_count": 48,
   "id": "0e1e0c91-82f6-4d19-840e-e50d64562714",
   "metadata": {},
   "outputs": [
    {
     "name": "stdout",
     "output_type": "stream",
     "text": [
      "[-58317.71933800209, -24905.519860248256, -17025.91092717374, -12353.863140865637, -7604.842950704391, -5809.787536868418, -5922.8554268708685, -5177.373689104745, -4697.892259287473, -3962.0739016386797, -3758.6007242215564, -3208.8404311838676, -2938.2850566764246, -2423.3383413028205, -2366.6139757098863, -1777.0260507482453, -1711.110222594638, -1890.4106124088867, -1597.9829628458247]\n",
      "Optimal point: 1\n"
     ]
    }
   ],
   "source": [
    "# Calculate slopes\n",
    "slopes = calculate_slope(wcss)\n",
    "print(slopes)\n",
    "# Find the optimal point based on the slope\n",
    "optimal_point = find_optimal_point(slopes)\n",
    "\n",
    "print(\"Optimal point:\", optimal_point)"
   ]
  },
  {
   "cell_type": "code",
   "execution_count": 49,
   "id": "be3ef777-4cdb-45f0-8ba9-90210a65de9c",
   "metadata": {},
   "outputs": [
    {
     "data": {
      "image/png": "[encoded data removed]",
      "text/plain": [
       "<Figure size 640x480 with 1 Axes>"
      ]
     },
     "metadata": {},
     "output_type": "display_data"
    }
   ],
   "source": [
    "# Plot the slopes\n",
    "plt.plot(range(1, len(wcss)), slopes, 'bo-')\n",
    "plt.title('Slope between Points')\n",
    "plt.xlabel('Point Index')\n",
    "plt.ylabel('Slope')\n",
    "plt.grid()\n",
    "plt.show()"
   ]
  },
  {
   "cell_type": "markdown",
   "id": "dea4d688-8cef-424f-a938-0bea6b8d9039",
   "metadata": {},
   "source": [
    "### HDBSCAN"
   ]
  },
  {
   "cell_type": "code",
   "execution_count": 8,
   "id": "3a7b8220-8ffc-4e98-b79e-4a1182a25ab3",
   "metadata": {},
   "outputs": [],
   "source": [
    "# pip install --upgrade setuptools wheel\n",
    "# pip install --upgrade cython\n",
    "#  You can install the C/C++ extension by searching for 'c++' in the Extensions view (Ctrl+Shift+X).\n",
    "# ERROR: Could not build wheels for hdbscan, which is required to install pyproject.toml-based projects\n",
    "\n",
    "# First Make sure you've Microsoft Visual C++, check here\n",
    "\n",
    "# Second install the hdbscan\n",
    "# command: conda install -c conda-forge hdbscan\n",
    "\n",
    "# Third install bertopic\n",
    "# command: pip install bertopic"
   ]
  },
  {
   "cell_type": "code",
   "execution_count": null,
   "id": "e1a3c016-2419-4f52-869f-5550483bbd9b",
   "metadata": {},
   "outputs": [],
   "source": [
    "import hdbscan\n",
    "import numpy as np\n",
    "import matplotlib.pyplot as plt\n",
    "\n",
    "# Assuming `data` is your high-dimensional data\n",
    "data = torch.flatten(latents, start_dim=1).cpu()\n",
    "# Create an HDBSCAN instance\n",
    "clusterer = hdbscan.HDBSCAN(min_cluster_size=5, gen_min_span_tree=True)\n",
    "\n",
    "# Fit the data\n",
    "clusterer.fit(data)\n",
    "\n",
    "# The labels_ property contains the cluster labels for each data point\n",
    "# Noise points are assigned the label -1\n",
    "labels = clusterer.labels_\n",
    "\n",
    "# Let's plot the clusters\n",
    "# For simplicity, let's assume data is 2D after dimensionality reduction (for instance, using UMAP)\n",
    "plt.scatter(data[:, 0], data[:, 1], c=labels, cmap='viridis')\n",
    "plt.show()"
   ]
  },
  {
   "cell_type": "code",
   "execution_count": null,
   "id": "337aa577-23da-4b82-870b-0ed76d813634",
   "metadata": {},
   "outputs": [],
   "source": [
    "clusterer.labels_.to_csv()"
   ]
  },
  {
   "cell_type": "code",
   "execution_count": null,
   "id": "526f8e8f-2c40-4cda-b35b-032f8cb444a3",
   "metadata": {},
   "outputs": [],
   "source": [
    "clusterer_labels_df = pd.DataFrame(clusterer.labels_)\n",
    "clusterer_labels_df.to_csv('clusterer_labels.csv', index=False)"
   ]
  },
  {
   "cell_type": "markdown",
   "id": "4825bc32-135a-4dce-977b-05ac0effcb6d",
   "metadata": {},
   "source": [
    "### Clustering"
   ]
  },
  {
   "cell_type": "code",
   "execution_count": 30,
   "id": "02f9e8a4-c5a0-4c60-9c5e-db692cf04fe0",
   "metadata": {},
   "outputs": [],
   "source": [
    "#Import required module\n",
    "from sklearn.cluster import KMeans\n",
    "from sklearn.metrics import pairwise_distances_argmin_min\n",
    "import pandas as pd\n",
    "import seaborn as sns"
   ]
  },
  {
   "cell_type": "code",
   "execution_count": 11,
   "id": "fd3a5dd9-723e-4478-aee8-ec0c21d36218",
   "metadata": {},
   "outputs": [
    {
     "data": {
      "text/plain": [
       "array([ 6.391108 , -2.3148484], dtype=float32)"
      ]
     },
     "execution_count": 11,
     "metadata": {},
     "output_type": "execute_result"
    }
   ],
   "source": [
    "data_2d_umap[0]"
   ]
  },
  {
   "cell_type": "code",
   "execution_count": 31,
   "id": "71bb7604-4437-4c89-8536-60da2cd0fcbc",
   "metadata": {},
   "outputs": [
    {
     "data": {
      "text/plain": [
       "torch.Size([23040, 3, 112, 112])"
      ]
     },
     "execution_count": 31,
     "metadata": {},
     "output_type": "execute_result"
    }
   ],
   "source": [
    "latents.shape"
   ]
  },
  {
   "cell_type": "code",
   "execution_count": 32,
   "id": "e19e9572",
   "metadata": {},
   "outputs": [
    {
     "ename": "ValueError",
     "evalue": "Found array with dim 4. KMeans expected <= 2.",
     "output_type": "error",
     "traceback": [
      "\u001b[1;31m---------------------------------------------------------------------------\u001b[0m",
      "\u001b[1;31mValueError\u001b[0m                                Traceback (most recent call last)",
      "Cell \u001b[1;32mIn[32], line 10\u001b[0m\n\u001b[0;32m      6\u001b[0m kmeans \u001b[38;5;241m=\u001b[39m KMeans(n_clusters\u001b[38;5;241m=\u001b[39mn_clusters)\n\u001b[0;32m      8\u001b[0m \u001b[38;5;66;03m# data = torch.flatten(latents, start_dim=1).cpu()\u001b[39;00m\n\u001b[0;32m      9\u001b[0m \u001b[38;5;66;03m# #predict the labels of clusters.\u001b[39;00m\n\u001b[1;32m---> 10\u001b[0m label \u001b[38;5;241m=\u001b[39m \u001b[43mkmeans\u001b[49m\u001b[38;5;241;43m.\u001b[39;49m\u001b[43mfit_predict\u001b[49m\u001b[43m(\u001b[49m\u001b[43mdata\u001b[49m\u001b[43m)\u001b[49m\n\u001b[0;32m     12\u001b[0m \u001b[38;5;66;03m# get cluster centers\u001b[39;00m\n\u001b[0;32m     13\u001b[0m cluster_centers \u001b[38;5;241m=\u001b[39m kmeans\u001b[38;5;241m.\u001b[39mcluster_centers_\n",
      "File \u001b[1;32m~\\miniconda3\\lib\\site-packages\\sklearn\\cluster\\_kmeans.py:1033\u001b[0m, in \u001b[0;36m_BaseKMeans.fit_predict\u001b[1;34m(self, X, y, sample_weight)\u001b[0m\n\u001b[0;32m   1010\u001b[0m \u001b[38;5;28;01mdef\u001b[39;00m \u001b[38;5;21mfit_predict\u001b[39m(\u001b[38;5;28mself\u001b[39m, X, y\u001b[38;5;241m=\u001b[39m\u001b[38;5;28;01mNone\u001b[39;00m, sample_weight\u001b[38;5;241m=\u001b[39m\u001b[38;5;28;01mNone\u001b[39;00m):\n\u001b[0;32m   1011\u001b[0m \u001b[38;5;250m    \u001b[39m\u001b[38;5;124;03m\"\"\"Compute cluster centers and predict cluster index for each sample.\u001b[39;00m\n\u001b[0;32m   1012\u001b[0m \n\u001b[0;32m   1013\u001b[0m \u001b[38;5;124;03m    Convenience method; equivalent to calling fit(X) followed by\u001b[39;00m\n\u001b[1;32m   (...)\u001b[0m\n\u001b[0;32m   1031\u001b[0m \u001b[38;5;124;03m        Index of the cluster each sample belongs to.\u001b[39;00m\n\u001b[0;32m   1032\u001b[0m \u001b[38;5;124;03m    \"\"\"\u001b[39;00m\n\u001b[1;32m-> 1033\u001b[0m     \u001b[38;5;28;01mreturn\u001b[39;00m \u001b[38;5;28;43mself\u001b[39;49m\u001b[38;5;241;43m.\u001b[39;49m\u001b[43mfit\u001b[49m\u001b[43m(\u001b[49m\u001b[43mX\u001b[49m\u001b[43m,\u001b[49m\u001b[43m \u001b[49m\u001b[43msample_weight\u001b[49m\u001b[38;5;241;43m=\u001b[39;49m\u001b[43msample_weight\u001b[49m\u001b[43m)\u001b[49m\u001b[38;5;241m.\u001b[39mlabels_\n",
      "File \u001b[1;32m~\\miniconda3\\lib\\site-packages\\sklearn\\cluster\\_kmeans.py:1417\u001b[0m, in \u001b[0;36mKMeans.fit\u001b[1;34m(self, X, y, sample_weight)\u001b[0m\n\u001b[0;32m   1390\u001b[0m \u001b[38;5;250m\u001b[39m\u001b[38;5;124;03m\"\"\"Compute k-means clustering.\u001b[39;00m\n\u001b[0;32m   1391\u001b[0m \n\u001b[0;32m   1392\u001b[0m \u001b[38;5;124;03mParameters\u001b[39;00m\n\u001b[1;32m   (...)\u001b[0m\n\u001b[0;32m   1413\u001b[0m \u001b[38;5;124;03m    Fitted estimator.\u001b[39;00m\n\u001b[0;32m   1414\u001b[0m \u001b[38;5;124;03m\"\"\"\u001b[39;00m\n\u001b[0;32m   1415\u001b[0m \u001b[38;5;28mself\u001b[39m\u001b[38;5;241m.\u001b[39m_validate_params()\n\u001b[1;32m-> 1417\u001b[0m X \u001b[38;5;241m=\u001b[39m \u001b[38;5;28;43mself\u001b[39;49m\u001b[38;5;241;43m.\u001b[39;49m\u001b[43m_validate_data\u001b[49m\u001b[43m(\u001b[49m\n\u001b[0;32m   1418\u001b[0m \u001b[43m    \u001b[49m\u001b[43mX\u001b[49m\u001b[43m,\u001b[49m\n\u001b[0;32m   1419\u001b[0m \u001b[43m    \u001b[49m\u001b[43maccept_sparse\u001b[49m\u001b[38;5;241;43m=\u001b[39;49m\u001b[38;5;124;43m\"\u001b[39;49m\u001b[38;5;124;43mcsr\u001b[39;49m\u001b[38;5;124;43m\"\u001b[39;49m\u001b[43m,\u001b[49m\n\u001b[0;32m   1420\u001b[0m \u001b[43m    \u001b[49m\u001b[43mdtype\u001b[49m\u001b[38;5;241;43m=\u001b[39;49m\u001b[43m[\u001b[49m\u001b[43mnp\u001b[49m\u001b[38;5;241;43m.\u001b[39;49m\u001b[43mfloat64\u001b[49m\u001b[43m,\u001b[49m\u001b[43m \u001b[49m\u001b[43mnp\u001b[49m\u001b[38;5;241;43m.\u001b[39;49m\u001b[43mfloat32\u001b[49m\u001b[43m]\u001b[49m\u001b[43m,\u001b[49m\n\u001b[0;32m   1421\u001b[0m \u001b[43m    \u001b[49m\u001b[43morder\u001b[49m\u001b[38;5;241;43m=\u001b[39;49m\u001b[38;5;124;43m\"\u001b[39;49m\u001b[38;5;124;43mC\u001b[39;49m\u001b[38;5;124;43m\"\u001b[39;49m\u001b[43m,\u001b[49m\n\u001b[0;32m   1422\u001b[0m \u001b[43m    \u001b[49m\u001b[43mcopy\u001b[49m\u001b[38;5;241;43m=\u001b[39;49m\u001b[38;5;28;43mself\u001b[39;49m\u001b[38;5;241;43m.\u001b[39;49m\u001b[43mcopy_x\u001b[49m\u001b[43m,\u001b[49m\n\u001b[0;32m   1423\u001b[0m \u001b[43m    \u001b[49m\u001b[43maccept_large_sparse\u001b[49m\u001b[38;5;241;43m=\u001b[39;49m\u001b[38;5;28;43;01mFalse\u001b[39;49;00m\u001b[43m,\u001b[49m\n\u001b[0;32m   1424\u001b[0m \u001b[43m\u001b[49m\u001b[43m)\u001b[49m\n\u001b[0;32m   1426\u001b[0m \u001b[38;5;28mself\u001b[39m\u001b[38;5;241m.\u001b[39m_check_params_vs_input(X)\n\u001b[0;32m   1428\u001b[0m random_state \u001b[38;5;241m=\u001b[39m check_random_state(\u001b[38;5;28mself\u001b[39m\u001b[38;5;241m.\u001b[39mrandom_state)\n",
      "File \u001b[1;32m~\\miniconda3\\lib\\site-packages\\sklearn\\base.py:535\u001b[0m, in \u001b[0;36mBaseEstimator._validate_data\u001b[1;34m(self, X, y, reset, validate_separately, **check_params)\u001b[0m\n\u001b[0;32m    533\u001b[0m     \u001b[38;5;28;01mraise\u001b[39;00m \u001b[38;5;167;01mValueError\u001b[39;00m(\u001b[38;5;124m\"\u001b[39m\u001b[38;5;124mValidation should be done on X, y or both.\u001b[39m\u001b[38;5;124m\"\u001b[39m)\n\u001b[0;32m    534\u001b[0m \u001b[38;5;28;01melif\u001b[39;00m \u001b[38;5;129;01mnot\u001b[39;00m no_val_X \u001b[38;5;129;01mand\u001b[39;00m no_val_y:\n\u001b[1;32m--> 535\u001b[0m     X \u001b[38;5;241m=\u001b[39m check_array(X, input_name\u001b[38;5;241m=\u001b[39m\u001b[38;5;124m\"\u001b[39m\u001b[38;5;124mX\u001b[39m\u001b[38;5;124m\"\u001b[39m, \u001b[38;5;241m*\u001b[39m\u001b[38;5;241m*\u001b[39mcheck_params)\n\u001b[0;32m    536\u001b[0m     out \u001b[38;5;241m=\u001b[39m X\n\u001b[0;32m    537\u001b[0m \u001b[38;5;28;01melif\u001b[39;00m no_val_X \u001b[38;5;129;01mand\u001b[39;00m \u001b[38;5;129;01mnot\u001b[39;00m no_val_y:\n",
      "File \u001b[1;32m~\\miniconda3\\lib\\site-packages\\sklearn\\utils\\validation.py:913\u001b[0m, in \u001b[0;36mcheck_array\u001b[1;34m(array, accept_sparse, accept_large_sparse, dtype, order, copy, force_all_finite, ensure_2d, allow_nd, ensure_min_samples, ensure_min_features, estimator, input_name)\u001b[0m\n\u001b[0;32m    908\u001b[0m     \u001b[38;5;28;01mraise\u001b[39;00m \u001b[38;5;167;01mValueError\u001b[39;00m(\n\u001b[0;32m    909\u001b[0m         \u001b[38;5;124m\"\u001b[39m\u001b[38;5;124mdtype=\u001b[39m\u001b[38;5;124m'\u001b[39m\u001b[38;5;124mnumeric\u001b[39m\u001b[38;5;124m'\u001b[39m\u001b[38;5;124m is not compatible with arrays of bytes/strings.\u001b[39m\u001b[38;5;124m\"\u001b[39m\n\u001b[0;32m    910\u001b[0m         \u001b[38;5;124m\"\u001b[39m\u001b[38;5;124mConvert your data to numeric values explicitly instead.\u001b[39m\u001b[38;5;124m\"\u001b[39m\n\u001b[0;32m    911\u001b[0m     )\n\u001b[0;32m    912\u001b[0m \u001b[38;5;28;01mif\u001b[39;00m \u001b[38;5;129;01mnot\u001b[39;00m allow_nd \u001b[38;5;129;01mand\u001b[39;00m array\u001b[38;5;241m.\u001b[39mndim \u001b[38;5;241m>\u001b[39m\u001b[38;5;241m=\u001b[39m \u001b[38;5;241m3\u001b[39m:\n\u001b[1;32m--> 913\u001b[0m     \u001b[38;5;28;01mraise\u001b[39;00m \u001b[38;5;167;01mValueError\u001b[39;00m(\n\u001b[0;32m    914\u001b[0m         \u001b[38;5;124m\"\u001b[39m\u001b[38;5;124mFound array with dim \u001b[39m\u001b[38;5;132;01m%d\u001b[39;00m\u001b[38;5;124m. \u001b[39m\u001b[38;5;132;01m%s\u001b[39;00m\u001b[38;5;124m expected <= 2.\u001b[39m\u001b[38;5;124m\"\u001b[39m\n\u001b[0;32m    915\u001b[0m         \u001b[38;5;241m%\u001b[39m (array\u001b[38;5;241m.\u001b[39mndim, estimator_name)\n\u001b[0;32m    916\u001b[0m     )\n\u001b[0;32m    918\u001b[0m \u001b[38;5;28;01mif\u001b[39;00m force_all_finite:\n\u001b[0;32m    919\u001b[0m     _assert_all_finite(\n\u001b[0;32m    920\u001b[0m         array,\n\u001b[0;32m    921\u001b[0m         input_name\u001b[38;5;241m=\u001b[39minput_name,\n\u001b[0;32m    922\u001b[0m         estimator_name\u001b[38;5;241m=\u001b[39mestimator_name,\n\u001b[0;32m    923\u001b[0m         allow_nan\u001b[38;5;241m=\u001b[39mforce_all_finite \u001b[38;5;241m==\u001b[39m \u001b[38;5;124m\"\u001b[39m\u001b[38;5;124mallow-nan\u001b[39m\u001b[38;5;124m\"\u001b[39m,\n\u001b[0;32m    924\u001b[0m     )\n",
      "\u001b[1;31mValueError\u001b[0m: Found array with dim 4. KMeans expected <= 2."
     ]
    }
   ],
   "source": [
    "n_clusters=5\n",
    "# data_2d = data_2d_umap\n",
    "data = latents\n",
    "\n",
    "#Initialize the class object\n",
    "kmeans = KMeans(n_clusters=n_clusters)\n",
    "\n",
    "# data = torch.flatten(latents, start_dim=1).cpu()\n",
    "# #predict the labels of clusters.\n",
    "label = kmeans.fit_predict(data)\n",
    "\n",
    "# get cluster centers\n",
    "cluster_centers = kmeans.cluster_centers_\n",
    "closest, _ = pairwise_distances_argmin_min(cluster_centers, data)\n",
    "print(cluster_centers.shape, data.shape)\n",
    "\n",
    "# Save closest points and cluster centers to CSV\n",
    "df_center = pd.DataFrame({'Cluster Center': cluster_centers.tolist(), 'Closest Point Index': closest})\n",
    "df_center.to_csv(f'../results/clustercenter/MARL_{n_clusters}cluster_centers.csv', index=False)\n",
    "\n",
    "#Getting unique labels\n",
    "plt.figure(figsize=(10, 8))\n",
    "u_labels = np.unique(label)\n",
    "num_labels = len(u_labels)\n",
    "color_palette = sns.color_palette('husl', num_labels)\n",
    "\n",
    "#plotting the results:\n",
    "# plt.legend()\n",
    "\n",
    "center_list = closest\n",
    "print(center_list)\n",
    "\n",
    "for i, each in enumerate(center_list):\n",
    "    plt.scatter(data_2d[each][0],data_2d[each][1], s=20, c=[color_palette[i]])\n",
    "    plt.annotate(each, (data_2d[each][0],data_2d[each][1]), ha=\"center\", va=\"center\", xytext=(0,10), textcoords='offset points')\n",
    "for i in u_labels:\n",
    "    plt.scatter(data_2d[label == i , 0] , data_2d[label == i , 1] , label = i, s=0.5, c=[color_palette[i]],alpha=0.5)\n",
    "    \n",
    "plt.axis('off')\n",
    "plt.savefig(f'MARL_{n_clusters}_kmeans.png')\n",
    "df = np.stack((label, floor.all_data_dirs)).transpose()\n",
    "df = pd.DataFrame(df,columns=['label','data'])\n",
    "\n",
    "for i in u_labels:\n",
    "    df.loc[df['label']==str(i)].to_csv(f'../results/MARL_kmeans_{n_clusters}cluster{i}_{closest[i]}.csv',index=False)\n",
    "    \n",
    "# return kmeans, label\n",
    "    \n"
   ]
  },
  {
   "cell_type": "markdown",
   "id": "35c52f87-7aee-4993-a4ac-fc4f7f8570d6",
   "metadata": {},
   "source": [
    "## Visualize the cluster center"
   ]
  },
  {
   "cell_type": "markdown",
   "id": "2ea089b4-1dbb-4e91-bf6b-a8cbbf915c39",
   "metadata": {},
   "source": [
    "umap: [8834, 1618, 6145, 2441, 21234]\\\n",
    "k-means: [3958, 7563, 8894, 16740, 3130]"
   ]
  },
  {
   "cell_type": "code",
   "execution_count": 2,
   "id": "9b1cfa13-e2c5-40a9-8180-5035922b3359",
   "metadata": {},
   "outputs": [],
   "source": [
    "k_means_center = [3958, 7563, 8894, 16740, 3130]"
   ]
  },
  {
   "cell_type": "code",
   "execution_count": 9,
   "id": "5dd4ac5e-c064-4f1c-953b-98f24f30798e",
   "metadata": {},
   "outputs": [
    {
     "data": {
      "text/plain": [
       "[8834, 1618, 6145, 2441, 21234]"
      ]
     },
     "execution_count": 9,
     "metadata": {},
     "output_type": "execute_result"
    }
   ],
   "source": [
    "n_clusters=5\n",
    "# data_2d = data_2d_umap\n",
    "# data = data_2d_umap\n",
    "cluster_count = n_clusters\n",
    "file_path = f\"../results/clustercenter/umap_{cluster_count}cluster_centers.csv\"\n",
    "indexes = pd.read_csv(file_path)['Closest Point Index'].tolist()\n",
    "indexes"
   ]
  },
  {
   "cell_type": "code",
   "execution_count": 10,
   "id": "ca8959cb-c15b-4e5a-81bd-7d34be8203b9",
   "metadata": {},
   "outputs": [],
   "source": [
    "def scale_crop(img): #B,C,H,W\n",
    "    rescale = transforms.Compose([transforms.Resize(112),\n",
    "                                  transforms.CenterCrop(56)])\n",
    "    return rescale(img)"
   ]
  },
  {
   "cell_type": "code",
   "execution_count": 3,
   "id": "69d04b2e-abf8-478c-a6d6-f3e5f0ad0c9c",
   "metadata": {},
   "outputs": [],
   "source": [
    "indexes = k_means_center"
   ]
  },
  {
   "cell_type": "code",
   "execution_count": 22,
   "id": "b1565e02-1aec-47f6-aaf0-1bbaa5e34dc4",
   "metadata": {},
   "outputs": [
    {
     "name": "stderr",
     "output_type": "stream",
     "text": [
      "Clipping input data to the valid range for imshow with RGB data ([0..1] for floats or [0..255] for integers).\n",
      "Clipping input data to the valid range for imshow with RGB data ([0..1] for floats or [0..255] for integers).\n",
      "Clipping input data to the valid range for imshow with RGB data ([0..1] for floats or [0..255] for integers).\n",
      "Clipping input data to the valid range for imshow with RGB data ([0..1] for floats or [0..255] for integers).\n",
      "Clipping input data to the valid range for imshow with RGB data ([0..1] for floats or [0..255] for integers).\n"
     ]
    },
    {
     "data": {
      "image/png": "[encoded data removed]",
      "text/plain": [
       "<Figure size 800x300 with 5 Axes>"
      ]
     },
     "metadata": {},
     "output_type": "display_data"
    }
   ],
   "source": [
    "# Create a figure and axes with `cluster_count` subplots\n",
    "fig, axes = plt.subplots(1, cluster_count, figsize=(8, 3))\n",
    "image_size = 112\n",
    "crop_size = 56\n",
    "\n",
    "# Iterate over the `cluster_count` subplots\n",
    "for i, index in enumerate(indexes):\n",
    "    image_path = floor.all_data_dirs[index]\n",
    "    # Read the image using torch's load\n",
    "    image = torch.load(image_path)\n",
    "    scaled = scale_crop(image)\n",
    "    # Display the image in the corresponding subplot\n",
    "    image_array = scaled.permute(1, 2, 0).numpy()  # Convert to (56, 56, 3) shape\n",
    "    axes[i].imshow(image_array, cmap='gray')\n",
    "    axes[i].set_title(f\"{index}\")\n",
    "    axes[i].axis('off')\n",
    "\n",
    "# Adjust the spacing between subplots\n",
    "plt.tight_layout()\n",
    "\n",
    "# Save the plot\n",
    "plt.savefig(f\"../results/recon_img/{cluster_count}cluster_sample.png\")"
   ]
  },
  {
   "cell_type": "code",
   "execution_count": 8,
   "id": "3c92c564-508f-4894-b04b-4d1a4737a037",
   "metadata": {},
   "outputs": [
    {
     "data": {
      "text/plain": [
       "[1389, 17469, 1881, 3464, 1310]"
      ]
     },
     "execution_count": 8,
     "metadata": {},
     "output_type": "execute_result"
    },
    {
     "data": {
      "image/png": "[encoded data removed]",
      "text/plain": [
       "<Figure size 800x300 with 5 Axes>"
      ]
     },
     "metadata": {},
     "output_type": "display_data"
    }
   ],
   "source": [
    "import os\n",
    "import shutil\n",
    "import matplotlib.pyplot as plt\n",
    "import matplotlib.image as mpimg\n",
    "\n",
    "cluster_count = 5\n",
    "# Create a figure and axes with `cluster_count` subplots\n",
    "fig, axes = plt.subplots(1, cluster_count, figsize=(8, 3))\n",
    "image_size = 112\n",
    "crop_size = 56\n",
    "\n",
    "# Define the new directory\n",
    "new_dir = 'kmeans_5_cluster'\n",
    "num_indexes = []\n",
    "# Create the new directory if it doesn't exist\n",
    "if not os.path.exists(new_dir):\n",
    "    os.makedirs(new_dir)\n",
    "\n",
    "# Iterate over the `cluster_count` subplots\n",
    "for i, index in enumerate(indexes):\n",
    "    image_path = floor.all_data_dirs[index]\n",
    "    # Split the path into the name and the extension\n",
    "    file_name, file_extension = os.path.splitext(image_path)\n",
    "    # Replace the '.pt' extension with '.png'\n",
    "    png_file_path = file_name + '.png'\n",
    "    # Read the image data\n",
    "    img = mpimg.imread(png_file_path)\n",
    "    # Display the image in the corresponding subplot\n",
    "    axes[i].imshow(img, cmap='gray')\n",
    "    # Extract numerical part from the file name\n",
    "    num_index = int(os.path.basename(file_name))\n",
    "    num_indexes.append(num_index)\n",
    "    axes[i].set_title(f\"{num_index}\")\n",
    "    axes[i].axis('off')\n",
    "\n",
    "    # Move the file to the new directory\n",
    "    shutil.copy(png_file_path, os.path.join(new_dir, os.path.basename(png_file_path)))\n",
    "\n",
    "# Adjust the spacing between subplots\n",
    "plt.tight_layout()\n",
    "\n",
    "# Save the plot\n",
    "plt.savefig(f\"../results/recon_img/kmeans{cluster_count}cluster_sample.png\")\n",
    "num_indexes"
   ]
  },
  {
   "cell_type": "code",
   "execution_count": 9,
   "id": "8515c381-c1a5-494c-8207-5305eac0829e",
   "metadata": {},
   "outputs": [
    {
     "data": {
      "text/plain": [
       "[3958, 7563, 8894, 16740, 3130]"
      ]
     },
     "execution_count": 9,
     "metadata": {},
     "output_type": "execute_result"
    }
   ],
   "source": [
    "indexes"
   ]
  },
  {
   "cell_type": "code",
   "execution_count": 23,
   "id": "75c994a2-51b8-4bd5-975d-ea5e8828441f",
   "metadata": {},
   "outputs": [
    {
     "data": {
      "text/plain": [
       "[1389, 17469, 1881, 3464, 1310]"
      ]
     },
     "execution_count": 23,
     "metadata": {},
     "output_type": "execute_result"
    }
   ],
   "source": [
    "indexes = num_indexes\n",
    "indexes"
   ]
  },
  {
   "cell_type": "code",
   "execution_count": 24,
   "id": "93e5a5a8-2ac5-4aab-b9d0-9abb46fd0c8c",
   "metadata": {},
   "outputs": [
    {
     "data": {
      "text/html": [
       "<div>\n",
       "<style scoped>\n",
       "    .dataframe tbody tr th:only-of-type {\n",
       "        vertical-align: middle;\n",
       "    }\n",
       "\n",
       "    .dataframe tbody tr th {\n",
       "        vertical-align: top;\n",
       "    }\n",
       "\n",
       "    .dataframe thead th {\n",
       "        text-align: right;\n",
       "    }\n",
       "</style>\n",
       "<table border=\"1\" class=\"dataframe\">\n",
       "  <thead>\n",
       "    <tr style=\"text-align: right;\">\n",
       "      <th></th>\n",
       "      <th>OBJECTID</th>\n",
       "      <th>footprint</th>\n",
       "      <th>Shape_Area_1</th>\n",
       "      <th>height</th>\n",
       "    </tr>\n",
       "  </thead>\n",
       "  <tbody>\n",
       "    <tr>\n",
       "      <th>0</th>\n",
       "      <td>1310</td>\n",
       "      <td>3059.0</td>\n",
       "      <td>4164.674553</td>\n",
       "      <td>31.51</td>\n",
       "    </tr>\n",
       "    <tr>\n",
       "      <th>1</th>\n",
       "      <td>1389</td>\n",
       "      <td>1914.0</td>\n",
       "      <td>4013.148863</td>\n",
       "      <td>22.13</td>\n",
       "    </tr>\n",
       "    <tr>\n",
       "      <th>2</th>\n",
       "      <td>1881</td>\n",
       "      <td>4174.0</td>\n",
       "      <td>5039.122150</td>\n",
       "      <td>25.11</td>\n",
       "    </tr>\n",
       "    <tr>\n",
       "      <th>3</th>\n",
       "      <td>3464</td>\n",
       "      <td>1282.0</td>\n",
       "      <td>6501.868900</td>\n",
       "      <td>21.97</td>\n",
       "    </tr>\n",
       "    <tr>\n",
       "      <th>4</th>\n",
       "      <td>17469</td>\n",
       "      <td>519.0</td>\n",
       "      <td>6028.433800</td>\n",
       "      <td>15.03</td>\n",
       "    </tr>\n",
       "  </tbody>\n",
       "</table>\n",
       "</div>"
      ],
      "text/plain": [
       "   OBJECTID  footprint  Shape_Area_1  height\n",
       "0      1310     3059.0   4164.674553   31.51\n",
       "1      1389     1914.0   4013.148863   22.13\n",
       "2      1881     4174.0   5039.122150   25.11\n",
       "3      3464     1282.0   6501.868900   21.97\n",
       "4     17469      519.0   6028.433800   15.03"
      ]
     },
     "execution_count": 24,
     "metadata": {},
     "output_type": "execute_result"
    }
   ],
   "source": [
    "file_path = r\"..\\data\\data_root\\geojson_0.json\"\n",
    "\n",
    "# Load the JSON data from the file\n",
    "with open(file_path) as file:\n",
    "    data = json.load(file)\n",
    "\n",
    "# Extract features based on the OBJECTID in indexes list\n",
    "desired_features = []\n",
    "for feature in data['features']:\n",
    "    if feature['properties']['OBJECTID'] in indexes:\n",
    "        desired_features.append(feature)\n",
    "\n",
    "# Extract information for footprint, Shape_Area_1, and height from desired features\n",
    "extracted_info = []\n",
    "for feature in desired_features:\n",
    "    info['OBJECTID'] = OBJECTID\n",
    "    OBJECTID = feature['properties']['OBJECTID']\n",
    "    info = {\n",
    "        'OBJECTID' : feature['properties']['OBJECTID'],\n",
    "        'footprint': feature['properties']['footprint'],\n",
    "        'Shape_Area_1': feature['properties']['Shape_Area_1'],\n",
    "        'height': feature['properties']['HEIGHT']\n",
    "    }\n",
    "    extracted_info.append(info)\n",
    "\n",
    "# Create a DataFrame from the extracted information\n",
    "df = pd.DataFrame(extracted_info)\n",
    "df"
   ]
  },
  {
   "cell_type": "code",
   "execution_count": 25,
   "id": "512db2c6-cd93-4987-b965-d9b8161de7c0",
   "metadata": {},
   "outputs": [],
   "source": [
    "df.to_csv(f\"../results/recon_img/kmeans{cluster_count}cluster_sample.csv\",index=False)"
   ]
  },
  {
   "cell_type": "code",
   "execution_count": 13,
   "id": "a304d8cd",
   "metadata": {},
   "outputs": [
    {
     "data": {
      "text/plain": [
       "'../data/data_root/data00/18753.pt'"
      ]
     },
     "execution_count": 13,
     "metadata": {},
     "output_type": "execute_result"
    }
   ],
   "source": [
    "floor.all_data_dirs[8834]"
   ]
  },
  {
   "cell_type": "markdown",
   "id": "abcb637d",
   "metadata": {
    "tags": []
   },
   "source": [
    "# Visualize and Save Reconstruction Image"
   ]
  },
  {
   "cell_type": "code",
   "execution_count": 19,
   "id": "735a47a1",
   "metadata": {},
   "outputs": [
    {
     "name": "stderr",
     "output_type": "stream",
     "text": [
      "Clipping input data to the valid range for imshow with RGB data ([0..1] for floats or [0..255] for integers).\n"
     ]
    },
    {
     "data": {
      "image/png": "[encoded data removed]",
      "text/plain": [
       "<Figure size 432x288 with 1 Axes>"
      ]
     },
     "metadata": {
      "needs_background": "light"
     },
     "output_type": "display_data"
    }
   ],
   "source": [
    "latent_centers = torch.from_numpy(kmeans.cluster_centers_.reshape(n_clusters, 64, 14, 14).astype('float32')).to(device)\n",
    "vqae.eval()\n",
    "valid_recon = vqae.decoder(latent_centers)\n",
    "def show(img, title):\n",
    "    npimg = img.numpy()\n",
    "    fig = plt.imshow(np.transpose(npimg, (1,2,0)), interpolation='nearest')\n",
    "    fig.axes.get_xaxis().set_visible(False)\n",
    "    fig.axes.get_yaxis().set_visible(False)\n",
    "    fig.axes.set_title(title)\n",
    "plt.figure()  # Create a new plot\n",
    "show(torchvision.utils.make_grid(valid_recon.cpu().data) + 0.5, \"VQ-VAE Reconstructed\")\n",
    "plt.savefig(f\"{n_clusters}_VQrecon.png\", bbox_inches='tight')"
   ]
  },
  {
   "cell_type": "code",
   "execution_count": 20,
   "id": "1d613f20",
   "metadata": {},
   "outputs": [
    {
     "name": "stdout",
     "output_type": "stream",
     "text": [
      "save to results/recon_img/*.jpg\n"
     ]
    }
   ],
   "source": [
    "def rescale_img(img): #B,C,H,W\n",
    "    rescale = transforms.Compose([transforms.Resize(112),\n",
    "                                  transforms.Pad(56, fill=1.0)])\n",
    "    return rescale(img)\n",
    "rescaled_recon = rescale_img(valid_recon+0.5)\n",
    "\n",
    "for i in range(rescaled_recon.shape[0]):\n",
    "    save_image(rescaled_recon[i], f'../results/recon_img/{n_clusters}cluster-img{i}.jpg')\n",
    "    \n",
    "print('save to results/recon_img/*.jpg')"
   ]
  },
  {
   "cell_type": "markdown",
   "id": "c8cdc612-c323-4665-aee3-b27a48c8960f",
   "metadata": {
    "jp-MarkdownHeadingCollapsed": true,
    "tags": []
   },
   "source": [
    "### For rhino mapping-back "
   ]
  },
  {
   "cell_type": "code",
   "execution_count": 22,
   "id": "c2e0ccee-ef56-4e5e-b4c2-1294b1a0817c",
   "metadata": {},
   "outputs": [],
   "source": [
    "import glob\n",
    "import cv2\n",
    "import os\n",
    "import numpy as np\n",
    "import torchvision.transforms.functional as TF\n",
    "import imageio\n",
    "import matplotlib.pyplot as plt"
   ]
  },
  {
   "cell_type": "code",
   "execution_count": 23,
   "id": "9c3f601b-527d-4529-acec-164929cda902",
   "metadata": {},
   "outputs": [
    {
     "name": "stdout",
     "output_type": "stream",
     "text": [
      "5cluster-img0.jpg\n",
      "5cluster-img0_rectangle.jpg\n",
      "5cluster-img1.jpg\n",
      "5cluster-img1_rectangle.jpg\n",
      "5cluster-img2.jpg\n",
      "5cluster-img2_rectangle.jpg\n",
      "5cluster-img3.jpg\n",
      "5cluster-img3_rectangle.jpg\n",
      "5cluster-img4.jpg\n",
      "5cluster-img4_rectangle.jpg\n"
     ]
    }
   ],
   "source": [
    "folder_path = \"../results/recon_img/\"  \n",
    "img_files = []\n",
    "for filename in os.listdir(folder_path):\n",
    "    if \"5cluster\" in filename:\n",
    "        print(filename)\n",
    "        img_files.append(filename)"
   ]
  },
  {
   "cell_type": "code",
   "execution_count": 24,
   "id": "91989926",
   "metadata": {},
   "outputs": [
    {
     "name": "stdout",
     "output_type": "stream",
     "text": [
      "5cluster-img0.jpg\n",
      "224 224 3\n",
      "../results/recon_img/5cluster-img0_rectangle.jpg\n",
      "5cluster-img0_rectangle.jpg\n",
      "224 224 3\n",
      "../results/recon_img/5cluster-img0_rectangle_rectangle.jpg\n",
      "5cluster-img1.jpg\n",
      "224 224 3\n",
      "../results/recon_img/5cluster-img1_rectangle.jpg\n",
      "5cluster-img1_rectangle.jpg\n",
      "224 224 3\n",
      "../results/recon_img/5cluster-img1_rectangle_rectangle.jpg\n",
      "5cluster-img2.jpg\n",
      "224 224 3\n",
      "../results/recon_img/5cluster-img2_rectangle.jpg\n",
      "5cluster-img2_rectangle.jpg\n",
      "224 224 3\n",
      "../results/recon_img/5cluster-img2_rectangle_rectangle.jpg\n",
      "5cluster-img3.jpg\n",
      "224 224 3\n",
      "../results/recon_img/5cluster-img3_rectangle.jpg\n",
      "5cluster-img3_rectangle.jpg\n",
      "224 224 3\n",
      "../results/recon_img/5cluster-img3_rectangle_rectangle.jpg\n",
      "5cluster-img4.jpg\n",
      "224 224 3\n",
      "../results/recon_img/5cluster-img4_rectangle.jpg\n",
      "5cluster-img4_rectangle.jpg\n",
      "224 224 3\n",
      "../results/recon_img/5cluster-img4_rectangle_rectangle.jpg\n"
     ]
    }
   ],
   "source": [
    "def calc_height(image_path):\n",
    "    print(image_path)\n",
    "    fullpath = f\"../results/recon_img/\"+str(image_path)\n",
    "    image = cv2.imread(fullpath)\n",
    "    height, width, channels = image.shape\n",
    "    print(height, width, channels)\n",
    "    \n",
    "    # Calculate the starting and ending indices for the central region\n",
    "    start = (height - central_region_size) // 2\n",
    "    end = start + central_region_size\n",
    "    \n",
    "    # Get the average pixel value in the central region for each channel\n",
    "    central_region = image[start:end, start:end, :]\n",
    "    average_pixel_value = np.mean(central_region, axis=(0,1))\n",
    "    \n",
    "    # Draw a red rectangle around the central region\n",
    "    img_with_rectangle = np.copy(image)\n",
    "    cv2.rectangle(img_with_rectangle, (start, start), (end, end), (0, 0, 255), 2)  # Draw red rectangle\n",
    "    \n",
    "    # Save the image with the red rectangle\n",
    "    image_with_rectangle_path = fullpath.replace(\".jpg\", \"_rectangle.jpg\")  # Update the path as per your requirement\n",
    "    imageio.imwrite(image_with_rectangle_path, img_with_rectangle)\n",
    "    print(image_with_rectangle_path)\n",
    "    return average_pixel_value\n",
    "\n",
    "central_region_size = 10\n",
    "height_info = []\n",
    "for image_path in img_files:\n",
    "    average_pixel_value = calc_height(image_path)\n",
    "    height_info.append(average_pixel_value[0])"
   ]
  },
  {
   "cell_type": "code",
   "execution_count": 25,
   "id": "53620474-4254-4c5c-ab59-1925a0f2cb4f",
   "metadata": {},
   "outputs": [
    {
     "data": {
      "text/plain": [
       "[170.12, 206.37, 176.69, 209.12, 132.11, 187.8, 177.97, 206.41, 213.68, 217.87]"
      ]
     },
     "execution_count": 25,
     "metadata": {},
     "output_type": "execute_result"
    }
   ],
   "source": [
    "height_info"
   ]
  },
  {
   "cell_type": "code",
   "execution_count": 26,
   "id": "69b2f48b-1746-4288-ac6c-087d09fb9170",
   "metadata": {},
   "outputs": [],
   "source": [
    "# Loop through each image\n",
    "image_paths = glob.glob('recon_img/*.png')\n",
    "lower_thres = 0.3\n",
    "higher_thres = 0.7\n",
    "for image_path in image_paths:\n",
    "    image = cv2.imread(image_path)\n",
    "    gray = cv2.cvtColor(image, cv2.COLOR_BGR2GRAY)\n",
    "    gray = cv2.convertScaleAbs(gray)\n",
    "    edges = cv2.Canny(gray, lower_thres, higher_thres)  # Adjust the threshold values as needed\n",
    "\n",
    "    # Save the edge image\n",
    "    filename = os.path.splitext(os.path.basename(image_path))[0]  # Extract the filename without extension\n",
    "    edge_image_path = f'edge_img/{filename}_edge.jpg'\n",
    "    cv2.imwrite(edge_image_path, edges)"
   ]
  },
  {
   "cell_type": "markdown",
   "id": "08e791db-6d44-4ccb-a080-e2dca6e348c7",
   "metadata": {},
   "source": [
    "### get aggregated area"
   ]
  },
  {
   "cell_type": "code",
   "execution_count": 71,
   "id": "fb2a7f69-8881-4b1a-8cea-b8b22d21e631",
   "metadata": {},
   "outputs": [
    {
     "data": {
      "text/plain": [
       "[1389, 17469, 1881, 3464, 1310]"
      ]
     },
     "execution_count": 71,
     "metadata": {},
     "output_type": "execute_result"
    }
   ],
   "source": [
    "objectid_ref_df = pd.read_csv('objectid_ref.csv')"
   ]
  },
  {
   "cell_type": "code",
   "execution_count": 72,
   "id": "d4698b9b-b201-4e34-9e5f-bc185265fb67",
   "metadata": {},
   "outputs": [],
   "source": [
    "def get_csv_df(index):\n",
    "    desired_number = str(index)\n",
    "    for filename in os.listdir(directory_path):\n",
    "        if desired_number in filename:\n",
    "            file_path = os.path.join(directory_path, filename)\n",
    "            csv_df = pd.read_csv(file_path,index_col=None)\n",
    "            csv_df['index'] = csv_df['data'].str.extract(r'(\\d+)\\.pt')\n",
    "            csv_df['index']=csv_df['index'].astype(int)\n",
    "    return csv_df"
   ]
  },
  {
   "cell_type": "code",
   "execution_count": 104,
   "id": "a2ac234c-45fc-4d27-8860-f7c17bb9f876",
   "metadata": {},
   "outputs": [],
   "source": [
    "def calculate_aggregated_areas(csv_df):\n",
    "    desired_features = []\n",
    "    for feature in jsonfile['features']:\n",
    "        if feature['properties']['OBJECTID'] in csv_df['index'].values:\n",
    "            desired_features.append(feature)\n",
    "\n",
    "    # Extract information for objectID, areas, and heights from desired features\n",
    "    objectID_list = []\n",
    "    footprint_list = []\n",
    "    area_list = []\n",
    "    height_list = []\n",
    "\n",
    "    for feature in desired_features:\n",
    "        objectID = feature['properties']['OBJECTID']\n",
    "        footprint = feature['properties']['footprint']\n",
    "        area = feature['properties']['Shape_Area_1']\n",
    "        height = feature['properties']['HEIGHT']\n",
    "\n",
    "        objectID_list.append(objectID)\n",
    "        footprint_list.append(footprint)\n",
    "        area_list.append(area)\n",
    "        height_list.append(height)\n",
    "\n",
    "        # Create a new DataFrame from the extracted information\n",
    "        json_df = pd.DataFrame({\n",
    "            'objectID': objectID_list,\n",
    "            'footprint': footprint_list,\n",
    "            'area': area_list,\n",
    "            'height': height_list\n",
    "        })\n",
    "    merged_df = json_df.merge(csv_df, left_on='objectID', right_on='index')\n",
    "    sum_of_area = merged_df['area'].sum()\n",
    "    return sum_of_area, merged_df"
   ]
  },
  {
   "cell_type": "code",
   "execution_count": 125,
   "id": "5e8209a0-de63-4ae7-9d7e-47c6dbc716cb",
   "metadata": {},
   "outputs": [],
   "source": [
    "def get_sum_of_area():\n",
    "    merged_df = csv_df.merge(objectid_ref_df, left_on='index', right_on='OBJECTID')\n",
    "    print(f\"csv_df shape = {csv_df.shape}, objectid_ref_df = {objectid_ref_df.shape}\")\n",
    "    print(f\"merged_df shape = {merged_df.shape}\")\n",
    "    sum_of_area = merged_df['building.area.m2'].sum()\n",
    "    return sum_of_area"
   ]
  },
  {
   "cell_type": "code",
   "execution_count": 126,
   "id": "813f6f7c-88f0-432d-9d8f-e3e34a0957f3",
   "metadata": {},
   "outputs": [
    {
     "name": "stderr",
     "output_type": "stream",
     "text": [
      "100%|████████████████████████████████████████████████████████████████████████████████████| 5/5 [00:00<00:00, 39.52it/s]"
     ]
    },
    {
     "name": "stdout",
     "output_type": "stream",
     "text": [
      "csv_df shape = (4259, 7), objectid_ref_df = (13367, 5)\n",
      "merged_df shape = (4259, 12)\n",
      "csv_df shape = (2730, 7), objectid_ref_df = (13367, 5)\n",
      "merged_df shape = (2730, 12)\n",
      "csv_df shape = (852, 7), objectid_ref_df = (13367, 5)\n",
      "merged_df shape = (852, 12)\n",
      "csv_df shape = (4423, 7), objectid_ref_df = (13367, 5)\n",
      "merged_df shape = (4423, 12)\n",
      "csv_df shape = (1105, 7), objectid_ref_df = (13367, 5)\n",
      "merged_df shape = (1105, 12)\n"
     ]
    },
    {
     "name": "stderr",
     "output_type": "stream",
     "text": [
      "\n"
     ]
    }
   ],
   "source": [
    "sum_of_area_list = []\n",
    "json_file_path = r\"..\\data\\data_root\\geojson_0.json\"\n",
    "directory_path = r'../results/area_aggregation'  # Use r prefix for raw string\n",
    "# Create an empty DataFrame to store the objectIDs\n",
    "objectID_df = pd.DataFrame(columns=[0])\n",
    "# Load the JSON data from the file\n",
    "with open(json_file_path) as file:\n",
    "    jsonfile = json.load(file)\n",
    "    \n",
    "for index in tqdm(num_indexes):\n",
    "    csv_df = get_csv_df(index)\n",
    "    # filtered_df = csv_df[csv_df['index'].isin(objectid_ref_df['OBJECTID'])]\n",
    "    # print(filtered_df.shape)\n",
    "    # sum_of_area, merged_df=calculate_aggregated_areas(filtered_df)\n",
    "    sum_of_area = get_sum_of_area()\n",
    "    sum_of_area_list.append(sum_of_area)\n",
    "    # merged_df.to_csv(f'../results/area_aggregation/5cluster_{index}_merged.csv',index=False)\n",
    "    # objectID_df = pd.concat([objectID_df, merged_df['objectID']], ignore_index=True)\n",
    "# objectID_df.to_csv('../results/area_aggregation/objectID.csv', index=False)"
   ]
  },
  {
   "cell_type": "code",
   "execution_count": 129,
   "id": "00e00b6f-37b1-44dc-a454-1440faadc0bb",
   "metadata": {},
   "outputs": [
    {
     "data": {
      "text/plain": [
       "[1141716.3815,\n",
       " 728261.4942000001,\n",
       " 243567.91410000002,\n",
       " 1193941.6029,\n",
       " 291030.5241]"
      ]
     },
     "execution_count": 129,
     "metadata": {},
     "output_type": "execute_result"
    }
   ],
   "source": [
    "sum_of_area_list"
   ]
  },
  {
   "cell_type": "code",
   "execution_count": 113,
   "id": "ae70c177-5500-4e87-95b9-8bb9fb933685",
   "metadata": {},
   "outputs": [
    {
     "data": {
      "text/html": [
       "<div>\n",
       "<style scoped>\n",
       "    .dataframe tbody tr th:only-of-type {\n",
       "        vertical-align: middle;\n",
       "    }\n",
       "\n",
       "    .dataframe tbody tr th {\n",
       "        vertical-align: top;\n",
       "    }\n",
       "\n",
       "    .dataframe thead th {\n",
       "        text-align: right;\n",
       "    }\n",
       "</style>\n",
       "<table border=\"1\" class=\"dataframe\">\n",
       "  <thead>\n",
       "    <tr style=\"text-align: right;\">\n",
       "      <th></th>\n",
       "      <th>Unnamed: 0</th>\n",
       "      <th>OBJECTID</th>\n",
       "      <th>idf.kw</th>\n",
       "      <th>FootprintArea.m2</th>\n",
       "      <th>building.area.m2</th>\n",
       "    </tr>\n",
       "  </thead>\n",
       "  <tbody>\n",
       "    <tr>\n",
       "      <th>0</th>\n",
       "      <td>11</td>\n",
       "      <td>37</td>\n",
       "      <td>SingleFamily-pre-1980</td>\n",
       "      <td>91.316398</td>\n",
       "      <td>69.3963</td>\n",
       "    </tr>\n",
       "    <tr>\n",
       "      <th>1</th>\n",
       "      <td>14</td>\n",
       "      <td>46</td>\n",
       "      <td>SingleFamily-2004</td>\n",
       "      <td>99.909763</td>\n",
       "      <td>193.0462</td>\n",
       "    </tr>\n",
       "    <tr>\n",
       "      <th>2</th>\n",
       "      <td>20</td>\n",
       "      <td>52</td>\n",
       "      <td>MultiFamily-pre-1980</td>\n",
       "      <td>94.014890</td>\n",
       "      <td>189.7018</td>\n",
       "    </tr>\n",
       "    <tr>\n",
       "      <th>3</th>\n",
       "      <td>24</td>\n",
       "      <td>57</td>\n",
       "      <td>SingleFamily-pre-1980</td>\n",
       "      <td>341.028058</td>\n",
       "      <td>314.1878</td>\n",
       "    </tr>\n",
       "    <tr>\n",
       "      <th>4</th>\n",
       "      <td>28</td>\n",
       "      <td>63</td>\n",
       "      <td>SingleFamily-2004</td>\n",
       "      <td>268.205501</td>\n",
       "      <td>325.5216</td>\n",
       "    </tr>\n",
       "    <tr>\n",
       "      <th>...</th>\n",
       "      <td>...</td>\n",
       "      <td>...</td>\n",
       "      <td>...</td>\n",
       "      <td>...</td>\n",
       "      <td>...</td>\n",
       "    </tr>\n",
       "    <tr>\n",
       "      <th>13362</th>\n",
       "      <td>15476</td>\n",
       "      <td>25638</td>\n",
       "      <td>SingleFamily-pre-1980</td>\n",
       "      <td>227.679816</td>\n",
       "      <td>121.2345</td>\n",
       "    </tr>\n",
       "    <tr>\n",
       "      <th>13363</th>\n",
       "      <td>15477</td>\n",
       "      <td>25642</td>\n",
       "      <td>MultiFamily-pre-1980</td>\n",
       "      <td>62.026620</td>\n",
       "      <td>262.0709</td>\n",
       "    </tr>\n",
       "    <tr>\n",
       "      <th>13364</th>\n",
       "      <td>15478</td>\n",
       "      <td>25643</td>\n",
       "      <td>MultiFamily-2004</td>\n",
       "      <td>129.942767</td>\n",
       "      <td>464.5000</td>\n",
       "    </tr>\n",
       "    <tr>\n",
       "      <th>13365</th>\n",
       "      <td>15479</td>\n",
       "      <td>25644</td>\n",
       "      <td>SingleFamily-pre-1980</td>\n",
       "      <td>164.018356</td>\n",
       "      <td>176.6958</td>\n",
       "    </tr>\n",
       "    <tr>\n",
       "      <th>13366</th>\n",
       "      <td>15480</td>\n",
       "      <td>25645</td>\n",
       "      <td>SingleFamily-pre-1980</td>\n",
       "      <td>103.109725</td>\n",
       "      <td>103.5835</td>\n",
       "    </tr>\n",
       "  </tbody>\n",
       "</table>\n",
       "<p>13367 rows × 5 columns</p>\n",
       "</div>"
      ],
      "text/plain": [
       "       Unnamed: 0  OBJECTID                 idf.kw  FootprintArea.m2  \\\n",
       "0              11        37  SingleFamily-pre-1980         91.316398   \n",
       "1              14        46      SingleFamily-2004         99.909763   \n",
       "2              20        52   MultiFamily-pre-1980         94.014890   \n",
       "3              24        57  SingleFamily-pre-1980        341.028058   \n",
       "4              28        63      SingleFamily-2004        268.205501   \n",
       "...           ...       ...                    ...               ...   \n",
       "13362       15476     25638  SingleFamily-pre-1980        227.679816   \n",
       "13363       15477     25642   MultiFamily-pre-1980         62.026620   \n",
       "13364       15478     25643       MultiFamily-2004        129.942767   \n",
       "13365       15479     25644  SingleFamily-pre-1980        164.018356   \n",
       "13366       15480     25645  SingleFamily-pre-1980        103.109725   \n",
       "\n",
       "       building.area.m2  \n",
       "0               69.3963  \n",
       "1              193.0462  \n",
       "2              189.7018  \n",
       "3              314.1878  \n",
       "4              325.5216  \n",
       "...                 ...  \n",
       "13362          121.2345  \n",
       "13363          262.0709  \n",
       "13364          464.5000  \n",
       "13365          176.6958  \n",
       "13366          103.5835  \n",
       "\n",
       "[13367 rows x 5 columns]"
      ]
     },
     "execution_count": 113,
     "metadata": {},
     "output_type": "execute_result"
    }
   ],
   "source": [
    "objectid_ref_df"
   ]
  },
  {
   "cell_type": "code",
   "execution_count": 114,
   "id": "4d6660c9-b09b-40e8-bc16-b79e3b153fa7",
   "metadata": {},
   "outputs": [
    {
     "data": {
      "text/plain": [
       "Unnamed: 0                                                  107901183\n",
       "OBJECTID                                                    187510622\n",
       "idf.kw              SingleFamily-pre-1980SingleFamily-2004MultiFam...\n",
       "FootprintArea.m2                                       3274820.381714\n",
       "building.area.m2                                          3597987.272\n",
       "dtype: object"
      ]
     },
     "execution_count": 114,
     "metadata": {},
     "output_type": "execute_result"
    }
   ],
   "source": [
    "objectid_ref_df.sum()"
   ]
  },
  {
   "cell_type": "code",
   "execution_count": 130,
   "id": "4e719f82-0c44-4310-a686-c4e812126903",
   "metadata": {},
   "outputs": [
    {
     "data": {
      "text/plain": [
       "[1141716.3815,\n",
       " 728261.4942000001,\n",
       " 243567.91410000002,\n",
       " 1193941.6029,\n",
       " 291030.5241]"
      ]
     },
     "execution_count": 130,
     "metadata": {},
     "output_type": "execute_result"
    }
   ],
   "source": [
    "sum_of_area_list"
   ]
  },
  {
   "cell_type": "code",
   "execution_count": 132,
   "id": "4f6d51db-50c3-4a89-80be-e7c1a279fcba",
   "metadata": {},
   "outputs": [],
   "source": [
    "new_df = pd.DataFrame({'index': num_indexes, 'area': sum_of_area_list})\n",
    "new_df.to_csv('area_aggregation_kmeans_5.csv')"
   ]
  },
  {
   "cell_type": "code",
   "execution_count": 101,
   "id": "d0e2d77c-2ae7-4aac-a2ab-af56e454d10e",
   "metadata": {},
   "outputs": [
    {
     "data": {
      "text/html": [
       "<div>\n",
       "<style scoped>\n",
       "    .dataframe tbody tr th:only-of-type {\n",
       "        vertical-align: middle;\n",
       "    }\n",
       "\n",
       "    .dataframe tbody tr th {\n",
       "        vertical-align: top;\n",
       "    }\n",
       "\n",
       "    .dataframe thead th {\n",
       "        text-align: right;\n",
       "    }\n",
       "</style>\n",
       "<table border=\"1\" class=\"dataframe\">\n",
       "  <thead>\n",
       "    <tr style=\"text-align: right;\">\n",
       "      <th></th>\n",
       "      <th>0</th>\n",
       "    </tr>\n",
       "  </thead>\n",
       "  <tbody>\n",
       "    <tr>\n",
       "      <th>0</th>\n",
       "      <td>349</td>\n",
       "    </tr>\n",
       "    <tr>\n",
       "      <th>1</th>\n",
       "      <td>604</td>\n",
       "    </tr>\n",
       "    <tr>\n",
       "      <th>2</th>\n",
       "      <td>620</td>\n",
       "    </tr>\n",
       "    <tr>\n",
       "      <th>3</th>\n",
       "      <td>695</td>\n",
       "    </tr>\n",
       "    <tr>\n",
       "      <th>4</th>\n",
       "      <td>700</td>\n",
       "    </tr>\n",
       "    <tr>\n",
       "      <th>...</th>\n",
       "      <td>...</td>\n",
       "    </tr>\n",
       "    <tr>\n",
       "      <th>13364</th>\n",
       "      <td>25552</td>\n",
       "    </tr>\n",
       "    <tr>\n",
       "      <th>13365</th>\n",
       "      <td>25595</td>\n",
       "    </tr>\n",
       "    <tr>\n",
       "      <th>13366</th>\n",
       "      <td>25619</td>\n",
       "    </tr>\n",
       "    <tr>\n",
       "      <th>13367</th>\n",
       "      <td>25621</td>\n",
       "    </tr>\n",
       "    <tr>\n",
       "      <th>13368</th>\n",
       "      <td>25637</td>\n",
       "    </tr>\n",
       "  </tbody>\n",
       "</table>\n",
       "<p>13369 rows × 1 columns</p>\n",
       "</div>"
      ],
      "text/plain": [
       "           0\n",
       "0        349\n",
       "1        604\n",
       "2        620\n",
       "3        695\n",
       "4        700\n",
       "...      ...\n",
       "13364  25552\n",
       "13365  25595\n",
       "13366  25619\n",
       "13367  25621\n",
       "13368  25637\n",
       "\n",
       "[13369 rows x 1 columns]"
      ]
     },
     "execution_count": 101,
     "metadata": {},
     "output_type": "execute_result"
    }
   ],
   "source": [
    "objectID_df"
   ]
  },
  {
   "cell_type": "code",
   "execution_count": 80,
   "id": "701da283-624d-4db8-997c-68c5650aaf7c",
   "metadata": {},
   "outputs": [
    {
     "data": {
      "text/html": [
       "<div>\n",
       "<style scoped>\n",
       "    .dataframe tbody tr th:only-of-type {\n",
       "        vertical-align: middle;\n",
       "    }\n",
       "\n",
       "    .dataframe tbody tr th {\n",
       "        vertical-align: top;\n",
       "    }\n",
       "\n",
       "    .dataframe thead th {\n",
       "        text-align: right;\n",
       "    }\n",
       "</style>\n",
       "<table border=\"1\" class=\"dataframe\">\n",
       "  <thead>\n",
       "    <tr style=\"text-align: right;\">\n",
       "      <th></th>\n",
       "      <th>0</th>\n",
       "      <th>1</th>\n",
       "      <th>2</th>\n",
       "      <th>3</th>\n",
       "      <th>4</th>\n",
       "    </tr>\n",
       "  </thead>\n",
       "  <tbody>\n",
       "    <tr>\n",
       "      <th>objectID</th>\n",
       "      <td>NaN</td>\n",
       "      <td>NaN</td>\n",
       "      <td>NaN</td>\n",
       "      <td>NaN</td>\n",
       "      <td>NaN</td>\n",
       "    </tr>\n",
       "    <tr>\n",
       "      <th>0</th>\n",
       "      <td>167.0</td>\n",
       "      <td>40.0</td>\n",
       "      <td>453.0</td>\n",
       "      <td>37.0</td>\n",
       "      <td>46.0</td>\n",
       "    </tr>\n",
       "    <tr>\n",
       "      <th>1</th>\n",
       "      <td>172.0</td>\n",
       "      <td>43.0</td>\n",
       "      <td>467.0</td>\n",
       "      <td>57.0</td>\n",
       "      <td>59.0</td>\n",
       "    </tr>\n",
       "    <tr>\n",
       "      <th>2</th>\n",
       "      <td>233.0</td>\n",
       "      <td>52.0</td>\n",
       "      <td>518.0</td>\n",
       "      <td>58.0</td>\n",
       "      <td>74.0</td>\n",
       "    </tr>\n",
       "    <tr>\n",
       "      <th>3</th>\n",
       "      <td>234.0</td>\n",
       "      <td>65.0</td>\n",
       "      <td>533.0</td>\n",
       "      <td>63.0</td>\n",
       "      <td>77.0</td>\n",
       "    </tr>\n",
       "    <tr>\n",
       "      <th>...</th>\n",
       "      <td>...</td>\n",
       "      <td>...</td>\n",
       "      <td>...</td>\n",
       "      <td>...</td>\n",
       "      <td>...</td>\n",
       "    </tr>\n",
       "    <tr>\n",
       "      <th>7738</th>\n",
       "      <td>NaN</td>\n",
       "      <td>NaN</td>\n",
       "      <td>NaN</td>\n",
       "      <td>25608.0</td>\n",
       "      <td>NaN</td>\n",
       "    </tr>\n",
       "    <tr>\n",
       "      <th>7739</th>\n",
       "      <td>NaN</td>\n",
       "      <td>NaN</td>\n",
       "      <td>NaN</td>\n",
       "      <td>25624.0</td>\n",
       "      <td>NaN</td>\n",
       "    </tr>\n",
       "    <tr>\n",
       "      <th>7740</th>\n",
       "      <td>NaN</td>\n",
       "      <td>NaN</td>\n",
       "      <td>NaN</td>\n",
       "      <td>25632.0</td>\n",
       "      <td>NaN</td>\n",
       "    </tr>\n",
       "    <tr>\n",
       "      <th>7741</th>\n",
       "      <td>NaN</td>\n",
       "      <td>NaN</td>\n",
       "      <td>NaN</td>\n",
       "      <td>25634.0</td>\n",
       "      <td>NaN</td>\n",
       "    </tr>\n",
       "    <tr>\n",
       "      <th>7742</th>\n",
       "      <td>NaN</td>\n",
       "      <td>NaN</td>\n",
       "      <td>NaN</td>\n",
       "      <td>25639.0</td>\n",
       "      <td>NaN</td>\n",
       "    </tr>\n",
       "  </tbody>\n",
       "</table>\n",
       "<p>7744 rows × 5 columns</p>\n",
       "</div>"
      ],
      "text/plain": [
       "              0     1      2        3     4\n",
       "objectID    NaN   NaN    NaN      NaN   NaN\n",
       "0         167.0  40.0  453.0     37.0  46.0\n",
       "1         172.0  43.0  467.0     57.0  59.0\n",
       "2         233.0  52.0  518.0     58.0  74.0\n",
       "3         234.0  65.0  533.0     63.0  77.0\n",
       "...         ...   ...    ...      ...   ...\n",
       "7738        NaN   NaN    NaN  25608.0   NaN\n",
       "7739        NaN   NaN    NaN  25624.0   NaN\n",
       "7740        NaN   NaN    NaN  25632.0   NaN\n",
       "7741        NaN   NaN    NaN  25634.0   NaN\n",
       "7742        NaN   NaN    NaN  25639.0   NaN\n",
       "\n",
       "[7744 rows x 5 columns]"
      ]
     },
     "execution_count": 80,
     "metadata": {},
     "output_type": "execute_result"
    }
   ],
   "source": [
    "objectID_df.transpose()"
   ]
  },
  {
   "cell_type": "code",
   "execution_count": 61,
   "id": "a5a9d8c3-d46c-4206-8fb4-cd57cf0ac27b",
   "metadata": {},
   "outputs": [
    {
     "data": {
      "image/png": "[encoded data removed]",
      "text/plain": [
       "<Figure size 640x480 with 2 Axes>"
      ]
     },
     "metadata": {},
     "output_type": "display_data"
    }
   ],
   "source": [
    "index1 = 167\n",
    "index2 = 25645\n",
    "image1_path = f'../data/data_root/data00/{index1}.png'\n",
    "image1 = mpimg.imread(image1_path)\n",
    "image2_path = f'../data/data_root/data00/{index2}.png'\n",
    "image2 = mpimg.imread(image2_path)\n",
    "# Get the center coordinates\n",
    "height, width, _ = image1.shape\n",
    "center_x = width // 2\n",
    "center_y = height // 2\n",
    "\n",
    "# Calculate the coordinates for the center 150x150 pixels\n",
    "x1 = center_x - 75\n",
    "x2 = center_x + 75\n",
    "y1 = center_y - 75\n",
    "y2 = center_y + 75\n",
    "\n",
    "# Extract the center 150x150 pixels from each image\n",
    "center1 = image1[y1:y2, x1:x2]\n",
    "center2 = image2[y1:y2, x1:x2]\n",
    "# Create a figure with two subplots\n",
    "fig, (ax1, ax2) = plt.subplots(1, 2)\n",
    "\n",
    "# Plot the first image in the left subplot\n",
    "ax1.imshow(center1)\n",
    "ax1.axis('off')\n",
    "\n",
    "# Plot the second image in the right subplot\n",
    "ax2.imshow(center2)\n",
    "ax2.axis('off')\n",
    "\n",
    "# Adjust the spacing between subplots\n",
    "plt.tight_layout()\n",
    "\n",
    "# Show the plot\n",
    "plt.show()"
   ]
  },
  {
   "cell_type": "code",
   "execution_count": null,
   "id": "b5949325-7af4-4711-ab35-ce3cb80b0e4e",
   "metadata": {},
   "outputs": [],
   "source": []
  }
 ],
 "metadata": {
  "kernelspec": {
   "display_name": "Python 3 (ipykernel)",
   "language": "python",
   "name": "python3"
  },
  "language_info": {
   "codemirror_mode": {
    "name": "ipython",
    "version": 3
   },
   "file_extension": ".py",
   "mimetype": "text/x-python",
   "name": "python",
   "nbconvert_exporter": "python",
   "pygments_lexer": "ipython3",
   "version": "3.9.12"
  }
 },
 "nbformat": 4,
 "nbformat_minor": 5
}
