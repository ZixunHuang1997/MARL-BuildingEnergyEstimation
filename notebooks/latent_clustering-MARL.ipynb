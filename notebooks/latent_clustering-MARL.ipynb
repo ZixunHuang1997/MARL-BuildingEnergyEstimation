{
 "cells": [
  {
   "cell_type": "markdown",
   "id": "454bc6c9-6d89-486e-b152-918861985029",
   "metadata": {
    "jp-MarkdownHeadingCollapsed": true
   },
   "source": [
    "### import lib"
   ]
  },
  {
   "cell_type": "code",
   "execution_count": 1,
   "id": "65e6ad84",
   "metadata": {},
   "outputs": [
    {
     "name": "stderr",
     "output_type": "stream",
     "text": [
      "C:\\Users\\xinwei\\miniconda3\\lib\\site-packages\\umap\\distances.py:1063: NumbaDeprecationWarning: \u001b[1mThe 'nopython' keyword argument was not supplied to the 'numba.jit' decorator. The implicit default value for this argument is currently False, but it will be changed to True in Numba 0.59.0. See https://numba.readthedocs.io/en/stable/reference/deprecation.html#deprecation-of-object-mode-fall-back-behaviour-when-using-jit for details.\u001b[0m\n",
      "  @numba.jit()\n",
      "C:\\Users\\xinwei\\miniconda3\\lib\\site-packages\\umap\\distances.py:1071: NumbaDeprecationWarning: \u001b[1mThe 'nopython' keyword argument was not supplied to the 'numba.jit' decorator. The implicit default value for this argument is currently False, but it will be changed to True in Numba 0.59.0. See https://numba.readthedocs.io/en/stable/reference/deprecation.html#deprecation-of-object-mode-fall-back-behaviour-when-using-jit for details.\u001b[0m\n",
      "  @numba.jit()\n",
      "C:\\Users\\xinwei\\miniconda3\\lib\\site-packages\\umap\\distances.py:1086: NumbaDeprecationWarning: \u001b[1mThe 'nopython' keyword argument was not supplied to the 'numba.jit' decorator. The implicit default value for this argument is currently False, but it will be changed to True in Numba 0.59.0. See https://numba.readthedocs.io/en/stable/reference/deprecation.html#deprecation-of-object-mode-fall-back-behaviour-when-using-jit for details.\u001b[0m\n",
      "  @numba.jit()\n",
      "C:\\Users\\xinwei\\miniconda3\\lib\\site-packages\\tqdm\\auto.py:21: TqdmWarning: IProgress not found. Please update jupyter and ipywidgets. See https://ipywidgets.readthedocs.io/en/stable/user_install.html\n",
      "  from .autonotebook import tqdm as notebook_tqdm\n",
      "C:\\Users\\xinwei\\miniconda3\\lib\\site-packages\\umap\\umap_.py:660: NumbaDeprecationWarning: \u001b[1mThe 'nopython' keyword argument was not supplied to the 'numba.jit' decorator. The implicit default value for this argument is currently False, but it will be changed to True in Numba 0.59.0. See https://numba.readthedocs.io/en/stable/reference/deprecation.html#deprecation-of-object-mode-fall-back-behaviour-when-using-jit for details.\u001b[0m\n",
      "  @numba.jit()\n"
     ]
    }
   ],
   "source": [
    "import sys\n",
    "sys.path.append('../')\n",
    "from model.VQAE import VQAE\n",
    "from model.MARL import MARL\n",
    "from utils import device, add_noise\n",
    "from tqdm import tqdm\n",
    "import torch\n",
    "from data.FloorPlanLoader import *\n",
    "import torch.nn.functional as F\n",
    "import random\n",
    "import json\n",
    "import torchvision\n",
    "import matplotlib.pyplot as plt\n",
    "import geopandas as gpd\n",
    "\n",
    "USE_MULTISCALE = True\n",
    "USE_MULTITASK = True\n",
    "\n",
    "#Reproducability Checks:\n",
    "random.seed(0) #Python\n",
    "torch.manual_seed(0) #Torch\n",
    "np.random.seed(0) #NumPy\n",
    "\n",
    "\n",
    "import torchvision\n",
    "import torchvision.transforms.functional as TF\n",
    "import imageio\n",
    "from torchvision.utils import save_image\n",
    "# %load_ext autoreload\n",
    "# %autoreload 2\n",
    "import csv\n",
    "import numpy\n",
    "from sklearn.manifold import TSNE\n",
    "import matplotlib.pyplot as plt\n",
    "from mpl_toolkits import mplot3d\n",
    "from sklearn.cluster import KMeans\n",
    "from sklearn.metrics import pairwise_distances_argmin_min\n",
    "import pandas as pd\n",
    "import seaborn as sns\n",
    "from sklearn.cluster import KMeans\n",
    "from umap import UMAP\n",
    "import matplotlib.pyplot as plt\n",
    "# device = torch.device('cuda' if torch.cuda.is_available() else 'cpu')\n",
    "device = 'cpu'"
   ]
  },
  {
   "cell_type": "code",
   "execution_count": 2,
   "id": "28352b5f",
   "metadata": {},
   "outputs": [],
   "source": [
    "#Hyperparameter\n",
    "device = torch.device('cpu')\n",
    "batch_size = 128\n",
    "n_hiddens = 32\n",
    "n_residual_hiddens = 32\n",
    "n_residual_layers = 1\n",
    "embedding_dim = 64\n",
    "n_embeddings = 218\n",
    "beta = .25\n",
    "lr = 3e-3\n",
    "epochs = 100\n",
    "noise=False\n",
    "noise_weight=0.05\n",
    "img_channel=3 if USE_MULTISCALE else 1"
   ]
  },
  {
   "cell_type": "markdown",
   "id": "47adb5c3-fe80-4a62-b2b1-26d3c85f543e",
   "metadata": {
    "jp-MarkdownHeadingCollapsed": true,
    "tags": []
   },
   "source": [
    "### prepare latent.pt file"
   ]
  },
  {
   "cell_type": "code",
   "execution_count": 10,
   "id": "71c9dd41-cfe6-43fe-9389-fe41c76c30b2",
   "metadata": {},
   "outputs": [
    {
     "name": "stderr",
     "output_type": "stream",
     "text": [
      "100%|██████████████████████████████████████████████████████████████████████████████████| 60/60 [01:27<00:00,  1.47s/it]"
     ]
    },
    {
     "name": "stdout",
     "output_type": "stream",
     "text": [
      "finished latents configuration, now saving to ../data/data_root/marl_latent_data80_SF.pt ...\n",
      "latent saved to ../data/data_root/marl_latent_data80_SF.pt ...\n"
     ]
    },
    {
     "name": "stderr",
     "output_type": "stream",
     "text": [
      "\n"
     ]
    }
   ],
   "source": [
    "#Load Dataset\n",
    "curr_data = 'data80_SF'\n",
    "floor = FloorPlanDataset(multi_scale=True, root=f'../data/data_root/{curr_data}/',\\\n",
    "                         data_config='../data/data_config/', preprocess=True)\n",
    "data_loader = torch.utils.data.DataLoader(floor, batch_size=batch_size, shuffle=False)\n",
    "vqae = VQAE(n_hiddens, n_residual_hiddens, n_residual_layers,\n",
    "            n_embeddings, embedding_dim, \n",
    "            beta, img_channel).to(device)\n",
    "marl = MARL(vqae, True, floor.age_label_num, floor.category_num).to(device)\n",
    "marl.load_state_dict(torch.load(\"../best_checkpoint/final/10-marl-0.7733164590012002.pt\", map_location=torch.device('cpu')))\n",
    "# print(f\"data shape: {floor[0]['image_tensor'].shape}, dataset size: {len(floor)}\")\n",
    "for param in vqae.parameters():\n",
    "    param.to('cpu')\n",
    "for param in marl.parameters():\n",
    "    param.to('cpu')\n",
    "\n",
    "marl.eval()\n",
    "latents = None\n",
    "with torch.no_grad():\n",
    "    for data in tqdm(data_loader):\n",
    "        data = data['image_tensor'].to(device)\n",
    "        valid_recon = marl(data)\n",
    "        quantized = valid_recon['latent']\n",
    "        if latents is not None:\n",
    "            latents = torch.cat([latents, quantized], dim=0)\n",
    "        else: \n",
    "            latents = quantized\n",
    "latent_file_path = f'../data/data_root/marl_latent_{curr_data}.pt'\n",
    "print(f\"finished latents configuration, now saving to {latent_file_path} ...\")\n",
    "torch.save(latents, latent_file_path)\n",
    "print(f\"latent saved to {latent_file_path} ...\")"
   ]
  },
  {
   "cell_type": "code",
   "execution_count": 6,
   "id": "e3875ec7-9fea-47aa-8eb3-cf5889bcfdf5",
   "metadata": {},
   "outputs": [
    {
     "data": {
      "text/plain": [
       "torch.Size([32, 28, 28])"
      ]
     },
     "execution_count": 6,
     "metadata": {},
     "output_type": "execute_result"
    }
   ],
   "source": [
    "latents[0].shape"
   ]
  },
  {
   "cell_type": "code",
   "execution_count": 7,
   "id": "78234397-ff7a-4614-ba1c-c66e3da6f1f0",
   "metadata": {},
   "outputs": [
    {
     "data": {
      "text/plain": [
       "torch.Size([11419, 32, 28, 28])"
      ]
     },
     "execution_count": 7,
     "metadata": {},
     "output_type": "execute_result"
    }
   ],
   "source": [
    "latents.shape"
   ]
  },
  {
   "cell_type": "markdown",
   "id": "709d71fc",
   "metadata": {},
   "source": [
    "# Embedding Space Visualization\n",
    "## Visualize the latent with UMAP and T-SNE"
   ]
  },
  {
   "cell_type": "code",
   "execution_count": 117,
   "id": "18a03b7a-7945-44ae-8ea1-96487e0e50cc",
   "metadata": {},
   "outputs": [],
   "source": [
    "curr_data = 'data80_MF'\n",
    "latent_file_path = f'../data/data_root/marl_latent_{curr_data}.pt'\n",
    "latents = torch.load(latent_file_path)\n",
    "floor = FloorPlanDataset(multi_scale=True, root=f'../data/data_root/{curr_data}/',\\\n",
    "                         data_config='../data/data_config/', preprocess=True)\n",
    "data_loader = torch.utils.data.DataLoader(floor, batch_size=batch_size, shuffle=False)"
   ]
  },
  {
   "cell_type": "code",
   "execution_count": 118,
   "id": "b931c64a-2905-4267-b931-49c30b5f5343",
   "metadata": {},
   "outputs": [
    {
     "data": {
      "image/png": "[encoded data removed]",
      "text/plain": [
       "<Figure size 640x480 with 1 Axes>"
      ]
     },
     "metadata": {},
     "output_type": "display_data"
    }
   ],
   "source": [
    "umap = UMAP(n_components=2)\n",
    "data_2d_umap = umap.fit_transform(torch.flatten(latents, start_dim=1).cpu())\n",
    "# Create a figure and a 3D axes object\n",
    "fig = plt.figure()\n",
    "ax = fig.add_subplot(111)\n",
    "\n",
    "# Create the initial scatter plot\n",
    "ax.scatter(data_2d_umap[:, 0], data_2d_umap[:, 1], s=0.5)\n",
    "\n",
    "# Show the plot\n",
    "plt.show()"
   ]
  },
  {
   "cell_type": "code",
   "execution_count": 119,
   "id": "acfc3c7e",
   "metadata": {},
   "outputs": [
    {
     "data": {
      "image/png": "[encoded data removed]",
      "text/plain": [
       "<Figure size 640x480 with 1 Axes>"
      ]
     },
     "metadata": {},
     "output_type": "display_data"
    }
   ],
   "source": [
    "tsne = TSNE(n_components=2)\n",
    "# apply t-SNE to data\n",
    "data_2d_tsne = tsne.fit_transform(torch.flatten(latents, start_dim=1).cpu())\n",
    "# Create a figure and a 3D axes object\n",
    "fig = plt.figure()\n",
    "ax = fig.add_subplot(111)\n",
    "\n",
    "# Create the initial scatter plot\n",
    "ax.scatter(data_2d_tsne[:, 0], data_2d_tsne[:, 1], s=0.5)\n",
    "\n",
    "# Show the plot\n",
    "plt.show()"
   ]
  },
  {
   "cell_type": "markdown",
   "id": "f39f55a2",
   "metadata": {},
   "source": [
    "### deciding the number of clusters"
   ]
  },
  {
   "cell_type": "code",
   "execution_count": 120,
   "id": "45ca0be8-d6b0-4cb8-8f5a-97f4d93f170b",
   "metadata": {},
   "outputs": [
    {
     "name": "stderr",
     "output_type": "stream",
     "text": [
      "  0%|                                                                                            | 0/7 [00:00<?, ?it/s]C:\\Users\\xinwei\\miniconda3\\lib\\site-packages\\sklearn\\cluster\\_kmeans.py:1412: FutureWarning: The default value of `n_init` will change from 10 to 'auto' in 1.4. Set the value of `n_init` explicitly to suppress the warning\n",
      "  super()._check_params_vs_input(X, default_n_init=10)\n",
      " 14%|████████████                                                                        | 1/7 [00:01<00:11,  1.87s/it]C:\\Users\\xinwei\\miniconda3\\lib\\site-packages\\sklearn\\cluster\\_kmeans.py:1412: FutureWarning: The default value of `n_init` will change from 10 to 'auto' in 1.4. Set the value of `n_init` explicitly to suppress the warning\n",
      "  super()._check_params_vs_input(X, default_n_init=10)\n",
      " 29%|████████████████████████                                                            | 2/7 [00:09<00:26,  5.38s/it]C:\\Users\\xinwei\\miniconda3\\lib\\site-packages\\sklearn\\cluster\\_kmeans.py:1412: FutureWarning: The default value of `n_init` will change from 10 to 'auto' in 1.4. Set the value of `n_init` explicitly to suppress the warning\n",
      "  super()._check_params_vs_input(X, default_n_init=10)\n",
      " 43%|████████████████████████████████████                                                | 3/7 [00:17<00:26,  6.61s/it]C:\\Users\\xinwei\\miniconda3\\lib\\site-packages\\sklearn\\cluster\\_kmeans.py:1412: FutureWarning: The default value of `n_init` will change from 10 to 'auto' in 1.4. Set the value of `n_init` explicitly to suppress the warning\n",
      "  super()._check_params_vs_input(X, default_n_init=10)\n",
      " 57%|████████████████████████████████████████████████                                    | 4/7 [00:28<00:24,  8.11s/it]C:\\Users\\xinwei\\miniconda3\\lib\\site-packages\\sklearn\\cluster\\_kmeans.py:1412: FutureWarning: The default value of `n_init` will change from 10 to 'auto' in 1.4. Set the value of `n_init` explicitly to suppress the warning\n",
      "  super()._check_params_vs_input(X, default_n_init=10)\n",
      " 71%|████████████████████████████████████████████████████████████                        | 5/7 [00:39<00:18,  9.18s/it]C:\\Users\\xinwei\\miniconda3\\lib\\site-packages\\sklearn\\cluster\\_kmeans.py:1412: FutureWarning: The default value of `n_init` will change from 10 to 'auto' in 1.4. Set the value of `n_init` explicitly to suppress the warning\n",
      "  super()._check_params_vs_input(X, default_n_init=10)\n",
      " 86%|████████████████████████████████████████████████████████████████████████            | 6/7 [00:54<00:11, 11.12s/it]C:\\Users\\xinwei\\miniconda3\\lib\\site-packages\\sklearn\\cluster\\_kmeans.py:1412: FutureWarning: The default value of `n_init` will change from 10 to 'auto' in 1.4. Set the value of `n_init` explicitly to suppress the warning\n",
      "  super()._check_params_vs_input(X, default_n_init=10)\n",
      "100%|████████████████████████████████████████████████████████████████████████████████████| 7/7 [01:08<00:00,  9.80s/it]\n"
     ]
    }
   ],
   "source": [
    "def calculate_wcss(latents):\n",
    "    wcss = []\n",
    "    for n in tqdm(range(1, 8)):  # change the range according to your needs\n",
    "        kmeans = KMeans(n_clusters=n)\n",
    "        data = torch.flatten(latents, start_dim=1).cpu()\n",
    "        kmeans.fit(data)\n",
    "        wcss.append(kmeans.inertia_)  # inertia_ is the WCSS for the model\n",
    "    return wcss\n",
    "# calculate WCSS for different numbers of clusters\n",
    "wcss = calculate_wcss(latents)"
   ]
  },
  {
   "cell_type": "code",
   "execution_count": 121,
   "id": "80dbb204-6731-429a-9298-ef832a9a4a75",
   "metadata": {},
   "outputs": [
    {
     "data": {
      "text/plain": [
       "[71694994.15491003,\n",
       " 61984230.510112025,\n",
       " 57580923.560567506,\n",
       " 55136183.25583037,\n",
       " 53487264.82873662,\n",
       " 52223936.8941624,\n",
       " 51148869.09057999]"
      ]
     },
     "execution_count": 121,
     "metadata": {},
     "output_type": "execute_result"
    }
   ],
   "source": [
    "wcss"
   ]
  },
  {
   "cell_type": "code",
   "execution_count": 122,
   "id": "7f453cc4-7ab8-414b-b354-b2d5c06f5ed9",
   "metadata": {},
   "outputs": [
    {
     "data": {
      "text/html": [
       "<div>\n",
       "<style scoped>\n",
       "    .dataframe tbody tr th:only-of-type {\n",
       "        vertical-align: middle;\n",
       "    }\n",
       "\n",
       "    .dataframe tbody tr th {\n",
       "        vertical-align: top;\n",
       "    }\n",
       "\n",
       "    .dataframe thead th {\n",
       "        text-align: right;\n",
       "    }\n",
       "</style>\n",
       "<table border=\"1\" class=\"dataframe\">\n",
       "  <thead>\n",
       "    <tr style=\"text-align: right;\">\n",
       "      <th></th>\n",
       "      <th>0</th>\n",
       "    </tr>\n",
       "  </thead>\n",
       "  <tbody>\n",
       "    <tr>\n",
       "      <th>0</th>\n",
       "      <td>7.169499e+07</td>\n",
       "    </tr>\n",
       "    <tr>\n",
       "      <th>1</th>\n",
       "      <td>6.198423e+07</td>\n",
       "    </tr>\n",
       "    <tr>\n",
       "      <th>2</th>\n",
       "      <td>5.758092e+07</td>\n",
       "    </tr>\n",
       "    <tr>\n",
       "      <th>3</th>\n",
       "      <td>5.513618e+07</td>\n",
       "    </tr>\n",
       "    <tr>\n",
       "      <th>4</th>\n",
       "      <td>5.348726e+07</td>\n",
       "    </tr>\n",
       "    <tr>\n",
       "      <th>5</th>\n",
       "      <td>5.222394e+07</td>\n",
       "    </tr>\n",
       "    <tr>\n",
       "      <th>6</th>\n",
       "      <td>5.114887e+07</td>\n",
       "    </tr>\n",
       "  </tbody>\n",
       "</table>\n",
       "</div>"
      ],
      "text/plain": [
       "              0\n",
       "0  7.169499e+07\n",
       "1  6.198423e+07\n",
       "2  5.758092e+07\n",
       "3  5.513618e+07\n",
       "4  5.348726e+07\n",
       "5  5.222394e+07\n",
       "6  5.114887e+07"
      ]
     },
     "execution_count": 122,
     "metadata": {},
     "output_type": "execute_result"
    }
   ],
   "source": [
    "# Convert list to DataFrame\n",
    "wcss_df = pd.DataFrame(wcss)\n",
    "wcss_df.to_csv(f'wcss_{curr_data}.csv',index=False)\n",
    "wcss_df"
   ]
  },
  {
   "cell_type": "code",
   "execution_count": 123,
   "id": "8dd0b1fb-49e6-49e0-9592-58e974811748",
   "metadata": {},
   "outputs": [],
   "source": [
    "def plot_elbow(wcss, filename=None):\n",
    "    plt.figure(figsize=(10, 5))\n",
    "    plt.plot(range(1, len(wcss) + 1), wcss, 'bo-')\n",
    "    plt.title('The Elbow Method')\n",
    "    plt.xlabel('Number of clusters')\n",
    "    plt.ylabel('WCSS')\n",
    "    plt.grid()\n",
    "    filename = 'elbow plot for k-means'\n",
    "    plt.savefig(filename)"
   ]
  },
  {
   "cell_type": "code",
   "execution_count": 124,
   "id": "9673da5a-be3e-41b1-a5c6-ab19fbb66305",
   "metadata": {},
   "outputs": [
    {
     "data": {
      "image/png": "[encoded data removed]",
      "text/plain": [
       "<Figure size 1000x500 with 1 Axes>"
      ]
     },
     "metadata": {},
     "output_type": "display_data"
    }
   ],
   "source": [
    "# plot the elbow graph\n",
    "plot_elbow(wcss)"
   ]
  },
  {
   "cell_type": "markdown",
   "id": "2c918aa4-d56f-4503-8263-092bef2cf848",
   "metadata": {},
   "source": [
    "the number of clusters are set to 5, 10, 15"
   ]
  },
  {
   "cell_type": "code",
   "execution_count": 125,
   "id": "c5a50007-9f68-4e2b-946c-0edd73f601af",
   "metadata": {},
   "outputs": [],
   "source": [
    "def calculate_slope(points):\n",
    "    slopes = []\n",
    "    for i in range(len(points) - 1):\n",
    "        slope = (points[i + 1] - points[i]) / (i + 2 - i)\n",
    "        slopes.append(slope)\n",
    "    return slopes\n",
    "\n",
    "def find_optimal_point(slopes, drop_threshold=0.1):\n",
    "    optimal_point = 1\n",
    "    for i in range(len(slopes)):\n",
    "        if slopes[i] / slopes[i - 1] <= drop_threshold:\n",
    "            optimal_point = i + 1\n",
    "            break\n",
    "    return optimal_point"
   ]
  },
  {
   "cell_type": "code",
   "execution_count": 126,
   "id": "0e1e0c91-82f6-4d19-840e-e50d64562714",
   "metadata": {},
   "outputs": [
    {
     "name": "stdout",
     "output_type": "stream",
     "text": [
      "[-4855381.822399002, -2201653.4747722596, -1222370.152368568, -824459.2135468759, -631663.9672871083, -537533.9017912075]\n",
      "Optimal point: 1\n"
     ]
    }
   ],
   "source": [
    "# Calculate slopes\n",
    "slopes = calculate_slope(wcss)\n",
    "print(slopes)\n",
    "# Find the optimal point based on the slope\n",
    "optimal_point = find_optimal_point(slopes)\n",
    "\n",
    "print(\"Optimal point:\", optimal_point)"
   ]
  },
  {
   "cell_type": "code",
   "execution_count": 127,
   "id": "be3ef777-4cdb-45f0-8ba9-90210a65de9c",
   "metadata": {},
   "outputs": [
    {
     "data": {
      "image/png": "[encoded data removed]",
      "text/plain": [
       "<Figure size 640x480 with 1 Axes>"
      ]
     },
     "metadata": {},
     "output_type": "display_data"
    }
   ],
   "source": [
    "# Plot the slopes\n",
    "plt.plot(range(1, len(wcss)), slopes, 'bo-')\n",
    "plt.title('Slope between Points')\n",
    "plt.xlabel('Point Index')\n",
    "plt.ylabel('Slope')\n",
    "plt.grid()\n",
    "plt.show()"
   ]
  },
  {
   "cell_type": "markdown",
   "id": "4825bc32-135a-4dce-977b-05ac0effcb6d",
   "metadata": {},
   "source": [
    "### Clustering"
   ]
  },
  {
   "cell_type": "markdown",
   "id": "5cb89ba6-3f37-45b7-b839-b8b7abcea1b3",
   "metadata": {},
   "source": [
    "<b>TESTING DATA (data00/10/20)</b> \\\n",
    "MF CLUSTER = 2 \\\n",
    "SF CLUSTER = 4\n",
    "\n",
    "<b>TRAINING DATA (data40)</b>\\\n",
    "MF CLUSTER = 2 \\\n",
    "SF CLUSTER = 5\n",
    "\n",
    "\n",
    "<b>TRAINING DATA (data80)</b>\\\n",
    "MF CLUSTER = 2 \\\n",
    "SF CLUSTER = 4"
   ]
  },
  {
   "cell_type": "code",
   "execution_count": 135,
   "id": "52e47463-fa5c-46ea-92b0-2abb1847e3ef",
   "metadata": {},
   "outputs": [],
   "source": [
    "n_clusters = 2\n",
    "data_latent = latents # this is the data for clustering"
   ]
  },
  {
   "cell_type": "code",
   "execution_count": 136,
   "id": "e19e9572",
   "metadata": {},
   "outputs": [
    {
     "name": "stderr",
     "output_type": "stream",
     "text": [
      "C:\\Users\\xinwei\\miniconda3\\lib\\site-packages\\sklearn\\cluster\\_kmeans.py:1412: FutureWarning: The default value of `n_init` will change from 10 to 'auto' in 1.4. Set the value of `n_init` explicitly to suppress the warning\n",
      "  super()._check_params_vs_input(X, default_n_init=10)\n"
     ]
    },
    {
     "name": "stdout",
     "output_type": "stream",
     "text": [
      "(2, 25088) torch.Size([2222, 25088])\n",
      "[1284  223]\n"
     ]
    }
   ],
   "source": [
    "#Initialize the class object\n",
    "kmeans = KMeans(n_clusters=n_clusters)\n",
    "data = torch.flatten(data_latent, start_dim=1).cpu()\n",
    "# #predict the labels of clusters.\n",
    "label = kmeans.fit_predict(data)\n",
    "# get cluster centers\n",
    "cluster_centers = kmeans.cluster_centers_\n",
    "closest, _ = pairwise_distances_argmin_min(cluster_centers, data)\n",
    "print(cluster_centers.shape, data.shape)\n",
    "\n",
    "\n",
    "\n",
    "center_list = closest\n",
    "print(center_list)\n",
    "df = np.stack((label, floor.all_data_dirs)).transpose()\n",
    "df = pd.DataFrame(df,columns=['label','data'])"
   ]
  },
  {
   "cell_type": "code",
   "execution_count": 137,
   "id": "916fc620-861f-4daf-8336-872714db8487",
   "metadata": {},
   "outputs": [],
   "source": [
    "def calculate_index_png(index):\n",
    "    image_path = floor.all_data_dirs[index]  # Replace with appropriate image paths list\n",
    "    file_name, file_extension = os.path.splitext(image_path)\n",
    "    num_index = int(os.path.basename(file_name))\n",
    "    return num_index"
   ]
  },
  {
   "cell_type": "code",
   "execution_count": 138,
   "id": "0daf78fc-0104-46d1-a65f-61e34514d88d",
   "metadata": {},
   "outputs": [
    {
     "name": "stdout",
     "output_type": "stream",
     "text": [
      "(2222, 2)\n"
     ]
    },
    {
     "data": {
      "text/html": [
       "<div>\n",
       "<style scoped>\n",
       "    .dataframe tbody tr th:only-of-type {\n",
       "        vertical-align: middle;\n",
       "    }\n",
       "\n",
       "    .dataframe tbody tr th {\n",
       "        vertical-align: top;\n",
       "    }\n",
       "\n",
       "    .dataframe thead th {\n",
       "        text-align: right;\n",
       "    }\n",
       "</style>\n",
       "<table border=\"1\" class=\"dataframe\">\n",
       "  <thead>\n",
       "    <tr style=\"text-align: right;\">\n",
       "      <th></th>\n",
       "      <th>label</th>\n",
       "      <th>index</th>\n",
       "    </tr>\n",
       "  </thead>\n",
       "  <tbody>\n",
       "    <tr>\n",
       "      <th>0</th>\n",
       "      <td>1</td>\n",
       "      <td>2099613</td>\n",
       "    </tr>\n",
       "    <tr>\n",
       "      <th>1</th>\n",
       "      <td>0</td>\n",
       "      <td>2099660</td>\n",
       "    </tr>\n",
       "  </tbody>\n",
       "</table>\n",
       "</div>"
      ],
      "text/plain": [
       "  label    index\n",
       "0     1  2099613\n",
       "1     0  2099660"
      ]
     },
     "execution_count": 138,
     "metadata": {},
     "output_type": "execute_result"
    }
   ],
   "source": [
    "# Save closest points and cluster centers to CSV\n",
    "df_center = pd.DataFrame({'Cluster Center': cluster_centers.tolist(), 'Closest Point Index': closest})\n",
    "df_center['index_png'] = df_center['Closest Point Index'].apply(lambda x: calculate_index_png(x))\n",
    "df_center.to_csv(f'../results/MARL_{curr_data}_{n_clusters}cluster_centers.csv', index=False)\n",
    "\n",
    "df_center_index = np.stack((label, floor.all_data_dirs)).transpose()\n",
    "df_center_index = pd.DataFrame(df_center_index,columns=['label','data'])\n",
    "df_center_index['index'] = df_center_index['data'].str.extract(r'(\\d+).pt')\n",
    "df_center_index = df_center_index.drop(['data'], axis=1)\n",
    "df_center_index['index'] = df_center_index['index'].astype(int)\n",
    "df_center_index.to_csv(f'../results/MARL_{curr_data}_{n_clusters}clusters_clusterindex.csv', index=False)\n",
    "print(df_center_index.shape)\n",
    "df_center_index.head(2)\n"
   ]
  },
  {
   "cell_type": "code",
   "execution_count": 139,
   "id": "fce76e0f-4c1e-4848-8fcd-5df534405eef",
   "metadata": {},
   "outputs": [],
   "source": [
    "center_list = closest\n",
    "center_list_annotation = df_center['index_png'].tolist()"
   ]
  },
  {
   "cell_type": "code",
   "execution_count": 140,
   "id": "81adb0d9-9ae1-44b0-a7cf-91f212369633",
   "metadata": {},
   "outputs": [
    {
     "data": {
      "image/png": "[encoded data removed]",
      "text/plain": [
       "<Figure size 800x600 with 1 Axes>"
      ]
     },
     "metadata": {},
     "output_type": "display_data"
    }
   ],
   "source": [
    "data_2d = data_2d_umap # this is the data for visualization\n",
    "dim_name = 'umap'\n",
    "\n",
    "#Getting unique labels\n",
    "plt.figure(figsize=(8,6))\n",
    "u_labels = np.unique(label)\n",
    "num_labels = len(u_labels)\n",
    "color_palette = sns.color_palette('husl', num_labels)\n",
    "for i, each in enumerate(center_list):\n",
    "    plt.scatter(data_2d[each][0],data_2d[each][1], s=30, c=[color_palette[i]])\n",
    "    plt.annotate(center_list_annotation[i], (data_2d[each][0],data_2d[each][1]), ha=\"center\", va=\"center\", xytext=(0,10), textcoords='offset points')\n",
    "for i in u_labels:\n",
    "    plt.scatter(data_2d[label == i , 0] , data_2d[label == i , 1] , label=f\"Cluster {i}\", s=0.5, c=[color_palette[i]],alpha=0.4)\n",
    "legend = plt.legend(loc='lower left', ncol=1, frameon=False)\n",
    "for legend_handle in legend.legend_handles:\n",
    "    legend_handle.set_sizes([30])  # Increase the size of legend dots    \n",
    "    legend_handle.set_alpha(1)\n",
    "plt.setp(legend.texts, fontsize='9')\n",
    "plt.axis('off')\n",
    "plt.savefig(f'MARL_{curr_data}_{dim_name}_{n_clusters}_kmeans.png')"
   ]
  },
  {
   "cell_type": "code",
   "execution_count": 141,
   "id": "399fc579-bd60-4627-ac8f-08252d665c08",
   "metadata": {},
   "outputs": [
    {
     "data": {
      "image/png": "[encoded data removed]",
      "text/plain": [
       "<Figure size 800x600 with 1 Axes>"
      ]
     },
     "metadata": {},
     "output_type": "display_data"
    }
   ],
   "source": [
    "data_2d = data_2d_tsne # this is the data for visualization\n",
    "dim_name = 'tsne'\n",
    "\n",
    "#Getting unique labels\n",
    "plt.figure(figsize=(8,6))\n",
    "u_labels = np.unique(label)\n",
    "num_labels = len(u_labels)\n",
    "color_palette = sns.color_palette('husl', num_labels)\n",
    "for i, each in enumerate(center_list):\n",
    "    plt.scatter(data_2d[each][0],data_2d[each][1], s=30, c=[color_palette[i]])\n",
    "    plt.annotate(center_list_annotation[i], (data_2d[each][0],data_2d[each][1]), ha=\"center\", va=\"center\", xytext=(0,10), textcoords='offset points')\n",
    "for i in u_labels:\n",
    "    plt.scatter(data_2d[label == i , 0] , data_2d[label == i , 1] , label=f\"Cluster {i}\", s=0.5, c=[color_palette[i]],alpha=0.4)\n",
    "legend = plt.legend(loc='lower left', ncol=1, frameon=False)\n",
    "for legend_handle in legend.legend_handles:\n",
    "    legend_handle.set_sizes([30])  # Increase the size of legend dots \n",
    "    legend_handle.set_alpha(1)\n",
    "plt.setp(legend.texts, fontsize='9')\n",
    "plt.axis('off')\n",
    "plt.savefig(f'MARL_{curr_data}_{dim_name}_{n_clusters}_kmeans.png')"
   ]
  },
  {
   "cell_type": "markdown",
   "id": "35c52f87-7aee-4993-a4ac-fc4f7f8570d6",
   "metadata": {},
   "source": [
    "## Visualize the cluster center"
   ]
  },
  {
   "cell_type": "code",
   "execution_count": 142,
   "id": "57003c62-8657-4a06-bf9a-23e681e06f01",
   "metadata": {},
   "outputs": [
    {
     "data": {
      "text/plain": [
       "array([1284,  223], dtype=int64)"
      ]
     },
     "execution_count": 142,
     "metadata": {},
     "output_type": "execute_result"
    }
   ],
   "source": [
    "center_list"
   ]
  },
  {
   "cell_type": "code",
   "execution_count": 143,
   "id": "5dd4ac5e-c064-4f1c-953b-98f24f30798e",
   "metadata": {},
   "outputs": [],
   "source": [
    "# k_means_center = \n",
    "# n_clusters=5\n",
    "# # data_2d = data_2d_umap\n",
    "# # data = data_2d_umap\n",
    "# cluster_count = n_clusters\n",
    "# file_path = f\"../results/clustercenter/umap_{cluster_count}cluster_centers.csv\"\n",
    "# indexes = pd.read_csv(file_path)['Closest Point Index'].tolist()\n",
    "# indexes"
   ]
  },
  {
   "cell_type": "code",
   "execution_count": 144,
   "id": "ca8959cb-c15b-4e5a-81bd-7d34be8203b9",
   "metadata": {},
   "outputs": [],
   "source": [
    "def scale_crop(img): #B,C,H,W\n",
    "    rescale = transforms.Compose([transforms.Resize(112),\n",
    "                                  transforms.CenterCrop(56)])\n",
    "    return rescale(img)"
   ]
  },
  {
   "cell_type": "code",
   "execution_count": 145,
   "id": "69d04b2e-abf8-478c-a6d6-f3e5f0ad0c9c",
   "metadata": {},
   "outputs": [],
   "source": [
    "indexes = center_list\n",
    "cluster_count = n_clusters"
   ]
  },
  {
   "cell_type": "code",
   "execution_count": 146,
   "id": "b1565e02-1aec-47f6-aaf0-1bbaa5e34dc4",
   "metadata": {},
   "outputs": [
    {
     "name": "stderr",
     "output_type": "stream",
     "text": [
      "C:\\Users\\xinwei\\miniconda3\\lib\\site-packages\\torchvision\\transforms\\functional.py:1603: UserWarning: The default value of the antialias parameter of all the resizing transforms (Resize(), RandomResizedCrop(), etc.) will change from None to True in v0.17, in order to be consistent across the PIL and Tensor backends. To suppress this warning, directly pass antialias=True (recommended, future default), antialias=None (current default, which means False for Tensors and True for PIL), or antialias=False (only works on Tensors - PIL will still use antialiasing). This also applies if you are using the inference transforms from the models weights: update the call to weights.transforms(antialias=True).\n",
      "  warnings.warn(\n",
      "Clipping input data to the valid range for imshow with RGB data ([0..1] for floats or [0..255] for integers).\n",
      "Clipping input data to the valid range for imshow with RGB data ([0..1] for floats or [0..255] for integers).\n"
     ]
    },
    {
     "data": {
      "image/png": "[encoded data removed]",
      "text/plain": [
       "<Figure size 800x300 with 2 Axes>"
      ]
     },
     "metadata": {},
     "output_type": "display_data"
    }
   ],
   "source": [
    "# Create a figure and axes with `cluster_count` subplots\n",
    "fig, axes = plt.subplots(1, cluster_count, figsize=(8, 3))\n",
    "image_size = 112\n",
    "crop_size = 56\n",
    "\n",
    "# Iterate over the `cluster_count` subplots\n",
    "for i, index in enumerate(indexes):\n",
    "    image_path = floor.all_data_dirs[index]\n",
    "    # Read the image using torch's load\n",
    "    image = torch.load(image_path)\n",
    "    scaled = scale_crop(image)\n",
    "    # Display the image in the corresponding subplot\n",
    "    image_array = scaled.permute(1, 2, 0).numpy()  # Convert to (56, 56, 3) shape\n",
    "    axes[i].imshow(image_array, cmap='gray')\n",
    "    axes[i].set_title(os.path.basename(image_path).split(\".\")[0])\n",
    "    axes[i].axis('off')\n",
    "\n",
    "# Adjust the spacing between subplots\n",
    "plt.tight_layout()\n",
    "\n",
    "# Save the plot\n",
    "plt.savefig(f\"../results/recon_img/MARL_{curr_data}_{cluster_count}cluster_sample_multiscale.png\")"
   ]
  },
  {
   "cell_type": "code",
   "execution_count": 147,
   "id": "964264fd-4a45-47fe-90d5-3d1bdd79535a",
   "metadata": {},
   "outputs": [],
   "source": [
    "def get_zoomed_img(image_path, half_pixel):\n",
    "    image = mpimg.imread(image_path)\n",
    "    # Get the center coordinates\n",
    "    height, width, _ = image.shape\n",
    "    center_x = width // 2\n",
    "    center_y = height // 2\n",
    "    \n",
    "    # Calculate the coordinates for the center 150x150 pixels\n",
    "    x1 = center_x - half_pixel\n",
    "    x2 = center_x + half_pixel\n",
    "    y1 = center_y - half_pixel\n",
    "    y2 = center_y + half_pixel\n",
    "    \n",
    "    # Extract the center 150x150 pixels from each image\n",
    "    center_img = image[y1:y2, x1:x2]\n",
    "    return center_img"
   ]
  },
  {
   "cell_type": "code",
   "execution_count": 148,
   "id": "3c92c564-508f-4894-b04b-4d1a4737a037",
   "metadata": {},
   "outputs": [
    {
     "data": {
      "text/plain": [
       "[2114900, 2102127]"
      ]
     },
     "execution_count": 148,
     "metadata": {},
     "output_type": "execute_result"
    },
    {
     "data": {
      "image/png": "[encoded data removed]",
      "text/plain": [
       "<Figure size 800x300 with 2 Axes>"
      ]
     },
     "metadata": {},
     "output_type": "display_data"
    }
   ],
   "source": [
    "import os\n",
    "import shutil\n",
    "import matplotlib.pyplot as plt\n",
    "import matplotlib.image as mpimg\n",
    "\n",
    "cluster_count = n_clusters\n",
    "# Create a figure and axes with `cluster_count` subplots\n",
    "fig, axes = plt.subplots(1, cluster_count, figsize=(8, 3))\n",
    "image_size = 112\n",
    "crop_size = 56\n",
    "\n",
    "# Define the new directory\n",
    "new_dir = 'kmeans_5_cluster'\n",
    "num_indexes = []\n",
    "# Create the new directory if it doesn't exist\n",
    "if not os.path.exists(new_dir):\n",
    "    os.makedirs(new_dir)\n",
    "\n",
    "# Iterate over the `cluster_count` subplots\n",
    "for i, index in enumerate(indexes):\n",
    "    image_path = floor.all_data_dirs[index]\n",
    "    # Split the path into the name and the extension\n",
    "    file_name, file_extension = os.path.splitext(image_path)\n",
    "    # Replace the '.pt' extension with '.png'\n",
    "    png_file_path = file_name + '.png'\n",
    "    # Read the image data\n",
    "    img = get_zoomed_img(png_file_path, 75)\n",
    "    # Display the image in the corresponding subplot\n",
    "    axes[i].imshow(img, cmap='gray')\n",
    "    # Extract numerical part from the file name\n",
    "    num_index = int(os.path.basename(file_name))\n",
    "    num_indexes.append(num_index)\n",
    "    axes[i].set_title(f\"{num_index}\")\n",
    "    axes[i].axis('off')\n",
    "\n",
    "    # Add the prefix 'VQVAE_' to the original filename\n",
    "    basename = os.path.basename(file_name)\n",
    "    # Add the prefix 'VQVAE_' to the basename\n",
    "    new_basename = f'MARL_{curr_data}_{basename}.png'\n",
    "    # Copy the PNG file to the new directory with the modified filename\n",
    "    shutil.copy(png_file_path, os.path.join(new_dir, new_basename))\n",
    "\n",
    "# Adjust the spacing between subplots\n",
    "plt.tight_layout()\n",
    "\n",
    "# Save the plot\n",
    "plt.savefig(f\"../results/recon_img/MARL_{curr_data}_{cluster_count}cluster_sample.png\")\n",
    "num_indexes"
   ]
  },
  {
   "cell_type": "code",
   "execution_count": 149,
   "id": "75c994a2-51b8-4bd5-975d-ea5e8828441f",
   "metadata": {},
   "outputs": [
    {
     "data": {
      "text/plain": [
       "[2114900, 2102127]"
      ]
     },
     "execution_count": 149,
     "metadata": {},
     "output_type": "execute_result"
    }
   ],
   "source": [
    "indexes = num_indexes\n",
    "indexes"
   ]
  },
  {
   "cell_type": "markdown",
   "id": "fa5d3f53-adfc-4582-9e59-a68024a42f24",
   "metadata": {},
   "source": [
    "## calculate aggregated area"
   ]
  },
  {
   "cell_type": "code",
   "execution_count": 150,
   "id": "b9d82ff5-650e-4b12-928c-71a58040ab61",
   "metadata": {},
   "outputs": [],
   "source": [
    "# metadata_file_path = r\"..\\data\\data_root\\building_metadata.csv\"\n",
    "# metadata_df = pd.read_csv(metadata_file_path)\n",
    "# metadata_df_clean = metadata_df[['OBJECTID','vintage','idf.kw', 'FootprintArea.m2', 'building.area.m2', 'HEIGHT']]\n",
    "# metadata_df_clean = metadata_df_clean[metadata_df_clean['idf.kw'].str.contains('Family')]\n",
    "# metadata_df_clean.to_csv(r\"..\\data\\data_root\\building_metadata_clean.csv\", index=None)"
   ]
  },
  {
   "cell_type": "code",
   "execution_count": 151,
   "id": "58716f30-5850-4af7-8526-d6e52686a6ad",
   "metadata": {},
   "outputs": [],
   "source": [
    "# metadata_file_path = r\"..\\data\\data_root\\building_metadata_clean.csv\"\n",
    "# metadata_df = pd.read_csv(metadata_file_path, index_col=False)\n",
    "# metadata_df.head(5)"
   ]
  },
  {
   "cell_type": "code",
   "execution_count": 152,
   "id": "1a21ff25-2ad8-4f87-a030-884e45b7d0c8",
   "metadata": {},
   "outputs": [
    {
     "data": {
      "text/html": [
       "<div>\n",
       "<style scoped>\n",
       "    .dataframe tbody tr th:only-of-type {\n",
       "        vertical-align: middle;\n",
       "    }\n",
       "\n",
       "    .dataframe tbody tr th {\n",
       "        vertical-align: top;\n",
       "    }\n",
       "\n",
       "    .dataframe thead th {\n",
       "        text-align: right;\n",
       "    }\n",
       "</style>\n",
       "<table border=\"1\" class=\"dataframe\">\n",
       "  <thead>\n",
       "    <tr style=\"text-align: right;\">\n",
       "      <th></th>\n",
       "      <th>label</th>\n",
       "      <th>index</th>\n",
       "    </tr>\n",
       "  </thead>\n",
       "  <tbody>\n",
       "    <tr>\n",
       "      <th>0</th>\n",
       "      <td>1</td>\n",
       "      <td>2099613</td>\n",
       "    </tr>\n",
       "    <tr>\n",
       "      <th>1</th>\n",
       "      <td>0</td>\n",
       "      <td>2099660</td>\n",
       "    </tr>\n",
       "    <tr>\n",
       "      <th>2</th>\n",
       "      <td>1</td>\n",
       "      <td>2099662</td>\n",
       "    </tr>\n",
       "    <tr>\n",
       "      <th>3</th>\n",
       "      <td>0</td>\n",
       "      <td>2099672</td>\n",
       "    </tr>\n",
       "    <tr>\n",
       "      <th>4</th>\n",
       "      <td>1</td>\n",
       "      <td>2099676</td>\n",
       "    </tr>\n",
       "    <tr>\n",
       "      <th>...</th>\n",
       "      <td>...</td>\n",
       "      <td>...</td>\n",
       "    </tr>\n",
       "    <tr>\n",
       "      <th>2217</th>\n",
       "      <td>0</td>\n",
       "      <td>2125011</td>\n",
       "    </tr>\n",
       "    <tr>\n",
       "      <th>2218</th>\n",
       "      <td>1</td>\n",
       "      <td>2125019</td>\n",
       "    </tr>\n",
       "    <tr>\n",
       "      <th>2219</th>\n",
       "      <td>1</td>\n",
       "      <td>2125023</td>\n",
       "    </tr>\n",
       "    <tr>\n",
       "      <th>2220</th>\n",
       "      <td>1</td>\n",
       "      <td>2125025</td>\n",
       "    </tr>\n",
       "    <tr>\n",
       "      <th>2221</th>\n",
       "      <td>1</td>\n",
       "      <td>2125030</td>\n",
       "    </tr>\n",
       "  </tbody>\n",
       "</table>\n",
       "<p>2222 rows × 2 columns</p>\n",
       "</div>"
      ],
      "text/plain": [
       "     label    index\n",
       "0        1  2099613\n",
       "1        0  2099660\n",
       "2        1  2099662\n",
       "3        0  2099672\n",
       "4        1  2099676\n",
       "...    ...      ...\n",
       "2217     0  2125011\n",
       "2218     1  2125019\n",
       "2219     1  2125023\n",
       "2220     1  2125025\n",
       "2221     1  2125030\n",
       "\n",
       "[2222 rows x 2 columns]"
      ]
     },
     "execution_count": 152,
     "metadata": {},
     "output_type": "execute_result"
    }
   ],
   "source": [
    "df_center_index"
   ]
  },
  {
   "cell_type": "code",
   "execution_count": 153,
   "id": "74f37765-2f6c-4508-857d-46c27d6b098e",
   "metadata": {},
   "outputs": [
    {
     "name": "stdout",
     "output_type": "stream",
     "text": [
      "(2222, 2) (2222, 8)\n"
     ]
    },
    {
     "data": {
      "text/html": [
       "<div>\n",
       "<style scoped>\n",
       "    .dataframe tbody tr th:only-of-type {\n",
       "        vertical-align: middle;\n",
       "    }\n",
       "\n",
       "    .dataframe tbody tr th {\n",
       "        vertical-align: top;\n",
       "    }\n",
       "\n",
       "    .dataframe thead th {\n",
       "        text-align: right;\n",
       "    }\n",
       "</style>\n",
       "<table border=\"1\" class=\"dataframe\">\n",
       "  <thead>\n",
       "    <tr style=\"text-align: right;\">\n",
       "      <th></th>\n",
       "      <th>label</th>\n",
       "      <th>index</th>\n",
       "      <th>OBJECTID</th>\n",
       "      <th>vintage</th>\n",
       "      <th>idf.kw</th>\n",
       "      <th>FootprintArea.m2</th>\n",
       "      <th>building.area.m2</th>\n",
       "      <th>HEIGHT</th>\n",
       "    </tr>\n",
       "  </thead>\n",
       "  <tbody>\n",
       "    <tr>\n",
       "      <th>0</th>\n",
       "      <td>1</td>\n",
       "      <td>2099613</td>\n",
       "      <td>2099613</td>\n",
       "      <td>1981-2008 (2004)</td>\n",
       "      <td>MultiFamily-2004</td>\n",
       "      <td>267.290895</td>\n",
       "      <td>306.3842</td>\n",
       "      <td>32.07</td>\n",
       "    </tr>\n",
       "    <tr>\n",
       "      <th>1</th>\n",
       "      <td>0</td>\n",
       "      <td>2099660</td>\n",
       "      <td>2099660</td>\n",
       "      <td>before 1980</td>\n",
       "      <td>MultiFamily-pre-1980</td>\n",
       "      <td>109.213268</td>\n",
       "      <td>218.5937</td>\n",
       "      <td>23.86</td>\n",
       "    </tr>\n",
       "    <tr>\n",
       "      <th>2</th>\n",
       "      <td>1</td>\n",
       "      <td>2099662</td>\n",
       "      <td>2099662</td>\n",
       "      <td>before 1980</td>\n",
       "      <td>MultiFamily-pre-1980</td>\n",
       "      <td>226.084950</td>\n",
       "      <td>392.9670</td>\n",
       "      <td>23.16</td>\n",
       "    </tr>\n",
       "    <tr>\n",
       "      <th>3</th>\n",
       "      <td>0</td>\n",
       "      <td>2099672</td>\n",
       "      <td>2099672</td>\n",
       "      <td>before 1980</td>\n",
       "      <td>MultiFamily-pre-1980</td>\n",
       "      <td>130.993449</td>\n",
       "      <td>196.7622</td>\n",
       "      <td>27.22</td>\n",
       "    </tr>\n",
       "    <tr>\n",
       "      <th>4</th>\n",
       "      <td>1</td>\n",
       "      <td>2099676</td>\n",
       "      <td>2099676</td>\n",
       "      <td>before 1980</td>\n",
       "      <td>MultiFamily-pre-1980</td>\n",
       "      <td>108.671482</td>\n",
       "      <td>155.1430</td>\n",
       "      <td>17.65</td>\n",
       "    </tr>\n",
       "    <tr>\n",
       "      <th>...</th>\n",
       "      <td>...</td>\n",
       "      <td>...</td>\n",
       "      <td>...</td>\n",
       "      <td>...</td>\n",
       "      <td>...</td>\n",
       "      <td>...</td>\n",
       "      <td>...</td>\n",
       "      <td>...</td>\n",
       "    </tr>\n",
       "    <tr>\n",
       "      <th>2217</th>\n",
       "      <td>0</td>\n",
       "      <td>2125011</td>\n",
       "      <td>2125011</td>\n",
       "      <td>1981-2008 (2004)</td>\n",
       "      <td>MultiFamily-2004</td>\n",
       "      <td>387.904000</td>\n",
       "      <td>521.7264</td>\n",
       "      <td>NaN</td>\n",
       "    </tr>\n",
       "    <tr>\n",
       "      <th>2218</th>\n",
       "      <td>1</td>\n",
       "      <td>2125019</td>\n",
       "      <td>2125019</td>\n",
       "      <td>before 1980</td>\n",
       "      <td>MultiFamily-pre-1980</td>\n",
       "      <td>334.785458</td>\n",
       "      <td>470.1669</td>\n",
       "      <td>NaN</td>\n",
       "    </tr>\n",
       "    <tr>\n",
       "      <th>2219</th>\n",
       "      <td>1</td>\n",
       "      <td>2125023</td>\n",
       "      <td>2125023</td>\n",
       "      <td>1981-2008 (2004)</td>\n",
       "      <td>MultiFamily-2004</td>\n",
       "      <td>339.881529</td>\n",
       "      <td>493.1132</td>\n",
       "      <td>NaN</td>\n",
       "    </tr>\n",
       "    <tr>\n",
       "      <th>2220</th>\n",
       "      <td>1</td>\n",
       "      <td>2125025</td>\n",
       "      <td>2125025</td>\n",
       "      <td>before 1980</td>\n",
       "      <td>MultiFamily-pre-1980</td>\n",
       "      <td>90.716628</td>\n",
       "      <td>601.4346</td>\n",
       "      <td>12.33</td>\n",
       "    </tr>\n",
       "    <tr>\n",
       "      <th>2221</th>\n",
       "      <td>1</td>\n",
       "      <td>2125030</td>\n",
       "      <td>2125030</td>\n",
       "      <td>before 1980</td>\n",
       "      <td>MultiFamily-pre-1980</td>\n",
       "      <td>106.888449</td>\n",
       "      <td>125.6937</td>\n",
       "      <td>18.96</td>\n",
       "    </tr>\n",
       "  </tbody>\n",
       "</table>\n",
       "<p>2222 rows × 8 columns</p>\n",
       "</div>"
      ],
      "text/plain": [
       "     label    index  OBJECTID           vintage                idf.kw  \\\n",
       "0        1  2099613   2099613  1981-2008 (2004)      MultiFamily-2004   \n",
       "1        0  2099660   2099660       before 1980  MultiFamily-pre-1980   \n",
       "2        1  2099662   2099662       before 1980  MultiFamily-pre-1980   \n",
       "3        0  2099672   2099672       before 1980  MultiFamily-pre-1980   \n",
       "4        1  2099676   2099676       before 1980  MultiFamily-pre-1980   \n",
       "...    ...      ...       ...               ...                   ...   \n",
       "2217     0  2125011   2125011  1981-2008 (2004)      MultiFamily-2004   \n",
       "2218     1  2125019   2125019       before 1980  MultiFamily-pre-1980   \n",
       "2219     1  2125023   2125023  1981-2008 (2004)      MultiFamily-2004   \n",
       "2220     1  2125025   2125025       before 1980  MultiFamily-pre-1980   \n",
       "2221     1  2125030   2125030       before 1980  MultiFamily-pre-1980   \n",
       "\n",
       "      FootprintArea.m2  building.area.m2  HEIGHT  \n",
       "0           267.290895          306.3842   32.07  \n",
       "1           109.213268          218.5937   23.86  \n",
       "2           226.084950          392.9670   23.16  \n",
       "3           130.993449          196.7622   27.22  \n",
       "4           108.671482          155.1430   17.65  \n",
       "...                ...               ...     ...  \n",
       "2217        387.904000          521.7264     NaN  \n",
       "2218        334.785458          470.1669     NaN  \n",
       "2219        339.881529          493.1132     NaN  \n",
       "2220         90.716628          601.4346   12.33  \n",
       "2221        106.888449          125.6937   18.96  \n",
       "\n",
       "[2222 rows x 8 columns]"
      ]
     },
     "execution_count": 153,
     "metadata": {},
     "output_type": "execute_result"
    }
   ],
   "source": [
    "merged_df = pd.merge(df_center_index, metadata_df, left_on='index', right_on = 'OBJECTID', how='inner')\n",
    "print(df_center_index.shape, merged_df.shape)\n",
    "merged_df"
   ]
  },
  {
   "cell_type": "code",
   "execution_count": 154,
   "id": "b97c940a-ec08-43b9-9a1b-cc11018156ca",
   "metadata": {},
   "outputs": [
    {
     "data": {
      "text/html": [
       "<div>\n",
       "<style scoped>\n",
       "    .dataframe tbody tr th:only-of-type {\n",
       "        vertical-align: middle;\n",
       "    }\n",
       "\n",
       "    .dataframe tbody tr th {\n",
       "        vertical-align: top;\n",
       "    }\n",
       "\n",
       "    .dataframe thead th {\n",
       "        text-align: right;\n",
       "    }\n",
       "</style>\n",
       "<table border=\"1\" class=\"dataframe\">\n",
       "  <thead>\n",
       "    <tr style=\"text-align: right;\">\n",
       "      <th></th>\n",
       "      <th>idf.kw</th>\n",
       "      <th>building.area.m2</th>\n",
       "    </tr>\n",
       "  </thead>\n",
       "  <tbody>\n",
       "    <tr>\n",
       "      <th>0</th>\n",
       "      <td>MultiFamily-2004</td>\n",
       "      <td>215520.1035</td>\n",
       "    </tr>\n",
       "    <tr>\n",
       "      <th>1</th>\n",
       "      <td>MultiFamily-2013</td>\n",
       "      <td>7238.9538</td>\n",
       "    </tr>\n",
       "    <tr>\n",
       "      <th>2</th>\n",
       "      <td>MultiFamily-pre-1980</td>\n",
       "      <td>657027.8180</td>\n",
       "    </tr>\n",
       "  </tbody>\n",
       "</table>\n",
       "</div>"
      ],
      "text/plain": [
       "                 idf.kw  building.area.m2\n",
       "0      MultiFamily-2004       215520.1035\n",
       "1      MultiFamily-2013         7238.9538\n",
       "2  MultiFamily-pre-1980       657027.8180"
      ]
     },
     "execution_count": 154,
     "metadata": {},
     "output_type": "execute_result"
    }
   ],
   "source": [
    "grouped_df_lab = merged_df.groupby('idf.kw')['building.area.m2'].sum().reset_index()\n",
    "grouped_df_lab.to_csv(f\"kmeans_5_cluster/MARL_{curr_data}_{cluster_count}cluster_area_aggregation_lab.csv\")\n",
    "grouped_df_lab"
   ]
  },
  {
   "cell_type": "code",
   "execution_count": 155,
   "id": "7115e06e-0f23-44a9-9c2d-c6c04603adb4",
   "metadata": {},
   "outputs": [
    {
     "data": {
      "text/html": [
       "<div>\n",
       "<style scoped>\n",
       "    .dataframe tbody tr th:only-of-type {\n",
       "        vertical-align: middle;\n",
       "    }\n",
       "\n",
       "    .dataframe tbody tr th {\n",
       "        vertical-align: top;\n",
       "    }\n",
       "\n",
       "    .dataframe thead th {\n",
       "        text-align: right;\n",
       "    }\n",
       "</style>\n",
       "<table border=\"1\" class=\"dataframe\">\n",
       "  <thead>\n",
       "    <tr style=\"text-align: right;\">\n",
       "      <th></th>\n",
       "      <th>label</th>\n",
       "      <th>building.area.m2</th>\n",
       "      <th>index_png</th>\n",
       "    </tr>\n",
       "  </thead>\n",
       "  <tbody>\n",
       "    <tr>\n",
       "      <th>0</th>\n",
       "      <td>0</td>\n",
       "      <td>322125.6405</td>\n",
       "      <td>2114900</td>\n",
       "    </tr>\n",
       "    <tr>\n",
       "      <th>1</th>\n",
       "      <td>1</td>\n",
       "      <td>557661.2348</td>\n",
       "      <td>2102127</td>\n",
       "    </tr>\n",
       "  </tbody>\n",
       "</table>\n",
       "</div>"
      ],
      "text/plain": [
       "  label  building.area.m2  index_png\n",
       "0     0       322125.6405    2114900\n",
       "1     1       557661.2348    2102127"
      ]
     },
     "execution_count": 155,
     "metadata": {},
     "output_type": "execute_result"
    }
   ],
   "source": [
    "grouped_df = merged_df.groupby('label')['building.area.m2'].sum().reset_index()\n",
    "grouped_df['index_png'] = df_center['index_png']\n",
    "grouped_df.to_csv(f\"kmeans_5_cluster/MARL_{curr_data}_{cluster_count}cluster_area_aggregation.csv\")\n",
    "grouped_df"
   ]
  },
  {
   "cell_type": "code",
   "execution_count": 156,
   "id": "2ee4e531-18f1-48bd-8daf-a14c1664a043",
   "metadata": {},
   "outputs": [
    {
     "name": "stdout",
     "output_type": "stream",
     "text": [
      "80\n"
     ]
    },
    {
     "data": {
      "text/html": [
       "<div>\n",
       "<style scoped>\n",
       "    .dataframe tbody tr th:only-of-type {\n",
       "        vertical-align: middle;\n",
       "    }\n",
       "\n",
       "    .dataframe tbody tr th {\n",
       "        vertical-align: top;\n",
       "    }\n",
       "\n",
       "    .dataframe thead th {\n",
       "        text-align: right;\n",
       "    }\n",
       "</style>\n",
       "<table border=\"1\" class=\"dataframe\">\n",
       "  <thead>\n",
       "    <tr style=\"text-align: right;\">\n",
       "      <th></th>\n",
       "      <th>OBJECTID</th>\n",
       "      <th>BLD_ID</th>\n",
       "      <th>YearBuilt1</th>\n",
       "      <th>HEIGHT</th>\n",
       "      <th>footprint</th>\n",
       "      <th>UseType</th>\n",
       "      <th>UseDescription</th>\n",
       "      <th>Shape_Area_1</th>\n",
       "      <th>geometry</th>\n",
       "    </tr>\n",
       "  </thead>\n",
       "  <tbody>\n",
       "    <tr>\n",
       "      <th>0</th>\n",
       "      <td>2099602</td>\n",
       "      <td>447500864349</td>\n",
       "      <td>1924</td>\n",
       "      <td>29.50</td>\n",
       "      <td>2587.0</td>\n",
       "      <td>Residential</td>\n",
       "      <td>Single</td>\n",
       "      <td>18764.323200</td>\n",
       "      <td>MULTIPOLYGON (((-118.37715 34.11478, -118.3771...</td>\n",
       "    </tr>\n",
       "    <tr>\n",
       "      <th>1</th>\n",
       "      <td>2099603</td>\n",
       "      <td>445742863736</td>\n",
       "      <td>1958</td>\n",
       "      <td>10.06</td>\n",
       "      <td>207.0</td>\n",
       "      <td>Residential</td>\n",
       "      <td>Single</td>\n",
       "      <td>5069.782400</td>\n",
       "      <td>MULTIPOLYGON (((-118.38298 34.11306, -118.3829...</td>\n",
       "    </tr>\n",
       "    <tr>\n",
       "      <th>2</th>\n",
       "      <td>2099604</td>\n",
       "      <td>429194854130</td>\n",
       "      <td>2005</td>\n",
       "      <td>13.85</td>\n",
       "      <td>240.0</td>\n",
       "      <td>Residential</td>\n",
       "      <td>Single</td>\n",
       "      <td>76094.619746</td>\n",
       "      <td>MULTIPOLYGON (((-118.43756 34.08644, -118.4375...</td>\n",
       "    </tr>\n",
       "    <tr>\n",
       "      <th>3</th>\n",
       "      <td>2099605</td>\n",
       "      <td>440298873895</td>\n",
       "      <td>1935</td>\n",
       "      <td>17.05</td>\n",
       "      <td>418.0</td>\n",
       "      <td>Residential</td>\n",
       "      <td>Single</td>\n",
       "      <td>7180.293700</td>\n",
       "      <td>MULTIPOLYGON (((-118.40113 34.14093, -118.4010...</td>\n",
       "    </tr>\n",
       "    <tr>\n",
       "      <th>4</th>\n",
       "      <td>2099606</td>\n",
       "      <td>424955848010</td>\n",
       "      <td>1958</td>\n",
       "      <td>47.86</td>\n",
       "      <td>6354.0</td>\n",
       "      <td>Residential</td>\n",
       "      <td>Five or more apartments</td>\n",
       "      <td>9151.113050</td>\n",
       "      <td>MULTIPOLYGON (((-118.45126 34.06980, -118.4511...</td>\n",
       "    </tr>\n",
       "    <tr>\n",
       "      <th>...</th>\n",
       "      <td>...</td>\n",
       "      <td>...</td>\n",
       "      <td>...</td>\n",
       "      <td>...</td>\n",
       "      <td>...</td>\n",
       "      <td>...</td>\n",
       "      <td>...</td>\n",
       "      <td>...</td>\n",
       "      <td>...</td>\n",
       "    </tr>\n",
       "    <tr>\n",
       "      <th>22606</th>\n",
       "      <td>2125025</td>\n",
       "      <td>451788876326</td>\n",
       "      <td>1947</td>\n",
       "      <td>30.10</td>\n",
       "      <td>2006.0</td>\n",
       "      <td>Residential</td>\n",
       "      <td>Five or more apartments</td>\n",
       "      <td>9030.224800</td>\n",
       "      <td>MULTIPOLYGON (((-118.36313 34.14776, -118.3631...</td>\n",
       "    </tr>\n",
       "    <tr>\n",
       "      <th>22607</th>\n",
       "      <td>2125026</td>\n",
       "      <td>456350876704</td>\n",
       "      <td>1942</td>\n",
       "      <td>19.74</td>\n",
       "      <td>29.0</td>\n",
       "      <td>Residential</td>\n",
       "      <td>Single</td>\n",
       "      <td>13439.991989</td>\n",
       "      <td>MULTIPOLYGON (((-118.34810 34.14879, -118.3480...</td>\n",
       "    </tr>\n",
       "    <tr>\n",
       "      <th>22608</th>\n",
       "      <td>2125028</td>\n",
       "      <td>414858872688</td>\n",
       "      <td>1987</td>\n",
       "      <td>27.65</td>\n",
       "      <td>3119.0</td>\n",
       "      <td>Residential</td>\n",
       "      <td>Single</td>\n",
       "      <td>106077.072479</td>\n",
       "      <td>MULTIPOLYGON (((-118.48515 34.13733, -118.4850...</td>\n",
       "    </tr>\n",
       "    <tr>\n",
       "      <th>22609</th>\n",
       "      <td>2125029</td>\n",
       "      <td>415737872267</td>\n",
       "      <td>1956</td>\n",
       "      <td>18.09</td>\n",
       "      <td>4711.0</td>\n",
       "      <td>Residential</td>\n",
       "      <td>Single</td>\n",
       "      <td>11411.964650</td>\n",
       "      <td>MULTIPOLYGON (((-118.48227 34.13620, -118.4821...</td>\n",
       "    </tr>\n",
       "    <tr>\n",
       "      <th>22610</th>\n",
       "      <td>2125030</td>\n",
       "      <td>418350871898</td>\n",
       "      <td>1959</td>\n",
       "      <td>13.97</td>\n",
       "      <td>4846.0</td>\n",
       "      <td>Residential</td>\n",
       "      <td>Single</td>\n",
       "      <td>16311.402500</td>\n",
       "      <td>MULTIPOLYGON (((-118.47363 34.13520, -118.4735...</td>\n",
       "    </tr>\n",
       "  </tbody>\n",
       "</table>\n",
       "<p>22611 rows × 9 columns</p>\n",
       "</div>"
      ],
      "text/plain": [
       "       OBJECTID        BLD_ID YearBuilt1  HEIGHT  footprint      UseType  \\\n",
       "0       2099602  447500864349       1924   29.50     2587.0  Residential   \n",
       "1       2099603  445742863736       1958   10.06      207.0  Residential   \n",
       "2       2099604  429194854130       2005   13.85      240.0  Residential   \n",
       "3       2099605  440298873895       1935   17.05      418.0  Residential   \n",
       "4       2099606  424955848010       1958   47.86     6354.0  Residential   \n",
       "...         ...           ...        ...     ...        ...          ...   \n",
       "22606   2125025  451788876326       1947   30.10     2006.0  Residential   \n",
       "22607   2125026  456350876704       1942   19.74       29.0  Residential   \n",
       "22608   2125028  414858872688       1987   27.65     3119.0  Residential   \n",
       "22609   2125029  415737872267       1956   18.09     4711.0  Residential   \n",
       "22610   2125030  418350871898       1959   13.97     4846.0  Residential   \n",
       "\n",
       "                UseDescription   Shape_Area_1  \\\n",
       "0                       Single   18764.323200   \n",
       "1                       Single    5069.782400   \n",
       "2                       Single   76094.619746   \n",
       "3                       Single    7180.293700   \n",
       "4      Five or more apartments    9151.113050   \n",
       "...                        ...            ...   \n",
       "22606  Five or more apartments    9030.224800   \n",
       "22607                   Single   13439.991989   \n",
       "22608                   Single  106077.072479   \n",
       "22609                   Single   11411.964650   \n",
       "22610                   Single   16311.402500   \n",
       "\n",
       "                                                geometry  \n",
       "0      MULTIPOLYGON (((-118.37715 34.11478, -118.3771...  \n",
       "1      MULTIPOLYGON (((-118.38298 34.11306, -118.3829...  \n",
       "2      MULTIPOLYGON (((-118.43756 34.08644, -118.4375...  \n",
       "3      MULTIPOLYGON (((-118.40113 34.14093, -118.4010...  \n",
       "4      MULTIPOLYGON (((-118.45126 34.06980, -118.4511...  \n",
       "...                                                  ...  \n",
       "22606  MULTIPOLYGON (((-118.36313 34.14776, -118.3631...  \n",
       "22607  MULTIPOLYGON (((-118.34810 34.14879, -118.3480...  \n",
       "22608  MULTIPOLYGON (((-118.48515 34.13733, -118.4850...  \n",
       "22609  MULTIPOLYGON (((-118.48227 34.13620, -118.4821...  \n",
       "22610  MULTIPOLYGON (((-118.47363 34.13520, -118.4735...  \n",
       "\n",
       "[22611 rows x 9 columns]"
      ]
     },
     "execution_count": 156,
     "metadata": {},
     "output_type": "execute_result"
    }
   ],
   "source": [
    "json_index = curr_data.split('_')[0].split('data')[1]\n",
    "print(json_index)\n",
    "json_df = gpd.read_file(f'../data/data_root/geojson_{json_index}.json', driver='GeoJSON')\n",
    "json_df = json_df[['OBJECTID','BLD_ID', 'YearBuilt1', 'HEIGHT', 'footprint', 'UseType', 'UseDescription', 'Shape_Area_1', 'geometry']]\n",
    "json_df"
   ]
  },
  {
   "cell_type": "code",
   "execution_count": 157,
   "id": "5df8c9f1-f68a-4c8f-847a-f122dfa9c52e",
   "metadata": {},
   "outputs": [
    {
     "data": {
      "text/html": [
       "<div>\n",
       "<style scoped>\n",
       "    .dataframe tbody tr th:only-of-type {\n",
       "        vertical-align: middle;\n",
       "    }\n",
       "\n",
       "    .dataframe tbody tr th {\n",
       "        vertical-align: top;\n",
       "    }\n",
       "\n",
       "    .dataframe thead th {\n",
       "        text-align: right;\n",
       "    }\n",
       "</style>\n",
       "<table border=\"1\" class=\"dataframe\">\n",
       "  <thead>\n",
       "    <tr style=\"text-align: right;\">\n",
       "      <th></th>\n",
       "      <th>Cluster Center</th>\n",
       "      <th>Closest Point Index</th>\n",
       "      <th>index_png</th>\n",
       "    </tr>\n",
       "  </thead>\n",
       "  <tbody>\n",
       "    <tr>\n",
       "      <th>0</th>\n",
       "      <td>[-3.2526065174565133e-19, -5.421010862427522e-...</td>\n",
       "      <td>2114900</td>\n",
       "      <td>2114900</td>\n",
       "    </tr>\n",
       "    <tr>\n",
       "      <th>1</th>\n",
       "      <td>[0.00043343319758263536, 0.000289819481468484,...</td>\n",
       "      <td>2102127</td>\n",
       "      <td>2102127</td>\n",
       "    </tr>\n",
       "  </tbody>\n",
       "</table>\n",
       "</div>"
      ],
      "text/plain": [
       "                                      Cluster Center  Closest Point Index  \\\n",
       "0  [-3.2526065174565133e-19, -5.421010862427522e-...              2114900   \n",
       "1  [0.00043343319758263536, 0.000289819481468484,...              2102127   \n",
       "\n",
       "   index_png  \n",
       "0    2114900  \n",
       "1    2102127  "
      ]
     },
     "execution_count": 157,
     "metadata": {},
     "output_type": "execute_result"
    }
   ],
   "source": [
    "df_center['Closest Point Index'] = num_indexes\n",
    "df_center"
   ]
  },
  {
   "cell_type": "code",
   "execution_count": 158,
   "id": "85db582e-2266-4eab-a755-bc8ff9321601",
   "metadata": {},
   "outputs": [
    {
     "data": {
      "text/html": [
       "<div>\n",
       "<style scoped>\n",
       "    .dataframe tbody tr th:only-of-type {\n",
       "        vertical-align: middle;\n",
       "    }\n",
       "\n",
       "    .dataframe tbody tr th {\n",
       "        vertical-align: top;\n",
       "    }\n",
       "\n",
       "    .dataframe thead th {\n",
       "        text-align: right;\n",
       "    }\n",
       "</style>\n",
       "<table border=\"1\" class=\"dataframe\">\n",
       "  <thead>\n",
       "    <tr style=\"text-align: right;\">\n",
       "      <th></th>\n",
       "      <th>Cluster Center</th>\n",
       "      <th>Closest Point Index</th>\n",
       "      <th>index_png</th>\n",
       "      <th>OBJECTID</th>\n",
       "      <th>BLD_ID</th>\n",
       "      <th>YearBuilt1</th>\n",
       "      <th>HEIGHT</th>\n",
       "      <th>footprint</th>\n",
       "      <th>UseType</th>\n",
       "      <th>UseDescription</th>\n",
       "      <th>Shape_Area_1</th>\n",
       "      <th>geometry</th>\n",
       "    </tr>\n",
       "  </thead>\n",
       "  <tbody>\n",
       "    <tr>\n",
       "      <th>0</th>\n",
       "      <td>[-3.2526065174565133e-19, -5.421010862427522e-...</td>\n",
       "      <td>2114900</td>\n",
       "      <td>2114900</td>\n",
       "      <td>2114900</td>\n",
       "      <td>440840839837</td>\n",
       "      <td>1948</td>\n",
       "      <td>15.32</td>\n",
       "      <td>433.0</td>\n",
       "      <td>Residential</td>\n",
       "      <td>Single</td>\n",
       "      <td>8290.935312</td>\n",
       "      <td>MULTIPOLYGON (((-118.39883 34.04733, -118.3988...</td>\n",
       "    </tr>\n",
       "    <tr>\n",
       "      <th>1</th>\n",
       "      <td>[0.00043343319758263536, 0.000289819481468484,...</td>\n",
       "      <td>2102127</td>\n",
       "      <td>2102127</td>\n",
       "      <td>2102127</td>\n",
       "      <td>439720843812</td>\n",
       "      <td>1936</td>\n",
       "      <td>29.49</td>\n",
       "      <td>2104.0</td>\n",
       "      <td>Residential</td>\n",
       "      <td>Single</td>\n",
       "      <td>7330.921950</td>\n",
       "      <td>MULTIPOLYGON (((-118.40271 34.05823, -118.4027...</td>\n",
       "    </tr>\n",
       "  </tbody>\n",
       "</table>\n",
       "</div>"
      ],
      "text/plain": [
       "                                      Cluster Center  Closest Point Index  \\\n",
       "0  [-3.2526065174565133e-19, -5.421010862427522e-...              2114900   \n",
       "1  [0.00043343319758263536, 0.000289819481468484,...              2102127   \n",
       "\n",
       "   index_png  OBJECTID        BLD_ID YearBuilt1  HEIGHT  footprint  \\\n",
       "0    2114900   2114900  440840839837       1948   15.32      433.0   \n",
       "1    2102127   2102127  439720843812       1936   29.49     2104.0   \n",
       "\n",
       "       UseType UseDescription  Shape_Area_1  \\\n",
       "0  Residential         Single   8290.935312   \n",
       "1  Residential         Single   7330.921950   \n",
       "\n",
       "                                            geometry  \n",
       "0  MULTIPOLYGON (((-118.39883 34.04733, -118.3988...  \n",
       "1  MULTIPOLYGON (((-118.40271 34.05823, -118.4027...  "
      ]
     },
     "execution_count": 158,
     "metadata": {},
     "output_type": "execute_result"
    }
   ],
   "source": [
    "center_metadata =  pd.merge(df_center, json_df, left_on='Closest Point Index', right_on = 'OBJECTID', how='inner')\n",
    "center_metadata"
   ]
  },
  {
   "cell_type": "code",
   "execution_count": 159,
   "id": "7bbd1d6a-da5f-44a9-8937-00254fd85a57",
   "metadata": {},
   "outputs": [],
   "source": [
    "center_metadata.to_csv(f\"kmeans_5_cluster/MARL_{curr_data}_{cluster_count}cluster_metadata.csv\")"
   ]
  },
  {
   "cell_type": "markdown",
   "id": "8f0c6a69-4ba3-4186-88db-09e24eaf998f",
   "metadata": {
    "jp-MarkdownHeadingCollapsed": true
   },
   "source": [
    "## recon the cluster center and export metadata"
   ]
  },
  {
   "cell_type": "code",
   "execution_count": 181,
   "id": "7a92872c-b473-49eb-bec9-ed07c0657e65",
   "metadata": {},
   "outputs": [
    {
     "data": {
      "text/plain": [
       "(5, 25088)"
      ]
     },
     "execution_count": 181,
     "metadata": {},
     "output_type": "execute_result"
    }
   ],
   "source": [
    "kmeans.cluster_centers_.shape"
   ]
  },
  {
   "cell_type": "markdown",
   "id": "98cd0d3f-e8db-4f4f-8d94-0c0b2617231e",
   "metadata": {},
   "source": [
    "(82, 3, 112, 112) -> "
   ]
  },
  {
   "cell_type": "code",
   "execution_count": 209,
   "id": "5b01deac-5c48-411f-ba03-4b64febcb173",
   "metadata": {},
   "outputs": [],
   "source": [
    "latent_centers = torch.from_numpy(kmeans.cluster_centers_.reshape(n_clusters, 32, 28, 28).astype('float32')).to(device)\n",
    "\n",
    "# def show(img, title):\n",
    "#     npimg = img.numpy()\n",
    "#     fig = plt.imshow(np.transpose(npimg, (1,2,0)), interpolation='nearest')\n",
    "#     fig.axes.get_xaxis().set_visible(False)\n",
    "#     fig.axes.get_yaxis().set_visible(False)\n",
    "#     fig.axes.set_title(title)\n",
    "# plt.figure()  # Create a new plot\n",
    "# show(torchvision.utils.make_grid(valid_recon.cpu().data) + 0.5, \"VQ-VAE Reconstructed\")\n",
    "# plt.savefig(f\"{n_clusters}_VQrecon.png\", bbox_inches='tight')"
   ]
  },
  {
   "cell_type": "code",
   "execution_count": 221,
   "id": "5b3aee75-64ec-405f-87a2-a001f1bd8ccd",
   "metadata": {},
   "outputs": [
    {
     "name": "stderr",
     "output_type": "stream",
     "text": [
      "Clipping input data to the valid range for imshow with RGB data ([0..1] for floats or [0..255] for integers).\n"
     ]
    },
    {
     "data": {
      "image/png": "[encoded data removed]",
      "text/plain": [
       "<Figure size 640x480 with 1 Axes>"
      ]
     },
     "metadata": {},
     "output_type": "display_data"
    }
   ],
   "source": [
    "latent = vqae.pre_quantization_conv(latent_centers)\n",
    "embedding_loss, latent, perplexity, _ = vqae.vector_quantization(latent)\n",
    "x_hat = vqae.decoder(latent)\n",
    "def show(img, title):\n",
    "    npimg = img.numpy()\n",
    "    fig = plt.imshow(np.transpose(npimg, (1,2,0)), interpolation='nearest')\n",
    "    fig.axes.get_xaxis().set_visible(False)\n",
    "    fig.axes.get_yaxis().set_visible(False)\n",
    "    fig.axes.set_title(title)\n",
    "plt.figure()  # Create a new plot\n",
    "show(torchvision.utils.make_grid(x_hat.cpu().data) + 0.5, \"VQ-VAE Reconstructed\")\n",
    "plt.savefig(f\"../results/recon_img/MARL_{curr_data}_{cluster_count}cluster_center_recon.png\", bbox_inches='tight')"
   ]
  },
  {
   "cell_type": "code",
   "execution_count": 207,
   "id": "c3a84447-d734-4a16-bb38-8c5d3cb308f6",
   "metadata": {},
   "outputs": [
    {
     "data": {
      "text/plain": [
       "torch.Size([5, 64, 28, 28])"
      ]
     },
     "execution_count": 207,
     "metadata": {},
     "output_type": "execute_result"
    }
   ],
   "source": [
    "latent.shape"
   ]
  },
  {
   "cell_type": "code",
   "execution_count": 203,
   "id": "be436d6e-e3e2-4266-b10e-d06f86eb8833",
   "metadata": {},
   "outputs": [
    {
     "data": {
      "text/plain": [
       "torch.Size([5, 64, 28, 28])"
      ]
     },
     "execution_count": 203,
     "metadata": {},
     "output_type": "execute_result"
    }
   ],
   "source": [
    "valid_recon = vqae.pre_quantization_conv(latent_centers)\n",
    "valid_recon.shape"
   ]
  },
  {
   "cell_type": "code",
   "execution_count": 201,
   "id": "d8f1ff9c-8d34-4f77-a062-8cb8149f2fd3",
   "metadata": {},
   "outputs": [
    {
     "data": {
      "text/plain": [
       "torch.Size([1960, 218])"
      ]
     },
     "execution_count": 201,
     "metadata": {},
     "output_type": "execute_result"
    }
   ],
   "source": [
    "valid_recon[3].shape"
   ]
  },
  {
   "cell_type": "code",
   "execution_count": 191,
   "id": "2f498b55-0bf4-414e-bf2d-457364c97dca",
   "metadata": {},
   "outputs": [
    {
     "ename": "RuntimeError",
     "evalue": "Given transposed=1, weight of size [64, 32, 3, 3], expected input[5, 32, 28, 28] to have 64 channels, but got 32 channels instead",
     "output_type": "error",
     "traceback": [
      "\u001b[1;31m---------------------------------------------------------------------------\u001b[0m",
      "\u001b[1;31mRuntimeError\u001b[0m                              Traceback (most recent call last)",
      "Cell \u001b[1;32mIn[191], line 3\u001b[0m\n\u001b[0;32m      1\u001b[0m latent_centers \u001b[38;5;241m=\u001b[39m torch\u001b[38;5;241m.\u001b[39mfrom_numpy(kmeans\u001b[38;5;241m.\u001b[39mcluster_centers_\u001b[38;5;241m.\u001b[39mreshape(n_clusters, \u001b[38;5;241m32\u001b[39m, \u001b[38;5;241m28\u001b[39m, \u001b[38;5;241m28\u001b[39m)\u001b[38;5;241m.\u001b[39mastype(\u001b[38;5;124m'\u001b[39m\u001b[38;5;124mfloat32\u001b[39m\u001b[38;5;124m'\u001b[39m))\u001b[38;5;241m.\u001b[39mto(device)\n\u001b[1;32m----> 3\u001b[0m valid_recon \u001b[38;5;241m=\u001b[39m \u001b[43mvqae\u001b[49m\u001b[38;5;241;43m.\u001b[39;49m\u001b[43mdecoder\u001b[49m\u001b[43m(\u001b[49m\u001b[43mlatent_centers\u001b[49m\u001b[43m)\u001b[49m\n\u001b[0;32m      4\u001b[0m valid_recon\n",
      "File \u001b[1;32m~\\miniconda3\\lib\\site-packages\\torch\\nn\\modules\\module.py:1501\u001b[0m, in \u001b[0;36mModule._call_impl\u001b[1;34m(self, *args, **kwargs)\u001b[0m\n\u001b[0;32m   1496\u001b[0m \u001b[38;5;66;03m# If we don't have any hooks, we want to skip the rest of the logic in\u001b[39;00m\n\u001b[0;32m   1497\u001b[0m \u001b[38;5;66;03m# this function, and just call forward.\u001b[39;00m\n\u001b[0;32m   1498\u001b[0m \u001b[38;5;28;01mif\u001b[39;00m \u001b[38;5;129;01mnot\u001b[39;00m (\u001b[38;5;28mself\u001b[39m\u001b[38;5;241m.\u001b[39m_backward_hooks \u001b[38;5;129;01mor\u001b[39;00m \u001b[38;5;28mself\u001b[39m\u001b[38;5;241m.\u001b[39m_backward_pre_hooks \u001b[38;5;129;01mor\u001b[39;00m \u001b[38;5;28mself\u001b[39m\u001b[38;5;241m.\u001b[39m_forward_hooks \u001b[38;5;129;01mor\u001b[39;00m \u001b[38;5;28mself\u001b[39m\u001b[38;5;241m.\u001b[39m_forward_pre_hooks\n\u001b[0;32m   1499\u001b[0m         \u001b[38;5;129;01mor\u001b[39;00m _global_backward_pre_hooks \u001b[38;5;129;01mor\u001b[39;00m _global_backward_hooks\n\u001b[0;32m   1500\u001b[0m         \u001b[38;5;129;01mor\u001b[39;00m _global_forward_hooks \u001b[38;5;129;01mor\u001b[39;00m _global_forward_pre_hooks):\n\u001b[1;32m-> 1501\u001b[0m     \u001b[38;5;28;01mreturn\u001b[39;00m forward_call(\u001b[38;5;241m*\u001b[39margs, \u001b[38;5;241m*\u001b[39m\u001b[38;5;241m*\u001b[39mkwargs)\n\u001b[0;32m   1502\u001b[0m \u001b[38;5;66;03m# Do not call functions when jit is used\u001b[39;00m\n\u001b[0;32m   1503\u001b[0m full_backward_hooks, non_full_backward_hooks \u001b[38;5;241m=\u001b[39m [], []\n",
      "File \u001b[1;32m~\\Energy Technologies Dropbox\\Xinwei Zhuang\\xinwei_zhuang@berkeley.edu’s files\\archtype_LA\\github\\notebooks\\..\\model\\AutoEncoder.py:48\u001b[0m, in \u001b[0;36mDecoder.forward\u001b[1;34m(self, x)\u001b[0m\n\u001b[0;32m     47\u001b[0m \u001b[38;5;28;01mdef\u001b[39;00m \u001b[38;5;21mforward\u001b[39m(\u001b[38;5;28mself\u001b[39m, x):\n\u001b[1;32m---> 48\u001b[0m     \u001b[38;5;28;01mreturn\u001b[39;00m \u001b[38;5;28;43mself\u001b[39;49m\u001b[38;5;241;43m.\u001b[39;49m\u001b[43minverse_conv_stack\u001b[49m\u001b[43m(\u001b[49m\u001b[43mx\u001b[49m\u001b[43m)\u001b[49m\n",
      "File \u001b[1;32m~\\miniconda3\\lib\\site-packages\\torch\\nn\\modules\\module.py:1501\u001b[0m, in \u001b[0;36mModule._call_impl\u001b[1;34m(self, *args, **kwargs)\u001b[0m\n\u001b[0;32m   1496\u001b[0m \u001b[38;5;66;03m# If we don't have any hooks, we want to skip the rest of the logic in\u001b[39;00m\n\u001b[0;32m   1497\u001b[0m \u001b[38;5;66;03m# this function, and just call forward.\u001b[39;00m\n\u001b[0;32m   1498\u001b[0m \u001b[38;5;28;01mif\u001b[39;00m \u001b[38;5;129;01mnot\u001b[39;00m (\u001b[38;5;28mself\u001b[39m\u001b[38;5;241m.\u001b[39m_backward_hooks \u001b[38;5;129;01mor\u001b[39;00m \u001b[38;5;28mself\u001b[39m\u001b[38;5;241m.\u001b[39m_backward_pre_hooks \u001b[38;5;129;01mor\u001b[39;00m \u001b[38;5;28mself\u001b[39m\u001b[38;5;241m.\u001b[39m_forward_hooks \u001b[38;5;129;01mor\u001b[39;00m \u001b[38;5;28mself\u001b[39m\u001b[38;5;241m.\u001b[39m_forward_pre_hooks\n\u001b[0;32m   1499\u001b[0m         \u001b[38;5;129;01mor\u001b[39;00m _global_backward_pre_hooks \u001b[38;5;129;01mor\u001b[39;00m _global_backward_hooks\n\u001b[0;32m   1500\u001b[0m         \u001b[38;5;129;01mor\u001b[39;00m _global_forward_hooks \u001b[38;5;129;01mor\u001b[39;00m _global_forward_pre_hooks):\n\u001b[1;32m-> 1501\u001b[0m     \u001b[38;5;28;01mreturn\u001b[39;00m forward_call(\u001b[38;5;241m*\u001b[39margs, \u001b[38;5;241m*\u001b[39m\u001b[38;5;241m*\u001b[39mkwargs)\n\u001b[0;32m   1502\u001b[0m \u001b[38;5;66;03m# Do not call functions when jit is used\u001b[39;00m\n\u001b[0;32m   1503\u001b[0m full_backward_hooks, non_full_backward_hooks \u001b[38;5;241m=\u001b[39m [], []\n",
      "File \u001b[1;32m~\\miniconda3\\lib\\site-packages\\torch\\nn\\modules\\container.py:217\u001b[0m, in \u001b[0;36mSequential.forward\u001b[1;34m(self, input)\u001b[0m\n\u001b[0;32m    215\u001b[0m \u001b[38;5;28;01mdef\u001b[39;00m \u001b[38;5;21mforward\u001b[39m(\u001b[38;5;28mself\u001b[39m, \u001b[38;5;28minput\u001b[39m):\n\u001b[0;32m    216\u001b[0m     \u001b[38;5;28;01mfor\u001b[39;00m module \u001b[38;5;129;01min\u001b[39;00m \u001b[38;5;28mself\u001b[39m:\n\u001b[1;32m--> 217\u001b[0m         \u001b[38;5;28minput\u001b[39m \u001b[38;5;241m=\u001b[39m \u001b[43mmodule\u001b[49m\u001b[43m(\u001b[49m\u001b[38;5;28;43minput\u001b[39;49m\u001b[43m)\u001b[49m\n\u001b[0;32m    218\u001b[0m     \u001b[38;5;28;01mreturn\u001b[39;00m \u001b[38;5;28minput\u001b[39m\n",
      "File \u001b[1;32m~\\miniconda3\\lib\\site-packages\\torch\\nn\\modules\\module.py:1501\u001b[0m, in \u001b[0;36mModule._call_impl\u001b[1;34m(self, *args, **kwargs)\u001b[0m\n\u001b[0;32m   1496\u001b[0m \u001b[38;5;66;03m# If we don't have any hooks, we want to skip the rest of the logic in\u001b[39;00m\n\u001b[0;32m   1497\u001b[0m \u001b[38;5;66;03m# this function, and just call forward.\u001b[39;00m\n\u001b[0;32m   1498\u001b[0m \u001b[38;5;28;01mif\u001b[39;00m \u001b[38;5;129;01mnot\u001b[39;00m (\u001b[38;5;28mself\u001b[39m\u001b[38;5;241m.\u001b[39m_backward_hooks \u001b[38;5;129;01mor\u001b[39;00m \u001b[38;5;28mself\u001b[39m\u001b[38;5;241m.\u001b[39m_backward_pre_hooks \u001b[38;5;129;01mor\u001b[39;00m \u001b[38;5;28mself\u001b[39m\u001b[38;5;241m.\u001b[39m_forward_hooks \u001b[38;5;129;01mor\u001b[39;00m \u001b[38;5;28mself\u001b[39m\u001b[38;5;241m.\u001b[39m_forward_pre_hooks\n\u001b[0;32m   1499\u001b[0m         \u001b[38;5;129;01mor\u001b[39;00m _global_backward_pre_hooks \u001b[38;5;129;01mor\u001b[39;00m _global_backward_hooks\n\u001b[0;32m   1500\u001b[0m         \u001b[38;5;129;01mor\u001b[39;00m _global_forward_hooks \u001b[38;5;129;01mor\u001b[39;00m _global_forward_pre_hooks):\n\u001b[1;32m-> 1501\u001b[0m     \u001b[38;5;28;01mreturn\u001b[39;00m forward_call(\u001b[38;5;241m*\u001b[39margs, \u001b[38;5;241m*\u001b[39m\u001b[38;5;241m*\u001b[39mkwargs)\n\u001b[0;32m   1502\u001b[0m \u001b[38;5;66;03m# Do not call functions when jit is used\u001b[39;00m\n\u001b[0;32m   1503\u001b[0m full_backward_hooks, non_full_backward_hooks \u001b[38;5;241m=\u001b[39m [], []\n",
      "File \u001b[1;32m~\\miniconda3\\lib\\site-packages\\torch\\nn\\modules\\conv.py:956\u001b[0m, in \u001b[0;36mConvTranspose2d.forward\u001b[1;34m(self, input, output_size)\u001b[0m\n\u001b[0;32m    951\u001b[0m num_spatial_dims \u001b[38;5;241m=\u001b[39m \u001b[38;5;241m2\u001b[39m\n\u001b[0;32m    952\u001b[0m output_padding \u001b[38;5;241m=\u001b[39m \u001b[38;5;28mself\u001b[39m\u001b[38;5;241m.\u001b[39m_output_padding(\n\u001b[0;32m    953\u001b[0m     \u001b[38;5;28minput\u001b[39m, output_size, \u001b[38;5;28mself\u001b[39m\u001b[38;5;241m.\u001b[39mstride, \u001b[38;5;28mself\u001b[39m\u001b[38;5;241m.\u001b[39mpadding, \u001b[38;5;28mself\u001b[39m\u001b[38;5;241m.\u001b[39mkernel_size,  \u001b[38;5;66;03m# type: ignore[arg-type]\u001b[39;00m\n\u001b[0;32m    954\u001b[0m     num_spatial_dims, \u001b[38;5;28mself\u001b[39m\u001b[38;5;241m.\u001b[39mdilation)  \u001b[38;5;66;03m# type: ignore[arg-type]\u001b[39;00m\n\u001b[1;32m--> 956\u001b[0m \u001b[38;5;28;01mreturn\u001b[39;00m \u001b[43mF\u001b[49m\u001b[38;5;241;43m.\u001b[39;49m\u001b[43mconv_transpose2d\u001b[49m\u001b[43m(\u001b[49m\n\u001b[0;32m    957\u001b[0m \u001b[43m    \u001b[49m\u001b[38;5;28;43minput\u001b[39;49m\u001b[43m,\u001b[49m\u001b[43m \u001b[49m\u001b[38;5;28;43mself\u001b[39;49m\u001b[38;5;241;43m.\u001b[39;49m\u001b[43mweight\u001b[49m\u001b[43m,\u001b[49m\u001b[43m \u001b[49m\u001b[38;5;28;43mself\u001b[39;49m\u001b[38;5;241;43m.\u001b[39;49m\u001b[43mbias\u001b[49m\u001b[43m,\u001b[49m\u001b[43m \u001b[49m\u001b[38;5;28;43mself\u001b[39;49m\u001b[38;5;241;43m.\u001b[39;49m\u001b[43mstride\u001b[49m\u001b[43m,\u001b[49m\u001b[43m \u001b[49m\u001b[38;5;28;43mself\u001b[39;49m\u001b[38;5;241;43m.\u001b[39;49m\u001b[43mpadding\u001b[49m\u001b[43m,\u001b[49m\n\u001b[0;32m    958\u001b[0m \u001b[43m    \u001b[49m\u001b[43moutput_padding\u001b[49m\u001b[43m,\u001b[49m\u001b[43m \u001b[49m\u001b[38;5;28;43mself\u001b[39;49m\u001b[38;5;241;43m.\u001b[39;49m\u001b[43mgroups\u001b[49m\u001b[43m,\u001b[49m\u001b[43m \u001b[49m\u001b[38;5;28;43mself\u001b[39;49m\u001b[38;5;241;43m.\u001b[39;49m\u001b[43mdilation\u001b[49m\u001b[43m)\u001b[49m\n",
      "\u001b[1;31mRuntimeError\u001b[0m: Given transposed=1, weight of size [64, 32, 3, 3], expected input[5, 32, 28, 28] to have 64 channels, but got 32 channels instead"
     ]
    }
   ],
   "source": [
    "latent_centers = torch.from_numpy(kmeans.cluster_centers_.reshape(n_clusters, 32, 28, 28).astype('float32')).to(device)\n",
    "valid_recon = vqae.decoder(latent_centers)\n",
    "valid_recon"
   ]
  },
  {
   "cell_type": "markdown",
   "id": "abcb637d",
   "metadata": {
    "tags": []
   },
   "source": [
    "# Visualize and Save Reconstruction Image"
   ]
  },
  {
   "cell_type": "code",
   "execution_count": 13,
   "id": "a304d8cd",
   "metadata": {},
   "outputs": [
    {
     "data": {
      "text/plain": [
       "'../data/data_root/data00/18753.pt'"
      ]
     },
     "execution_count": 13,
     "metadata": {},
     "output_type": "execute_result"
    }
   ],
   "source": [
    "floor.all_data_dirs[8834]"
   ]
  },
  {
   "cell_type": "code",
   "execution_count": 188,
   "id": "11930594-e297-4ff6-800d-af2052aababe",
   "metadata": {},
   "outputs": [
    {
     "data": {
      "text/plain": [
       "(5, 25088)"
      ]
     },
     "execution_count": 188,
     "metadata": {},
     "output_type": "execute_result"
    }
   ],
   "source": [
    "kmeans.cluster_centers_.shape"
   ]
  },
  {
   "cell_type": "code",
   "execution_count": 190,
   "id": "7435bbb3-52cb-48f1-a8a0-5d94e0711f8e",
   "metadata": {},
   "outputs": [
    {
     "data": {
      "text/plain": [
       "12544"
      ]
     },
     "execution_count": 190,
     "metadata": {},
     "output_type": "execute_result"
    }
   ],
   "source": [
    "64*14*14"
   ]
  },
  {
   "cell_type": "code",
   "execution_count": 19,
   "id": "735a47a1",
   "metadata": {},
   "outputs": [
    {
     "name": "stderr",
     "output_type": "stream",
     "text": [
      "Clipping input data to the valid range for imshow with RGB data ([0..1] for floats or [0..255] for integers).\n"
     ]
    },
    {
     "data": {
      "image/png": "[encoded data removed]",
      "text/plain": [
       "<Figure size 432x288 with 1 Axes>"
      ]
     },
     "metadata": {
      "needs_background": "light"
     },
     "output_type": "display_data"
    }
   ],
   "source": [
    "latent_centers = torch.from_numpy(kmeans.cluster_centers_.reshape(n_clusters, 32, 28, 28).astype('float32')).to(device)\n",
    "vqae.eval()\n",
    "valid_recon = vqae.decoder(latent_centers)\n",
    "def show(img, title):\n",
    "    npimg = img.numpy()\n",
    "    fig = plt.imshow(np.transpose(npimg, (1,2,0)), interpolation='nearest')\n",
    "    fig.axes.get_xaxis().set_visible(False)\n",
    "    fig.axes.get_yaxis().set_visible(False)\n",
    "    fig.axes.set_title(title)\n",
    "plt.figure()  # Create a new plot\n",
    "show(torchvision.utils.make_grid(valid_recon.cpu().data) + 0.5, \"VQ-VAE Reconstructed\")\n",
    "plt.savefig(f\"{n_clusters}_VQrecon.png\", bbox_inches='tight')"
   ]
  },
  {
   "cell_type": "code",
   "execution_count": 20,
   "id": "1d613f20",
   "metadata": {},
   "outputs": [
    {
     "name": "stdout",
     "output_type": "stream",
     "text": [
      "save to results/recon_img/*.jpg\n"
     ]
    }
   ],
   "source": [
    "def rescale_img(img): #B,C,H,W\n",
    "    rescale = transforms.Compose([transforms.Resize(112),\n",
    "                                  transforms.Pad(56, fill=1.0)])\n",
    "    return rescale(img)\n",
    "rescaled_recon = rescale_img(valid_recon+0.5)\n",
    "\n",
    "for i in range(rescaled_recon.shape[0]):\n",
    "    save_image(rescaled_recon[i], f'../results/recon_img/{n_clusters}cluster-img{i}.jpg')\n",
    "    \n",
    "print('save to results/recon_img/*.jpg')"
   ]
  },
  {
   "cell_type": "markdown",
   "id": "c8cdc612-c323-4665-aee3-b27a48c8960f",
   "metadata": {
    "tags": []
   },
   "source": [
    "### For rhino mapping-back "
   ]
  },
  {
   "cell_type": "code",
   "execution_count": 22,
   "id": "c2e0ccee-ef56-4e5e-b4c2-1294b1a0817c",
   "metadata": {},
   "outputs": [],
   "source": [
    "import glob\n",
    "import cv2\n",
    "import os\n",
    "import numpy as np\n",
    "import torchvision.transforms.functional as TF\n",
    "import imageio\n",
    "import matplotlib.pyplot as plt"
   ]
  },
  {
   "cell_type": "code",
   "execution_count": 23,
   "id": "9c3f601b-527d-4529-acec-164929cda902",
   "metadata": {},
   "outputs": [
    {
     "name": "stdout",
     "output_type": "stream",
     "text": [
      "5cluster-img0.jpg\n",
      "5cluster-img0_rectangle.jpg\n",
      "5cluster-img1.jpg\n",
      "5cluster-img1_rectangle.jpg\n",
      "5cluster-img2.jpg\n",
      "5cluster-img2_rectangle.jpg\n",
      "5cluster-img3.jpg\n",
      "5cluster-img3_rectangle.jpg\n",
      "5cluster-img4.jpg\n",
      "5cluster-img4_rectangle.jpg\n"
     ]
    }
   ],
   "source": [
    "folder_path = \"../results/recon_img/\"  \n",
    "img_files = []\n",
    "for filename in os.listdir(folder_path):\n",
    "    if \"5cluster\" in filename:\n",
    "        print(filename)\n",
    "        img_files.append(filename)"
   ]
  },
  {
   "cell_type": "code",
   "execution_count": 24,
   "id": "91989926",
   "metadata": {},
   "outputs": [
    {
     "name": "stdout",
     "output_type": "stream",
     "text": [
      "5cluster-img0.jpg\n",
      "224 224 3\n",
      "../results/recon_img/5cluster-img0_rectangle.jpg\n",
      "5cluster-img0_rectangle.jpg\n",
      "224 224 3\n",
      "../results/recon_img/5cluster-img0_rectangle_rectangle.jpg\n",
      "5cluster-img1.jpg\n",
      "224 224 3\n",
      "../results/recon_img/5cluster-img1_rectangle.jpg\n",
      "5cluster-img1_rectangle.jpg\n",
      "224 224 3\n",
      "../results/recon_img/5cluster-img1_rectangle_rectangle.jpg\n",
      "5cluster-img2.jpg\n",
      "224 224 3\n",
      "../results/recon_img/5cluster-img2_rectangle.jpg\n",
      "5cluster-img2_rectangle.jpg\n",
      "224 224 3\n",
      "../results/recon_img/5cluster-img2_rectangle_rectangle.jpg\n",
      "5cluster-img3.jpg\n",
      "224 224 3\n",
      "../results/recon_img/5cluster-img3_rectangle.jpg\n",
      "5cluster-img3_rectangle.jpg\n",
      "224 224 3\n",
      "../results/recon_img/5cluster-img3_rectangle_rectangle.jpg\n",
      "5cluster-img4.jpg\n",
      "224 224 3\n",
      "../results/recon_img/5cluster-img4_rectangle.jpg\n",
      "5cluster-img4_rectangle.jpg\n",
      "224 224 3\n",
      "../results/recon_img/5cluster-img4_rectangle_rectangle.jpg\n"
     ]
    }
   ],
   "source": [
    "def calc_height(image_path):\n",
    "    print(image_path)\n",
    "    fullpath = f\"../results/recon_img/\"+str(image_path)\n",
    "    image = cv2.imread(fullpath)\n",
    "    height, width, channels = image.shape\n",
    "    print(height, width, channels)\n",
    "    \n",
    "    # Calculate the starting and ending indices for the central region\n",
    "    start = (height - central_region_size) // 2\n",
    "    end = start + central_region_size\n",
    "    \n",
    "    # Get the average pixel value in the central region for each channel\n",
    "    central_region = image[start:end, start:end, :]\n",
    "    average_pixel_value = np.mean(central_region, axis=(0,1))\n",
    "    \n",
    "    # Draw a red rectangle around the central region\n",
    "    img_with_rectangle = np.copy(image)\n",
    "    cv2.rectangle(img_with_rectangle, (start, start), (end, end), (0, 0, 255), 2)  # Draw red rectangle\n",
    "    \n",
    "    # Save the image with the red rectangle\n",
    "    image_with_rectangle_path = fullpath.replace(\".jpg\", \"_rectangle.jpg\")  # Update the path as per your requirement\n",
    "    imageio.imwrite(image_with_rectangle_path, img_with_rectangle)\n",
    "    print(image_with_rectangle_path)\n",
    "    return average_pixel_value\n",
    "\n",
    "central_region_size = 10\n",
    "height_info = []\n",
    "for image_path in img_files:\n",
    "    average_pixel_value = calc_height(image_path)\n",
    "    height_info.append(average_pixel_value[0])"
   ]
  },
  {
   "cell_type": "code",
   "execution_count": 25,
   "id": "53620474-4254-4c5c-ab59-1925a0f2cb4f",
   "metadata": {},
   "outputs": [
    {
     "data": {
      "text/plain": [
       "[170.12, 206.37, 176.69, 209.12, 132.11, 187.8, 177.97, 206.41, 213.68, 217.87]"
      ]
     },
     "execution_count": 25,
     "metadata": {},
     "output_type": "execute_result"
    }
   ],
   "source": [
    "height_info"
   ]
  },
  {
   "cell_type": "code",
   "execution_count": 26,
   "id": "69b2f48b-1746-4288-ac6c-087d09fb9170",
   "metadata": {},
   "outputs": [],
   "source": [
    "# Loop through each image\n",
    "image_paths = glob.glob('recon_img/*.png')\n",
    "lower_thres = 0.3\n",
    "higher_thres = 0.7\n",
    "for image_path in image_paths:\n",
    "    image = cv2.imread(image_path)\n",
    "    gray = cv2.cvtColor(image, cv2.COLOR_BGR2GRAY)\n",
    "    gray = cv2.convertScaleAbs(gray)\n",
    "    edges = cv2.Canny(gray, lower_thres, higher_thres)  # Adjust the threshold values as needed\n",
    "\n",
    "    # Save the edge image\n",
    "    filename = os.path.splitext(os.path.basename(image_path))[0]  # Extract the filename without extension\n",
    "    edge_image_path = f'edge_img/{filename}_edge.jpg'\n",
    "    cv2.imwrite(edge_image_path, edges)"
   ]
  },
  {
   "cell_type": "markdown",
   "id": "08e791db-6d44-4ccb-a080-e2dca6e348c7",
   "metadata": {},
   "source": [
    "### get aggregated area"
   ]
  },
  {
   "cell_type": "code",
   "execution_count": 72,
   "id": "271733d9-1341-4821-835b-a8657f76c5c4",
   "metadata": {},
   "outputs": [],
   "source": []
  },
  {
   "cell_type": "code",
   "execution_count": 77,
   "id": "9412a8f6-42e8-4e66-bdf0-bd8fc65dbecc",
   "metadata": {},
   "outputs": [],
   "source": []
  },
  {
   "cell_type": "code",
   "execution_count": 72,
   "id": "d4698b9b-b201-4e34-9e5f-bc185265fb67",
   "metadata": {},
   "outputs": [],
   "source": [
    "def get_csv_df(index):\n",
    "    desired_number = str(index)\n",
    "    for filename in os.listdir(directory_path):\n",
    "        if desired_number in filename:\n",
    "            file_path = os.path.join(directory_path, filename)\n",
    "            csv_df = pd.read_csv(file_path,index_col=None)\n",
    "            csv_df['index'] = csv_df['data'].str.extract(r'(\\d+)\\.pt')\n",
    "            csv_df['index']=csv_df['index'].astype(int)\n",
    "    return csv_df"
   ]
  },
  {
   "cell_type": "code",
   "execution_count": 104,
   "id": "a2ac234c-45fc-4d27-8860-f7c17bb9f876",
   "metadata": {},
   "outputs": [],
   "source": [
    "def calculate_aggregated_areas(csv_df):\n",
    "    desired_features = []\n",
    "    for feature in jsonfile['features']:\n",
    "        if feature['properties']['OBJECTID'] in csv_df['index'].values:\n",
    "            desired_features.append(feature)\n",
    "\n",
    "    # Extract information for objectID, areas, and heights from desired features\n",
    "    objectID_list = []\n",
    "    footprint_list = []\n",
    "    area_list = []\n",
    "    height_list = []\n",
    "\n",
    "    for feature in desired_features:\n",
    "        objectID = feature['properties']['OBJECTID']\n",
    "        footprint = feature['properties']['footprint']\n",
    "        area = feature['properties']['Shape_Area_1']\n",
    "        height = feature['properties']['HEIGHT']\n",
    "\n",
    "        objectID_list.append(objectID)\n",
    "        footprint_list.append(footprint)\n",
    "        area_list.append(area)\n",
    "        height_list.append(height)\n",
    "\n",
    "        # Create a new DataFrame from the extracted information\n",
    "        json_df = pd.DataFrame({\n",
    "            'objectID': objectID_list,\n",
    "            'footprint': footprint_list,\n",
    "            'area': area_list,\n",
    "            'height': height_list\n",
    "        })\n",
    "    merged_df = json_df.merge(csv_df, left_on='objectID', right_on='index')\n",
    "    sum_of_area = merged_df['area'].sum()\n",
    "    return sum_of_area, merged_df"
   ]
  },
  {
   "cell_type": "code",
   "execution_count": 125,
   "id": "5e8209a0-de63-4ae7-9d7e-47c6dbc716cb",
   "metadata": {},
   "outputs": [],
   "source": [
    "def get_sum_of_area():\n",
    "    merged_df = csv_df.merge(objectid_ref_df, left_on='index', right_on='OBJECTID')\n",
    "    print(f\"csv_df shape = {csv_df.shape}, objectid_ref_df = {objectid_ref_df.shape}\")\n",
    "    print(f\"merged_df shape = {merged_df.shape}\")\n",
    "    sum_of_area = merged_df['building.area.m2'].sum()\n",
    "    return sum_of_area"
   ]
  },
  {
   "cell_type": "code",
   "execution_count": 126,
   "id": "813f6f7c-88f0-432d-9d8f-e3e34a0957f3",
   "metadata": {},
   "outputs": [
    {
     "name": "stderr",
     "output_type": "stream",
     "text": [
      "100%|████████████████████████████████████████████████████████████████████████████████████| 5/5 [00:00<00:00, 39.52it/s]"
     ]
    },
    {
     "name": "stdout",
     "output_type": "stream",
     "text": [
      "csv_df shape = (4259, 7), objectid_ref_df = (13367, 5)\n",
      "merged_df shape = (4259, 12)\n",
      "csv_df shape = (2730, 7), objectid_ref_df = (13367, 5)\n",
      "merged_df shape = (2730, 12)\n",
      "csv_df shape = (852, 7), objectid_ref_df = (13367, 5)\n",
      "merged_df shape = (852, 12)\n",
      "csv_df shape = (4423, 7), objectid_ref_df = (13367, 5)\n",
      "merged_df shape = (4423, 12)\n",
      "csv_df shape = (1105, 7), objectid_ref_df = (13367, 5)\n",
      "merged_df shape = (1105, 12)\n"
     ]
    },
    {
     "name": "stderr",
     "output_type": "stream",
     "text": [
      "\n"
     ]
    }
   ],
   "source": [
    "sum_of_area_list = []\n",
    "json_file_path = r\"..\\data\\data_root\\geojson_0.json\"\n",
    "directory_path = r'../results/area_aggregation'  # Use r prefix for raw string\n",
    "# Create an empty DataFrame to store the objectIDs\n",
    "objectID_df = pd.DataFrame(columns=[0])\n",
    "# Load the JSON data from the file\n",
    "with open(json_file_path) as file:\n",
    "    jsonfile = json.load(file)\n",
    "    \n",
    "for index in tqdm(num_indexes):\n",
    "    csv_df = get_csv_df(index)\n",
    "    # filtered_df = csv_df[csv_df['index'].isin(objectid_ref_df['OBJECTID'])]\n",
    "    # print(filtered_df.shape)\n",
    "    # sum_of_area, merged_df=calculate_aggregated_areas(filtered_df)\n",
    "    sum_of_area = get_sum_of_area()\n",
    "    sum_of_area_list.append(sum_of_area)\n",
    "    # merged_df.to_csv(f'../results/area_aggregation/5cluster_{index}_merged.csv',index=False)\n",
    "    # objectID_df = pd.concat([objectID_df, merged_df['objectID']], ignore_index=True)\n",
    "# objectID_df.to_csv('../results/area_aggregation/objectID.csv', index=False)"
   ]
  },
  {
   "cell_type": "code",
   "execution_count": 129,
   "id": "00e00b6f-37b1-44dc-a454-1440faadc0bb",
   "metadata": {},
   "outputs": [
    {
     "data": {
      "text/plain": [
       "[1141716.3815,\n",
       " 728261.4942000001,\n",
       " 243567.91410000002,\n",
       " 1193941.6029,\n",
       " 291030.5241]"
      ]
     },
     "execution_count": 129,
     "metadata": {},
     "output_type": "execute_result"
    }
   ],
   "source": [
    "sum_of_area_list"
   ]
  },
  {
   "cell_type": "code",
   "execution_count": 113,
   "id": "ae70c177-5500-4e87-95b9-8bb9fb933685",
   "metadata": {},
   "outputs": [
    {
     "data": {
      "text/html": [
       "<div>\n",
       "<style scoped>\n",
       "    .dataframe tbody tr th:only-of-type {\n",
       "        vertical-align: middle;\n",
       "    }\n",
       "\n",
       "    .dataframe tbody tr th {\n",
       "        vertical-align: top;\n",
       "    }\n",
       "\n",
       "    .dataframe thead th {\n",
       "        text-align: right;\n",
       "    }\n",
       "</style>\n",
       "<table border=\"1\" class=\"dataframe\">\n",
       "  <thead>\n",
       "    <tr style=\"text-align: right;\">\n",
       "      <th></th>\n",
       "      <th>Unnamed: 0</th>\n",
       "      <th>OBJECTID</th>\n",
       "      <th>idf.kw</th>\n",
       "      <th>FootprintArea.m2</th>\n",
       "      <th>building.area.m2</th>\n",
       "    </tr>\n",
       "  </thead>\n",
       "  <tbody>\n",
       "    <tr>\n",
       "      <th>0</th>\n",
       "      <td>11</td>\n",
       "      <td>37</td>\n",
       "      <td>SingleFamily-pre-1980</td>\n",
       "      <td>91.316398</td>\n",
       "      <td>69.3963</td>\n",
       "    </tr>\n",
       "    <tr>\n",
       "      <th>1</th>\n",
       "      <td>14</td>\n",
       "      <td>46</td>\n",
       "      <td>SingleFamily-2004</td>\n",
       "      <td>99.909763</td>\n",
       "      <td>193.0462</td>\n",
       "    </tr>\n",
       "    <tr>\n",
       "      <th>2</th>\n",
       "      <td>20</td>\n",
       "      <td>52</td>\n",
       "      <td>MultiFamily-pre-1980</td>\n",
       "      <td>94.014890</td>\n",
       "      <td>189.7018</td>\n",
       "    </tr>\n",
       "    <tr>\n",
       "      <th>3</th>\n",
       "      <td>24</td>\n",
       "      <td>57</td>\n",
       "      <td>SingleFamily-pre-1980</td>\n",
       "      <td>341.028058</td>\n",
       "      <td>314.1878</td>\n",
       "    </tr>\n",
       "    <tr>\n",
       "      <th>4</th>\n",
       "      <td>28</td>\n",
       "      <td>63</td>\n",
       "      <td>SingleFamily-2004</td>\n",
       "      <td>268.205501</td>\n",
       "      <td>325.5216</td>\n",
       "    </tr>\n",
       "    <tr>\n",
       "      <th>...</th>\n",
       "      <td>...</td>\n",
       "      <td>...</td>\n",
       "      <td>...</td>\n",
       "      <td>...</td>\n",
       "      <td>...</td>\n",
       "    </tr>\n",
       "    <tr>\n",
       "      <th>13362</th>\n",
       "      <td>15476</td>\n",
       "      <td>25638</td>\n",
       "      <td>SingleFamily-pre-1980</td>\n",
       "      <td>227.679816</td>\n",
       "      <td>121.2345</td>\n",
       "    </tr>\n",
       "    <tr>\n",
       "      <th>13363</th>\n",
       "      <td>15477</td>\n",
       "      <td>25642</td>\n",
       "      <td>MultiFamily-pre-1980</td>\n",
       "      <td>62.026620</td>\n",
       "      <td>262.0709</td>\n",
       "    </tr>\n",
       "    <tr>\n",
       "      <th>13364</th>\n",
       "      <td>15478</td>\n",
       "      <td>25643</td>\n",
       "      <td>MultiFamily-2004</td>\n",
       "      <td>129.942767</td>\n",
       "      <td>464.5000</td>\n",
       "    </tr>\n",
       "    <tr>\n",
       "      <th>13365</th>\n",
       "      <td>15479</td>\n",
       "      <td>25644</td>\n",
       "      <td>SingleFamily-pre-1980</td>\n",
       "      <td>164.018356</td>\n",
       "      <td>176.6958</td>\n",
       "    </tr>\n",
       "    <tr>\n",
       "      <th>13366</th>\n",
       "      <td>15480</td>\n",
       "      <td>25645</td>\n",
       "      <td>SingleFamily-pre-1980</td>\n",
       "      <td>103.109725</td>\n",
       "      <td>103.5835</td>\n",
       "    </tr>\n",
       "  </tbody>\n",
       "</table>\n",
       "<p>13367 rows × 5 columns</p>\n",
       "</div>"
      ],
      "text/plain": [
       "       Unnamed: 0  OBJECTID                 idf.kw  FootprintArea.m2  \\\n",
       "0              11        37  SingleFamily-pre-1980         91.316398   \n",
       "1              14        46      SingleFamily-2004         99.909763   \n",
       "2              20        52   MultiFamily-pre-1980         94.014890   \n",
       "3              24        57  SingleFamily-pre-1980        341.028058   \n",
       "4              28        63      SingleFamily-2004        268.205501   \n",
       "...           ...       ...                    ...               ...   \n",
       "13362       15476     25638  SingleFamily-pre-1980        227.679816   \n",
       "13363       15477     25642   MultiFamily-pre-1980         62.026620   \n",
       "13364       15478     25643       MultiFamily-2004        129.942767   \n",
       "13365       15479     25644  SingleFamily-pre-1980        164.018356   \n",
       "13366       15480     25645  SingleFamily-pre-1980        103.109725   \n",
       "\n",
       "       building.area.m2  \n",
       "0               69.3963  \n",
       "1              193.0462  \n",
       "2              189.7018  \n",
       "3              314.1878  \n",
       "4              325.5216  \n",
       "...                 ...  \n",
       "13362          121.2345  \n",
       "13363          262.0709  \n",
       "13364          464.5000  \n",
       "13365          176.6958  \n",
       "13366          103.5835  \n",
       "\n",
       "[13367 rows x 5 columns]"
      ]
     },
     "execution_count": 113,
     "metadata": {},
     "output_type": "execute_result"
    }
   ],
   "source": [
    "objectid_ref_df"
   ]
  },
  {
   "cell_type": "code",
   "execution_count": 114,
   "id": "4d6660c9-b09b-40e8-bc16-b79e3b153fa7",
   "metadata": {},
   "outputs": [
    {
     "data": {
      "text/plain": [
       "Unnamed: 0                                                  107901183\n",
       "OBJECTID                                                    187510622\n",
       "idf.kw              SingleFamily-pre-1980SingleFamily-2004MultiFam...\n",
       "FootprintArea.m2                                       3274820.381714\n",
       "building.area.m2                                          3597987.272\n",
       "dtype: object"
      ]
     },
     "execution_count": 114,
     "metadata": {},
     "output_type": "execute_result"
    }
   ],
   "source": [
    "objectid_ref_df.sum()"
   ]
  },
  {
   "cell_type": "code",
   "execution_count": 130,
   "id": "4e719f82-0c44-4310-a686-c4e812126903",
   "metadata": {},
   "outputs": [
    {
     "data": {
      "text/plain": [
       "[1141716.3815,\n",
       " 728261.4942000001,\n",
       " 243567.91410000002,\n",
       " 1193941.6029,\n",
       " 291030.5241]"
      ]
     },
     "execution_count": 130,
     "metadata": {},
     "output_type": "execute_result"
    }
   ],
   "source": [
    "sum_of_area_list"
   ]
  },
  {
   "cell_type": "code",
   "execution_count": 132,
   "id": "4f6d51db-50c3-4a89-80be-e7c1a279fcba",
   "metadata": {},
   "outputs": [],
   "source": [
    "new_df = pd.DataFrame({'index': num_indexes, 'area': sum_of_area_list})\n",
    "new_df.to_csv('area_aggregation_kmeans_5.csv')"
   ]
  }
 ],
 "metadata": {
  "kernelspec": {
   "display_name": "Python 3 (ipykernel)",
   "language": "python",
   "name": "python3"
  },
  "language_info": {
   "codemirror_mode": {
    "name": "ipython",
    "version": 3
   },
   "file_extension": ".py",
   "mimetype": "text/x-python",
   "name": "python",
   "nbconvert_exporter": "python",
   "pygments_lexer": "ipython3",
   "version": "3.10.10"
  }
 },
 "nbformat": 4,
 "nbformat_minor": 5
}
